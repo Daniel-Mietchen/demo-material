{
 "cells": [
  {
   "cell_type": "code",
   "execution_count": 1,
   "metadata": {},
   "outputs": [
    {
     "data": {
      "text/plain": [
       "'Fri Dec 21 18:08:46 2018'"
      ]
     },
     "execution_count": 1,
     "metadata": {},
     "output_type": "execute_result"
    }
   ],
   "source": [
    "import time\n",
    "time.ctime()"
   ]
  },
  {
   "cell_type": "markdown",
   "metadata": {},
   "source": [
    "Dieses IPython-Notebook basiert auf einer Beispiel-Rechnung als Ergänzung zur [Dissertationsschrift von C. Knoll](http://www.qucosa.de/fileadmin/data/qucosa/documents/20976/knoll_dissertation_digital.pdf). Allgemeine Hinweise zu den Beispielen sind in der [readme.md-Datei des entsprechenden Repositoriums](https://github.com/cknoll/beispiele/blob/master/readme.md) zu finden.\n",
    "\n",
    "Dieses Notebook benötigt folgende Module (am einfachsten per `pip install <modulname>` zu installieren):\n",
    "* sympy\n",
    "* https://github.com/TUD-RST/symbtools\n",
    "* https://github.com/cknoll/ipydex\n",
    "\n",
    "\n",
    "---"
   ]
  },
  {
   "cell_type": "markdown",
   "metadata": {},
   "source": [
    "**Betrachtetes System**: Ein Pendel mit horizontal verschieblicher Aufhängung (\"Wagen-Pendel-System\")\n",
    "\n",
    "￼ <img src=\"files/images/pendel_wagen.png\">\n",
    "\n",
    "**Inhalt**:\n",
    "* Herleitung der Modellgleichungen in partiell linearisierter Form\n",
    "* Transformation in Byrnes-Isidori-Normalform\n",
    "\n",
    "**Bemerkung**\n",
    "\n",
    "Das Notebook dient zur Demonstration, dass die rechenaufwendigen Transformationen sehr von einem Computer-Algebra-System (CAS) durchgeführt werden können. Im vorliegenden fall wird `sympy` als CAS verwendet. Im Paket `symbtools` und speziell in dessen Modul `modeltools` ist die Funktionalität für die Transformationen implementiert (Siehe dessen Quelltext).\n",
    "Die verwendete Notation erklärt sich folgendermaßen: $\\theta_i$ bezeichnet alle Konfigurationskoordinaten, $p_i$ die nicht-aktuierten und $q_i$ die aktuierten (jeweils für passende Werte von $i$).\n",
    "\n",
    "\n",
    "[//]: # (custom_config_start)\n",
    "$$\n",
    "\\newcommand{\\d}{\\mathrm{d}}\n",
    "\\newcommand{\\col}{\\mathrm{col}}\n",
    "\\newcommand{\\bs}{\\boldsymbol}\n",
    "\\newcommand{\\Ddt}{\\left(\\tfrac{d}{dt}\\right)}\n",
    "\\newcommand{\\ddt}{\\tfrac{d}{dt}}\n",
    "$$\n",
    "\n",
    "[//]: # (custom_config_end)"
   ]
  },
  {
   "cell_type": "code",
   "execution_count": 2,
   "metadata": {},
   "outputs": [],
   "source": [
    "%load_ext ipydex.displaytools\n",
    "%matplotlib inline\n",
    "\n",
    "import sympy as sp\n",
    "from sympy import sin, cos, pi\n",
    "from sympy.interactive import printing\n",
    "import pickle\n",
    "from scipy.integrate import odeint\n",
    "\n",
    "import symbtools as st\n",
    "import symbtools.modeltools as mt\n",
    "import symbtools.noncommutativetools as nct\n",
    "\n",
    "zip0 = st.zip0\n",
    "printing.init_printing(1)"
   ]
  },
  {
   "cell_type": "code",
   "execution_count": 3,
   "metadata": {},
   "outputs": [
    {
     "data": {
      "image/png": "[encoded data removed]",
      "text/latex": [
       "$$\\verb|ttheta.T| := \\left[\\begin{matrix}p_{1} & q_{1}\\end{matrix}\\right]$$"
      ],
      "text/plain": [
       "ttheta.T := [p₁  q₁]"
      ]
     },
     "metadata": {},
     "output_type": "display_data"
    },
    {
     "name": "stdout",
     "output_type": "stream",
     "text": [
      "---\n"
     ]
    },
    {
     "data": {
      "image/png": "[encoded data removed]",
      "text/latex": [
       "$$\\verb|tthetad.T| := \\left[\\begin{matrix}\\dot{p}_{1} & \\dot{q}_{1}\\end{matrix}\\right]$$"
      ],
      "text/plain": [
       "tthetad.T := [ṗ₁  q̇₁]"
      ]
     },
     "metadata": {},
     "output_type": "display_data"
    },
    {
     "name": "stdout",
     "output_type": "stream",
     "text": [
      "---\n"
     ]
    },
    {
     "data": {
      "image/png": "[encoded data removed]",
      "text/latex": [
       "$$\\verb|tthetadd.T| := \\left[\\begin{matrix}\\ddot{p}_{1} & \\ddot{q}_{1}\\end{matrix}\\right]$$"
      ],
      "text/plain": [
       "tthetadd.T := [p̈₁  q̈₁]"
      ]
     },
     "metadata": {},
     "output_type": "display_data"
    },
    {
     "name": "stdout",
     "output_type": "stream",
     "text": [
      "---\n"
     ]
    }
   ],
   "source": [
    "t = sp.Symbol('t')\n",
    "Np = 1\n",
    "Nq = 1\n",
    "n = Np + Nq\n",
    "pp = st.symb_vector(\"p1:{0}\".format(Np+1))\n",
    "qq = st.symb_vector(\"q1:{0}\".format(Nq+1))\n",
    "aa = st.symb_vector(\"a1:{0}\".format(Nq+1))\n",
    "ww = st.symb_vector(\"w1:{0}\".format(Nq+1))\n",
    "\n",
    "ttheta = st.row_stack(pp, qq) ##:T\n",
    "tthetad = st.time_deriv(ttheta, ttheta) ##:T\n",
    "tthetadd = st.time_deriv(ttheta, ttheta, order=2) ##:T\n",
    "st.make_global(ttheta, tthetad, tthetadd)"
   ]
  },
  {
   "cell_type": "code",
   "execution_count": 4,
   "metadata": {},
   "outputs": [],
   "source": [
    "# Systemparameter und virtueller Eingang (wird später gebraucht)\n",
    "params = sp.symbols('m1, m2, s2, g, v')\n",
    "st.make_global(params)\n",
    "\n",
    "tau1 = sp.Symbol(\"tau1\")"
   ]
  },
  {
   "cell_type": "markdown",
   "metadata": {},
   "source": [
    "### Festlegung der Geometrie des mechanischen Systemes"
   ]
  },
  {
   "cell_type": "code",
   "execution_count": 5,
   "metadata": {},
   "outputs": [
    {
     "data": {
      "image/png": "[encoded data removed]",
      "text/latex": [
       "$$\\left[\\begin{matrix}\\dot{q}_{1}\\\\0\\end{matrix}\\right]$$"
      ],
      "text/plain": [
       "⎡q̇₁⎤\n",
       "⎢   ⎥\n",
       "⎣ 0 ⎦"
      ]
     },
     "metadata": {},
     "output_type": "display_data"
    },
    {
     "data": {
      "image/png": "[encoded data removed]",
      "text/latex": [
       "$$\\left[\\begin{matrix}\\dot{p}_{1} s_{2} \\cos{\\left (p_{1} \\right )} + \\dot{q}_{1}\\\\\\dot{p}_{1} s_{2} \\sin{\\left (p_{1} \\right )}\\end{matrix}\\right]$$"
      ],
      "text/plain": [
       "⎡ṗ₁⋅s₂⋅cos(p₁) + q̇₁⎤\n",
       "⎢                    ⎥\n",
       "⎣   ṗ₁⋅s₂⋅sin(p₁)   ⎦"
      ]
     },
     "metadata": {},
     "output_type": "display_data"
    },
    {
     "name": "stdout",
     "output_type": "stream",
     "text": [
      "---\n"
     ]
    }
   ],
   "source": [
    "#Einheitsvektoren\n",
    "\n",
    "ex = sp.Matrix([1, 0])\n",
    "ey = sp.Matrix([0, 1])\n",
    "\n",
    "\n",
    "# Koordinaten der Schwerpunkte und Gelenke\n",
    "\n",
    "S1 = ex*q1 # Schwerpunkt Wagen\n",
    "G2 = S1 # Pendel-Gelenk\n",
    "\n",
    "# Schwerpunkt des Pendels (Pendel zeigt für kleine Winkel nach unten)\n",
    "S2 = G2 + mt.Rz(p1)*(-ey)*s2\n",
    "\n",
    "# Zeitableitungen der Schwerpunktskoordinaten\n",
    "Sd1, Sd2  = st.col_split(st.time_deriv(st.col_stack(S1, S2), ttheta)) ##"
   ]
  },
  {
   "cell_type": "code",
   "execution_count": 6,
   "metadata": {},
   "outputs": [
    {
     "data": {
      "image/png": "[encoded data removed]",
      "text/latex": [
       "$$\\left[\\begin{matrix}q_{1} + s_{2} \\sin{\\left (p_{1} \\right )}\\\\- s_{2} \\cos{\\left (p_{1} \\right )}\\end{matrix}\\right]$$"
      ],
      "text/plain": [
       "⎡q₁ + s₂⋅sin(p₁)⎤\n",
       "⎢               ⎥\n",
       "⎣  -s₂⋅cos(p₁)  ⎦"
      ]
     },
     "execution_count": 6,
     "metadata": {},
     "output_type": "execute_result"
    }
   ],
   "source": [
    "S2"
   ]
  },
  {
   "cell_type": "code",
   "execution_count": 7,
   "metadata": {},
   "outputs": [],
   "source": [
    "# Energie\n",
    "T_rot = 0 # (Punktmassenmodell)\n",
    "T_trans = ( m1*Sd1.T*Sd1  +  m2*Sd2.T*Sd2 )/2\n",
    "\n",
    "T = T_rot + T_trans[0]\n",
    "\n",
    "V = m2*g*S2[1]"
   ]
  },
  {
   "cell_type": "code",
   "execution_count": 8,
   "metadata": {},
   "outputs": [],
   "source": [
    "mod = mt.generate_symbolic_model(T, V, ttheta, [0, tau1])"
   ]
  },
  {
   "cell_type": "markdown",
   "metadata": {},
   "source": [
    "### Modellgleichungen in der Form $M(\\theta) \\ddot{\\theta} + C(\\theta, \\dot \\theta) + K(\\theta, \\dot \\theta) -\n",
    "\\left(\\begin{smallmatrix}\n",
    " 0 \\\\\n",
    "1\n",
    "\\end{smallmatrix} \\right) \\tau\n",
    "$ = 0"
   ]
  },
  {
   "cell_type": "code",
   "execution_count": 9,
   "metadata": {},
   "outputs": [
    {
     "data": {
      "image/png": "[encoded data removed]",
      "text/latex": [
       "$$\\left[\\begin{matrix}m_{2} s_{2} \\left(g \\sin{\\left (p_{1} \\right )} + \\ddot{p}_{1} s_{2} + \\ddot{q}_{1} \\cos{\\left (p_{1} \\right )}\\right)\\\\m_{1} \\ddot{q}_{1} + m_{2} \\left(\\ddot{p}_{1} s_{2} \\cos{\\left (p_{1} \\right )} - \\dot{p}_{1}^{2} s_{2} \\sin{\\left (p_{1} \\right )} + \\ddot{q}_{1}\\right) - \\tau_{1}\\end{matrix}\\right]$$"
      ],
      "text/plain": [
       "⎡        m₂⋅s₂⋅(g⋅sin(p₁) + p̈₁⋅s₂ + q̈₁⋅cos(p₁))         ⎤\n",
       "⎢                                                         ⎥\n",
       "⎢            ⎛                    2                 ⎞     ⎥\n",
       "⎣m₁⋅q̈₁ + m₂⋅⎝p̈₁⋅s₂⋅cos(p₁) - ṗ₁ ⋅s₂⋅sin(p₁) + q̈₁⎠ - τ₁⎦"
      ]
     },
     "execution_count": 9,
     "metadata": {},
     "output_type": "execute_result"
    }
   ],
   "source": [
    "mod.eqns"
   ]
  },
  {
   "cell_type": "code",
   "execution_count": 10,
   "metadata": {},
   "outputs": [],
   "source": [
    "# Zustandsdarstellung berechnen (= hauptsächlich Massenmatrix invertieren)\n",
    "mod.calc_state_eq()"
   ]
  },
  {
   "cell_type": "code",
   "execution_count": 11,
   "metadata": {},
   "outputs": [
    {
     "data": {
      "image/png": "[encoded data removed]",
      "text/latex": [
       "$$\\verb|mod.f | := \\left[\\begin{matrix}\\dot{p}_{1}\\\\\\dot{q}_{1}\\\\- \\frac{\\sin{\\left (p_{1} \\right )}}{s_{2} \\left(m_{1} + m_{2} \\sin^{2}{\\left (p_{1} \\right )}\\right)} \\left(g m_{1} + g m_{2} + m_{2} \\dot{p}_{1}^{2} s_{2} \\cos{\\left (p_{1} \\right )}\\right)\\\\\\frac{m_{2} \\left(g \\cos{\\left (p_{1} \\right )} + \\dot{p}_{1}^{2} s_{2}\\right) \\sin{\\left (p_{1} \\right )}}{m_{1} + m_{2} \\sin^{2}{\\left (p_{1} \\right )}}\\end{matrix}\\right]$$"
      ],
      "text/plain": [
       "mod.f  := ⎡                    ṗ₁                     ⎤\n",
       "⎢                                            ⎥\n",
       "⎢                    q̇₁                     ⎥\n",
       "⎢                                            ⎥\n",
       "⎢ ⎛                    2           ⎞         ⎥\n",
       "⎢-⎝g⋅m₁ + g⋅m₂ + m₂⋅ṗ₁ ⋅s₂⋅cos(p₁)⎠⋅sin(p₁) ⎥\n",
       "⎢────────────────────────────────────────────⎥\n",
       "⎢              ⎛           2    ⎞            ⎥\n",
       "⎢           s₂⋅⎝m₁ + m₂⋅sin (p₁)⎠            ⎥\n",
       "⎢                                            ⎥\n",
       "⎢         ⎛               2   ⎞              ⎥\n",
       "⎢      m₂⋅⎝g⋅cos(p₁) + ṗ₁ ⋅s₂⎠⋅sin(p₁)      ⎥\n",
       "⎢      ────────────────────────────────      ⎥\n",
       "⎢                         2                  ⎥\n",
       "⎣              m₁ + m₂⋅sin (p₁)              ⎦"
      ]
     },
     "metadata": {},
     "output_type": "display_data"
    },
    {
     "name": "stdout",
     "output_type": "stream",
     "text": [
      "___\n"
     ]
    },
    {
     "data": {
      "image/png": "[encoded data removed]",
      "text/latex": [
       "$$\\verb|mod.g | := \\left[\\begin{matrix}0\\\\0\\\\- \\frac{\\cos{\\left (p_{1} \\right )}}{s_{2} \\left(m_{1} + m_{2} \\sin^{2}{\\left (p_{1} \\right )}\\right)}\\\\\\frac{1}{m_{1} + m_{2} \\sin^{2}{\\left (p_{1} \\right )}}\\end{matrix}\\right]$$"
      ],
      "text/plain": [
       "mod.g  := ⎡          0          ⎤\n",
       "⎢                     ⎥\n",
       "⎢          0          ⎥\n",
       "⎢                     ⎥\n",
       "⎢      -cos(p₁)       ⎥\n",
       "⎢─────────────────────⎥\n",
       "⎢   ⎛           2    ⎞⎥\n",
       "⎢s₂⋅⎝m₁ + m₂⋅sin (p₁)⎠⎥\n",
       "⎢                     ⎥\n",
       "⎢         1           ⎥\n",
       "⎢  ────────────────   ⎥\n",
       "⎢             2       ⎥\n",
       "⎣  m₁ + m₂⋅sin (p₁)   ⎦"
      ]
     },
     "metadata": {},
     "output_type": "display_data"
    },
    {
     "name": "stdout",
     "output_type": "stream",
     "text": [
      "___\n"
     ]
    }
   ],
   "source": [
    "mod.f ##:\n",
    "mod.g ##:"
   ]
  },
  {
   "cell_type": "code",
   "execution_count": 12,
   "metadata": {},
   "outputs": [],
   "source": [
    "xx = st.symb_vector('x1:5') # Andere Symbole für Zustandskomponenten\n",
    "\n",
    "if 0:\n",
    "    # Latex-Code  für die Übung (ggf. überspringen)\n",
    "    st.adapted_latex(mod.f.subz(mod.xx, xx))\n",
    "    st.adapted_latex(mod.g.subz(mod.xx, xx))\n"
   ]
  },
  {
   "cell_type": "markdown",
   "metadata": {},
   "source": [
    "### Kollokierte partielle Eingangs-Zustands-Linearisierung\n",
    "(entspricht Eingangsausgangslinearisierung bezüglich des Ausgangs $y = q $ (\"aktuierte Koordinaten\"))"
   ]
  },
  {
   "cell_type": "code",
   "execution_count": 13,
   "metadata": {},
   "outputs": [],
   "source": [
    "# Betimmung und Einsetzen der Zustandsabhängigen Eingangstransformation.\n",
    "\n",
    "mod.calc_coll_part_lin_state_eq()"
   ]
  },
  {
   "cell_type": "code",
   "execution_count": 14,
   "metadata": {},
   "outputs": [
    {
     "data": {
      "image/png": "[encoded data removed]",
      "text/latex": [
       "$$\\verb|mod.ff | := \\left[\\begin{matrix}\\dot{p}_{1}\\\\\\dot{q}_{1}\\\\- \\frac{g}{s_{2}} \\sin{\\left (p_{1} \\right )}\\\\0\\end{matrix}\\right]$$"
      ],
      "text/plain": [
       "mod.ff  := ⎡    ṗ₁    ⎤\n",
       "⎢           ⎥\n",
       "⎢    q̇₁    ⎥\n",
       "⎢           ⎥\n",
       "⎢-g⋅sin(p₁) ⎥\n",
       "⎢───────────⎥\n",
       "⎢     s₂    ⎥\n",
       "⎢           ⎥\n",
       "⎣     0     ⎦"
      ]
     },
     "metadata": {},
     "output_type": "display_data"
    },
    {
     "name": "stdout",
     "output_type": "stream",
     "text": [
      "___\n"
     ]
    },
    {
     "data": {
      "image/png": "[encoded data removed]",
      "text/latex": [
       "$$\\verb|mod.gg | := \\left[\\begin{matrix}0\\\\0\\\\- \\frac{1}{s_{2}} \\cos{\\left (p_{1} \\right )}\\\\1\\end{matrix}\\right]$$"
      ],
      "text/plain": [
       "mod.gg  := ⎡    0    ⎤\n",
       "⎢         ⎥\n",
       "⎢    0    ⎥\n",
       "⎢         ⎥\n",
       "⎢-cos(p₁) ⎥\n",
       "⎢─────────⎥\n",
       "⎢    s₂   ⎥\n",
       "⎢         ⎥\n",
       "⎣    1    ⎦"
      ]
     },
     "metadata": {},
     "output_type": "display_data"
    },
    {
     "name": "stdout",
     "output_type": "stream",
     "text": [
      "___\n"
     ]
    }
   ],
   "source": [
    "mod.ff ##:\n",
    "mod.gg ##:"
   ]
  },
  {
   "cell_type": "code",
   "execution_count": 15,
   "metadata": {},
   "outputs": [
    {
     "data": {
      "image/png": "[encoded data removed]",
      "text/latex": [
       "$$\\verb|acc| := \\left[\\begin{matrix}- \\frac{g}{s_{2}} \\sin{\\left (p_{1} \\right )} - \\frac{v}{s_{2}} \\cos{\\left (p_{1} \\right )}\\\\v\\end{matrix}\\right]$$"
      ],
      "text/plain": [
       "acc := ⎡  g⋅sin(p₁)   v⋅cos(p₁)⎤\n",
       "⎢- ───────── - ─────────⎥\n",
       "⎢      s₂          s₂   ⎥\n",
       "⎢                       ⎥\n",
       "⎣           v           ⎦"
      ]
     },
     "metadata": {},
     "output_type": "display_data"
    },
    {
     "name": "stdout",
     "output_type": "stream",
     "text": [
      "---\n"
     ]
    }
   ],
   "source": [
    "# 2x1 Vektor der Beschleunigungen in Abhänghigkeit von v\n",
    "\n",
    "acc = mod.ff[2:, :] + mod.gg[2:, :]*v ##:"
   ]
  },
  {
   "cell_type": "markdown",
   "metadata": {},
   "source": [
    "### Berechnung der Byrnes-Isidori-Normalform"
   ]
  },
  {
   "cell_type": "markdown",
   "metadata": {},
   "source": [
    "Zur Illustration werden hier die Zwischenerbgenisse angegeben:"
   ]
  },
  {
   "cell_type": "code",
   "execution_count": 16,
   "metadata": {},
   "outputs": [
    {
     "data": {
      "image/png": "[encoded data removed]",
      "text/latex": [
       "$$\\verb|mod.M | := \\left[\\begin{matrix}m_{2} s_{2}^{2} & m_{2} s_{2} \\cos{\\left (p_{1} \\right )}\\\\m_{2} s_{2} \\cos{\\left (p_{1} \\right )} & m_{1} + m_{2}\\end{matrix}\\right]$$"
      ],
      "text/plain": [
       "mod.M  := ⎡        2                   ⎤\n",
       "⎢   m₂⋅s₂       m₂⋅s₂⋅cos(p₁)⎥\n",
       "⎢                            ⎥\n",
       "⎣m₂⋅s₂⋅cos(p₁)     m₁ + m₂   ⎦"
      ]
     },
     "metadata": {},
     "output_type": "display_data"
    },
    {
     "name": "stdout",
     "output_type": "stream",
     "text": [
      "___\n"
     ]
    },
    {
     "data": {
      "image/png": "[encoded data removed]",
      "text/latex": [
       "$$\\verb|M11| := \\left[\\begin{matrix}m_{2} s_{2}^{2}\\end{matrix}\\right]$$"
      ],
      "text/plain": [
       "M11 := ⎡     2⎤\n",
       "⎣m₂⋅s₂ ⎦"
      ]
     },
     "metadata": {},
     "output_type": "display_data"
    },
    {
     "name": "stdout",
     "output_type": "stream",
     "text": [
      "---\n"
     ]
    },
    {
     "data": {
      "image/png": "[encoded data removed]",
      "text/latex": [
       "$$\\verb|M12| := \\left[\\begin{matrix}m_{2} s_{2} \\cos{\\left (p_{1} \\right )}\\end{matrix}\\right]$$"
      ],
      "text/plain": [
       "M12 := [m₂⋅s₂⋅cos(p₁)]"
      ]
     },
     "metadata": {},
     "output_type": "display_data"
    },
    {
     "name": "stdout",
     "output_type": "stream",
     "text": [
      "---\n"
     ]
    }
   ],
   "source": [
    "mod.M ##:\n",
    "\n",
    "M11 = mod.M[:Np,:Np] ##:\n",
    "M12 = mod.M[Np:,:Np] ##:"
   ]
  },
  {
   "cell_type": "markdown",
   "metadata": {},
   "source": [
    "Einführung der neuen Zustandskomponente (deren Ableitung per Konstruktion unabhängig vom Eingang ist).\n",
    "$w = \\dot  \\theta_1 + M_{11}^{-1}M_{12} \\theta_2$"
   ]
  },
  {
   "cell_type": "code",
   "execution_count": 17,
   "metadata": {},
   "outputs": [
    {
     "data": {
      "image/png": "[encoded data removed]",
      "text/latex": [
       "$$\\verb|w4| := \\dot{p}_{1} + \\frac{\\dot{q}_{1}}{s_{2}} \\cos{\\left (p_{1} \\right )}$$"
      ],
      "text/plain": [
       "w4 :=       q̇₁⋅cos(p₁)\n",
       "ṗ₁ + ───────────\n",
       "           s₂    "
      ]
     },
     "metadata": {},
     "output_type": "display_data"
    },
    {
     "name": "stdout",
     "output_type": "stream",
     "text": [
      "---\n"
     ]
    }
   ],
   "source": [
    "w4 = tthetad[0] + (M11.inv()*M12)[0]*tthetad[1] ##:"
   ]
  },
  {
   "cell_type": "markdown",
   "metadata": {},
   "source": [
    "Bildung der Ableitung"
   ]
  },
  {
   "cell_type": "code",
   "execution_count": 18,
   "metadata": {},
   "outputs": [
    {
     "data": {
      "image/png": "[encoded data removed]",
      "text/latex": [
       "$$\\verb|w4d| := \\ddot{p}_{1} - \\frac{\\dot{p}_{1} \\dot{q}_{1}}{s_{2}} \\sin{\\left (p_{1} \\right )} + \\frac{\\ddot{q}_{1}}{s_{2}} \\cos{\\left (p_{1} \\right )}$$"
      ],
      "text/plain": [
       "w4d :=       ṗ₁⋅q̇₁⋅sin(p₁)   q̈₁⋅cos(p₁)\n",
       "p̈₁ - ─────────────── + ───────────\n",
       "             s₂              s₂    "
      ]
     },
     "metadata": {},
     "output_type": "display_data"
    },
    {
     "name": "stdout",
     "output_type": "stream",
     "text": [
      "---\n"
     ]
    }
   ],
   "source": [
    "w4d = st.time_deriv(w4, ttheta) ##:"
   ]
  },
  {
   "cell_type": "code",
   "execution_count": 19,
   "metadata": {},
   "outputs": [
    {
     "data": {
      "image/png": "[encoded data removed]",
      "text/latex": [
       "$$\\verb|replmts| := \\left [ \\left ( \\ddot{p}_{1}, \\quad - \\frac{g}{s_{2}} \\sin{\\left (p_{1} \\right )} - \\frac{v}{s_{2}} \\cos{\\left (p_{1} \\right )}\\right ), \\quad \\left ( \\ddot{q}_{1}, \\quad v\\right )\\right ]$$"
      ],
      "text/plain": [
       "replmts := ⎡⎛       g⋅sin(p₁)   v⋅cos(p₁)⎞          ⎤\n",
       "⎢⎜p̈₁, - ───────── - ─────────⎟, (q̈₁, v)⎥\n",
       "⎣⎝           s₂          s₂   ⎠          ⎦"
      ]
     },
     "metadata": {},
     "output_type": "display_data"
    },
    {
     "name": "stdout",
     "output_type": "stream",
     "text": [
      "---\n"
     ]
    },
    {
     "data": {
      "image/png": "[encoded data removed]",
      "text/latex": [
       "$$\\verb|w4d_| := - \\frac{g}{s_{2}} \\sin{\\left (p_{1} \\right )} - \\frac{\\dot{p}_{1} \\dot{q}_{1}}{s_{2}} \\sin{\\left (p_{1} \\right )}$$"
      ],
      "text/plain": [
       "w4d_ :=   g⋅sin(p₁)   ṗ₁⋅q̇₁⋅sin(p₁)\n",
       "- ───────── - ───────────────\n",
       "      s₂             s₂      "
      ]
     },
     "metadata": {},
     "output_type": "display_data"
    },
    {
     "name": "stdout",
     "output_type": "stream",
     "text": [
      "---\n"
     ]
    }
   ],
   "source": [
    "# Beschleunigungen Ersetzen:\n",
    "\n",
    "replmts = list(zip(tthetadd, acc)) ##:\n",
    "w4d_ = w4d.subs(replmts) ##:"
   ]
  },
  {
   "cell_type": "markdown",
   "metadata": {},
   "source": [
    "-> Die Abhängigkeit von $v$ hat sich gegenseitig aufgehoben (wie zu erwarten). Zur Angabe der Systemdynamik in den Koordinaten der BI-NF muss jetzt nur noch die Umkehrtransformation eingesetzt werden. Dazu müssen die Transformationen zunächst ordentlich aufgeschrieben werden\n",
    "\n",
    "\n"
   ]
  },
  {
   "cell_type": "code",
   "execution_count": 20,
   "metadata": {},
   "outputs": [
    {
     "data": {
      "image/png": "[encoded data removed]",
      "text/latex": [
       "$$\\verb|xx_| := \\left[\\begin{matrix}p_{1}\\\\q_{1}\\\\\\dot{p}_{1}\\\\\\dot{q}_{1}\\end{matrix}\\right]$$"
      ],
      "text/plain": [
       "xx_ := ⎡p₁ ⎤\n",
       "⎢   ⎥\n",
       "⎢q₁ ⎥\n",
       "⎢   ⎥\n",
       "⎢ṗ₁⎥\n",
       "⎢   ⎥\n",
       "⎣q̇₁⎦"
      ]
     },
     "metadata": {},
     "output_type": "display_data"
    },
    {
     "name": "stdout",
     "output_type": "stream",
     "text": [
      "---\n"
     ]
    }
   ],
   "source": [
    "# bisheriger Zustandsvektor\n",
    "xx_ = mod.xx ##:"
   ]
  },
  {
   "cell_type": "code",
   "execution_count": 21,
   "metadata": {},
   "outputs": [
    {
     "data": {
      "image/png": "[encoded data removed]",
      "text/latex": [
       "$$\\verb|Phi| := \\left[\\begin{matrix}q_{1}\\\\\\dot{q}_{1}\\\\p_{1}\\\\\\dot{p}_{1} + \\frac{\\dot{q}_{1}}{s_{2}} \\cos{\\left (p_{1} \\right )}\\end{matrix}\\right]$$"
      ],
      "text/plain": [
       "Phi := ⎡       q₁        ⎤\n",
       "⎢                 ⎥\n",
       "⎢       q̇₁       ⎥\n",
       "⎢                 ⎥\n",
       "⎢       p₁        ⎥\n",
       "⎢                 ⎥\n",
       "⎢      q̇₁⋅cos(p₁)⎥\n",
       "⎢ṗ₁ + ───────────⎥\n",
       "⎣           s₂    ⎦"
      ]
     },
     "metadata": {},
     "output_type": "display_data"
    },
    {
     "name": "stdout",
     "output_type": "stream",
     "text": [
      "---\n"
     ]
    }
   ],
   "source": [
    "# neuer Zustandsvektor\n",
    "Phi = sp.Matrix([xx_[1], xx_[3], xx_[0], w4]) ##:"
   ]
  },
  {
   "cell_type": "code",
   "execution_count": 22,
   "metadata": {},
   "outputs": [
    {
     "data": {
      "image/png": "[encoded data removed]",
      "text/latex": [
       "$$\\verb|Psi| := \\left[\\begin{matrix}w_{3}\\\\w_{1}\\\\w_{4} - \\frac{w_{2}}{s_{2}} \\cos{\\left (w_{3} \\right )}\\\\w_{2}\\end{matrix}\\right]$$"
      ],
      "text/plain": [
       "Psi := ⎡      w₃       ⎤\n",
       "⎢               ⎥\n",
       "⎢      w₁       ⎥\n",
       "⎢               ⎥\n",
       "⎢     w₂⋅cos(w₃)⎥\n",
       "⎢w₄ - ──────────⎥\n",
       "⎢         s₂    ⎥\n",
       "⎢               ⎥\n",
       "⎣      w₂       ⎦"
      ]
     },
     "metadata": {},
     "output_type": "display_data"
    },
    {
     "name": "stdout",
     "output_type": "stream",
     "text": [
      "---\n"
     ]
    }
   ],
   "source": [
    "# Umkehrtransformation durch algebraisches Auflösen\n",
    "ww = st.symb_vector('w1:5')\n",
    "\n",
    "Psi = sp.Matrix(sp.solve(Phi-ww, xx_)[0]) ##:\n"
   ]
  },
  {
   "cell_type": "markdown",
   "metadata": {},
   "source": [
    "Jetzt kann man $\\dot z$ zunächst in gemischten bzw. alten Koordinaten berechnen und dann die Beschleunigungn und dann Rücktransformation einsetzen."
   ]
  },
  {
   "cell_type": "code",
   "execution_count": 23,
   "metadata": {},
   "outputs": [
    {
     "data": {
      "image/png": "[encoded data removed]",
      "text/latex": [
       "$$\\verb|w_dot_mixed_coordinates1| := \\left[\\begin{matrix}\\dot{q}_{1}\\\\\\ddot{q}_{1}\\\\\\dot{p}_{1}\\\\\\ddot{p}_{1} - \\frac{\\dot{p}_{1} \\dot{q}_{1}}{s_{2}} \\sin{\\left (p_{1} \\right )} + \\frac{\\ddot{q}_{1}}{s_{2}} \\cos{\\left (p_{1} \\right )}\\end{matrix}\\right]$$"
      ],
      "text/plain": [
       "w_dot_mixed_coordinates1 := ⎡                q̇₁                ⎤\n",
       "⎢                                   ⎥\n",
       "⎢                q̈₁                ⎥\n",
       "⎢                                   ⎥\n",
       "⎢                ṗ₁                ⎥\n",
       "⎢                                   ⎥\n",
       "⎢      ṗ₁⋅q̇₁⋅sin(p₁)   q̈₁⋅cos(p₁)⎥\n",
       "⎢p̈₁ - ─────────────── + ───────────⎥\n",
       "⎣             s₂              s₂    ⎦"
      ]
     },
     "metadata": {},
     "output_type": "display_data"
    },
    {
     "name": "stdout",
     "output_type": "stream",
     "text": [
      "---\n"
     ]
    }
   ],
   "source": [
    "w_dot_mixed_coordinates1 = st.time_deriv(Phi, ttheta) ##:"
   ]
  },
  {
   "cell_type": "code",
   "execution_count": 24,
   "metadata": {},
   "outputs": [
    {
     "data": {
      "image/png": "[encoded data removed]",
      "text/latex": [
       "$$\\verb|w_dot_mixed_coordinates2| := \\left[\\begin{matrix}\\dot{q}_{1}\\\\v\\\\\\dot{p}_{1}\\\\- \\frac{g}{s_{2}} \\sin{\\left (p_{1} \\right )} - \\frac{\\dot{p}_{1} \\dot{q}_{1}}{s_{2}} \\sin{\\left (p_{1} \\right )}\\end{matrix}\\right]$$"
      ],
      "text/plain": [
       "w_dot_mixed_coordinates2 := ⎡             q̇₁             ⎤\n",
       "⎢                             ⎥\n",
       "⎢              v              ⎥\n",
       "⎢                             ⎥\n",
       "⎢             ṗ₁             ⎥\n",
       "⎢                             ⎥\n",
       "⎢  g⋅sin(p₁)   ṗ₁⋅q̇₁⋅sin(p₁)⎥\n",
       "⎢- ───────── - ───────────────⎥\n",
       "⎣      s₂             s₂      ⎦"
      ]
     },
     "metadata": {},
     "output_type": "display_data"
    },
    {
     "name": "stdout",
     "output_type": "stream",
     "text": [
      "---\n"
     ]
    }
   ],
   "source": [
    "# Beschleunigungen einsetzen -> v hebt sich raus, siehe oben\n",
    "w_dot_mixed_coordinates2 = w_dot_mixed_coordinates1.subz(tthetadd, acc) ##:"
   ]
  },
  {
   "cell_type": "code",
   "execution_count": 25,
   "metadata": {},
   "outputs": [
    {
     "data": {
      "image/png": "[encoded data removed]",
      "text/latex": [
       "$$\\verb|w_dot| := \\left[\\begin{matrix}w_{2}\\\\v\\\\w_{4} - \\frac{w_{2}}{s_{2}} \\cos{\\left (w_{3} \\right )}\\\\- \\frac{g}{s_{2}} \\sin{\\left (w_{3} \\right )} - \\frac{w_{2}}{s_{2}} \\left(w_{4} - \\frac{w_{2}}{s_{2}} \\cos{\\left (w_{3} \\right )}\\right) \\sin{\\left (w_{3} \\right )}\\end{matrix}\\right]$$"
      ],
      "text/plain": [
       "w_dot := ⎡                    w₂                    ⎤\n",
       "⎢                                          ⎥\n",
       "⎢                    v                     ⎥\n",
       "⎢                                          ⎥\n",
       "⎢                  w₂⋅cos(w₃)              ⎥\n",
       "⎢             w₄ - ──────────              ⎥\n",
       "⎢                      s₂                  ⎥\n",
       "⎢                                          ⎥\n",
       "⎢                 ⎛     w₂⋅cos(w₃)⎞        ⎥\n",
       "⎢              w₂⋅⎜w₄ - ──────────⎟⋅sin(w₃)⎥\n",
       "⎢  g⋅sin(w₃)      ⎝         s₂    ⎠        ⎥\n",
       "⎢- ───────── - ────────────────────────────⎥\n",
       "⎣      s₂                   s₂             ⎦"
      ]
     },
     "metadata": {},
     "output_type": "display_data"
    },
    {
     "name": "stdout",
     "output_type": "stream",
     "text": [
      "---\n"
     ]
    }
   ],
   "source": [
    "w_dot = w_dot_mixed_coordinates2.subz(xx_, Psi) ##:"
   ]
  },
  {
   "cell_type": "markdown",
   "metadata": {},
   "source": [
    "Die ganze Funktionalität ist auch in der Methode `mod.calc_coll_part_lin_state_eq` hinterlegt. Einziger Unterschied: Benennung der Zustandskomponenten."
   ]
  },
  {
   "cell_type": "code",
   "execution_count": 26,
   "metadata": {},
   "outputs": [],
   "source": [
    "mod.calc_coll_part_lin_state_eq()"
   ]
  },
  {
   "cell_type": "code",
   "execution_count": 27,
   "metadata": {},
   "outputs": [
    {
     "data": {
      "text/plain": [
       "mod.fz  := None"
      ]
     },
     "metadata": {},
     "output_type": "display_data"
    },
    {
     "name": "stdout",
     "output_type": "stream",
     "text": [
      "___\n"
     ]
    },
    {
     "data": {
      "text/plain": [
       "mod.gz  := None"
      ]
     },
     "metadata": {},
     "output_type": "display_data"
    },
    {
     "name": "stdout",
     "output_type": "stream",
     "text": [
      "___\n"
     ]
    }
   ],
   "source": [
    "mod.fz ##:\n",
    "mod.gz ##:"
   ]
  }
 ],
 "metadata": {
  "kernelspec": {
   "display_name": "Python 3",
   "language": "python",
   "name": "python3"
  },
  "language_info": {
   "codemirror_mode": {
    "name": "ipython",
    "version": 3
   },
   "file_extension": ".py",
   "mimetype": "text/x-python",
   "name": "python",
   "nbconvert_exporter": "python",
   "pygments_lexer": "ipython3",
   "version": "3.6.3"
  }
 },
 "nbformat": 4,
 "nbformat_minor": 1
}
