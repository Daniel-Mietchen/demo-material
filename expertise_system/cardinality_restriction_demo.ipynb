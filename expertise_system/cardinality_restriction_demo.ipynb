{
 "cells": [
  {
   "cell_type": "markdown",
   "metadata": {},
   "source": [
    "This is an example from the owlready2 mailinglist, see http://owlready.8326.n8.nabble.com/ObjectProprerty-Restrictions-not-generating-in-RDFXML-tc2124.html\n",
    "\n",
    "The according docs are: https://owlready2.readthedocs.io/en/latest/restriction.html#restrictions-on-a-property\n"
   ]
  },
  {
   "cell_type": "code",
   "execution_count": 1,
   "metadata": {},
   "outputs": [],
   "source": [
    "\n",
    "from owlready2 import *\n",
    "\n",
    "onto = get_ontology(\"http://test.org/test.owl\")\n",
    "\n",
    "with onto:\n",
    "    class EquipmentContainer(Thing):\n",
    "        pass\n",
    "    EquipmentContainer.comment = [\"Something that contains equipment.\"]\n",
    "\n",
    "    class Equipment(Thing):\n",
    "        pass\n",
    "    Equipment.comment = [\"A necessary item for a particular purpose.\"]\n",
    "\n",
    "    class has_Equipments(ObjectProperty):\n",
    "        domain = [EquipmentContainer]\n",
    "        range = [Equipment]\n",
    "    has_Equipments.comment = [\"Contained equipment.\"]\n",
    "    \n",
    "    class EquipmentContainer_of(ObjectProperty):\n",
    "        domain = [Equipment]\n",
    "        range = [EquipmentContainer]\n",
    "        inverse_property = has_Equipments\n",
    "        \n",
    "    # in the original example this was 25\n",
    "    EquipmentContainer.is_a.append(has_Equipments.max(1, Equipment))\n",
    "    "
   ]
  },
  {
   "cell_type": "code",
   "execution_count": 2,
   "metadata": {},
   "outputs": [],
   "source": [
    "onto.save(file = \"ExampleWithNoCardinality1.xml\", format = \"rdfxml\") "
   ]
  },
  {
   "cell_type": "markdown",
   "metadata": {},
   "source": [
    "The restriction now appears in the xml-file:"
   ]
  },
  {
   "cell_type": "code",
   "execution_count": 3,
   "metadata": {},
   "outputs": [
    {
     "name": "stdout",
     "output_type": "stream",
     "text": [
      "<?xml version=\"1.0\"?>\n",
      "<rdf:RDF xmlns:rdf=\"http://www.w3.org/1999/02/22-rdf-syntax-ns#\"\n",
      "         xmlns:xsd=\"http://www.w3.org/2001/XMLSchema#\"\n",
      "         xmlns:rdfs=\"http://www.w3.org/2000/01/rdf-schema#\"\n",
      "         xmlns:owl=\"http://www.w3.org/2002/07/owl#\"\n",
      "         xml:base=\"http://test.org/test.owl\"\n",
      "         xmlns=\"http://test.org/test.owl#\">\n",
      "\n",
      "<owl:Ontology rdf:about=\"http://test.org/test.owl\"/>\n",
      "\n",
      "<owl:ObjectProperty rdf:about=\"#has_Equipments\">\n",
      "  <rdfs:domain rdf:resource=\"#EquipmentContainer\"/>\n",
      "  <rdfs:range rdf:resource=\"#Equipment\"/>\n",
      "  <owl:inverseOf rdf:resource=\"#EquipmentContainer_of\"/>\n",
      "  <rdfs:comment rdf:datatype=\"http://www.w3.org/2001/XMLSchema#string\">Contained equipment.</rdfs:comment>\n",
      "</owl:ObjectProperty>\n",
      "\n",
      "<owl:ObjectProperty rdf:about=\"#EquipmentContainer_of\">\n",
      "  <rdfs:domain rdf:resource=\"#Equipment\"/>\n",
      "  <rdfs:range rdf:resource=\"#EquipmentContainer\"/>\n",
      "  <owl:inverseOf rdf:resource=\"#has_Equipments\"/>\n",
      "</owl:ObjectProperty>\n",
      "\n",
      "<owl:Class rdf:about=\"#EquipmentContainer\">\n",
      "  <rdfs:subClassOf rdf:resource=\"http://www.w3.org/2002/07/owl#Thing\"/>\n",
      "  <rdfs:subClassOf>\n",
      "    <owl:Restriction>\n",
      "      <owl:onProperty rdf:resource=\"#has_Equipments\"/>\n",
      "      <owl:onClass rdf:resource=\"#Equipment\"/>\n",
      "      <owl:maxQualifiedCardinality rdf:datatype=\"http://www.w3.org/2001/XMLSchema#nonNegativeInteger\">1</owl:maxQualifiedCardinality>\n",
      "    </owl:Restriction>\n",
      "  </rdfs:subClassOf>\n",
      "  <rdfs:comment rdf:datatype=\"http://www.w3.org/2001/XMLSchema#string\">Something that contains equipment.</rdfs:comment>\n",
      "</owl:Class>\n",
      "\n",
      "<owl:Class rdf:about=\"#Equipment\">\n",
      "  <rdfs:subClassOf rdf:resource=\"http://www.w3.org/2002/07/owl#Thing\"/>\n",
      "  <rdfs:comment rdf:datatype=\"http://www.w3.org/2001/XMLSchema#string\">A necessary item for a particular purpose.</rdfs:comment>\n",
      "</owl:Class>\n",
      "\n",
      "\n",
      "</rdf:RDF>\n",
      "\n"
     ]
    }
   ],
   "source": [
    "with open(\"ExampleWithNoCardinality1.xml\", \"r\") as thefile:\n",
    "    txt = thefile.read()\n",
    "    print(txt)"
   ]
  },
  {
   "cell_type": "markdown",
   "metadata": {},
   "source": [
    "Demonstrate how Owlready handles a violation of this restriction (by adding two Equipments to one EquipmentContainer)"
   ]
  },
  {
   "cell_type": "code",
   "execution_count": 4,
   "metadata": {},
   "outputs": [],
   "source": [
    "EC1 = EquipmentContainer()\n",
    "E1 = Equipment()\n",
    "E2 = Equipment()"
   ]
  },
  {
   "cell_type": "code",
   "execution_count": 5,
   "metadata": {},
   "outputs": [
    {
     "data": {
      "text/plain": [
       "AllDisjoint([test.equipment1, test.equipment2])"
      ]
     },
     "execution_count": 5,
     "metadata": {},
     "output_type": "execute_result"
    }
   ],
   "source": [
    "AllDifferent([E1, E2])"
   ]
  },
  {
   "cell_type": "code",
   "execution_count": 6,
   "metadata": {},
   "outputs": [],
   "source": [
    "EC1.has_Equipments.append(E1)"
   ]
  },
  {
   "cell_type": "code",
   "execution_count": 7,
   "metadata": {},
   "outputs": [],
   "source": [
    "EC1.has_Equipments.append(E2)"
   ]
  },
  {
   "cell_type": "code",
   "execution_count": 8,
   "metadata": {},
   "outputs": [
    {
     "data": {
      "text/plain": [
       "[test.equipment1, test.equipment2]"
      ]
     },
     "execution_count": 8,
     "metadata": {},
     "output_type": "execute_result"
    }
   ],
   "source": [
    "EC1.has_Equipments"
   ]
  },
  {
   "cell_type": "code",
   "execution_count": 9,
   "metadata": {},
   "outputs": [
    {
     "name": "stderr",
     "output_type": "stream",
     "text": [
      "* Owlready2 * Running HermiT...\n",
      "    java -Xmx2000M -cp /home/ck2/miniconda3/envs/base37/lib/python3.7/site-packages/owlready2/hermit:/home/ck2/miniconda3/envs/base37/lib/python3.7/site-packages/owlready2/hermit/HermiT.jar org.semanticweb.HermiT.cli.CommandLine -c -O -D -I file:////tmp/tmpxkd9fjly\n"
     ]
    },
    {
     "name": "stdout",
     "output_type": "stream",
     "text": [
      "Inconsitent Ontology\n"
     ]
    }
   ],
   "source": [
    "try:\n",
    "    sync_reasoner()\n",
    "except OwlReadyInconsistentOntologyError:\n",
    "    print(\"Inconsitent Ontology\")"
   ]
  }
 ],
 "metadata": {
  "kernelspec": {
   "display_name": "Python 3",
   "language": "python",
   "name": "python3"
  },
  "language_info": {
   "codemirror_mode": {
    "name": "ipython",
    "version": 3
   },
   "file_extension": ".py",
   "mimetype": "text/x-python",
   "name": "python",
   "nbconvert_exporter": "python",
   "pygments_lexer": "ipython3",
   "version": "3.7.8"
  }
 },
 "nbformat": 4,
 "nbformat_minor": 2
}
