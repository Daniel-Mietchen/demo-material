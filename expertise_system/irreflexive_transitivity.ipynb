{
 "cells": [
  {
   "cell_type": "markdown",
   "metadata": {},
   "source": [
    "This Notebook was inspired by <https://stackoverflow.com/questions/69224096/swrl-rules-in-owl-2>. It is an (incomplete) example of how to model the relations *has_brother* and *has_uncle*. \n",
    "\n",
    "**Notes**:\n",
    "\n",
    "One might think `has_brother` is\n",
    "\n",
    "- symmetric, i.e. `has_brother(A, B)` ⇒ `has_brother(B, A)`\n",
    "- transitive, i.e. `has_brother(A, B)` + `has_brother(B, C)` ⇒ `has_brother(A, C)`\n",
    "- irreflexive, i.e. no one is his own brother.\n",
    "\n",
    "However, transitivity only holds if the unique name assumption holds. Otherwise A could be the same individual as C and this conflicts irreflexivity. Thus I used a rule for this kind of \"weak transitivity\"."
   ]
  },
  {
   "cell_type": "code",
   "execution_count": 1,
   "metadata": {},
   "outputs": [
    {
     "name": "stdout",
     "output_type": "stream",
     "text": [
      "Sat Oct  2 18:09:53 2021\n"
     ]
    },
    {
     "data": {
      "application/javascript": [
       "\n",
       "            setTimeout(function() {\n",
       "                var nbb_cell_id = 1;\n",
       "                var nbb_unformatted_code = \"import time\\n\\nprint(time.ctime())\\n%load_ext nb_black\\n# enable special comments like `##:`\\n%load_ext ipydex.displaytools\";\n",
       "                var nbb_formatted_code = \"import time\\n\\nprint(time.ctime())\\n%load_ext nb_black\\n# enable special comments like `##:`\\n%load_ext ipydex.displaytools\";\n",
       "                var nbb_cells = Jupyter.notebook.get_cells();\n",
       "                for (var i = 0; i < nbb_cells.length; ++i) {\n",
       "                    if (nbb_cells[i].input_prompt_number == nbb_cell_id) {\n",
       "                        if (nbb_cells[i].get_text() == nbb_unformatted_code) {\n",
       "                             nbb_cells[i].set_text(nbb_formatted_code);\n",
       "                        }\n",
       "                        break;\n",
       "                    }\n",
       "                }\n",
       "            }, 500);\n",
       "            "
      ],
      "text/plain": [
       "<IPython.core.display.Javascript object>"
      ]
     },
     "metadata": {},
     "output_type": "display_data"
    }
   ],
   "source": [
    "import time\n",
    "\n",
    "print(time.ctime())\n",
    "%load_ext nb_black\n",
    "# enable special comments like `##:`\n",
    "%load_ext ipydex.displaytools"
   ]
  },
  {
   "cell_type": "code",
   "execution_count": 2,
   "metadata": {},
   "outputs": [
    {
     "name": "stdout",
     "output_type": "stream",
     "text": [
      "Uncles of Anna: []\n",
      "Uncles of Simon: []\n",
      "Uncles of Anna: [onto.Pete, onto.David]\n",
      "Uncles of Simon: [onto.John, onto.David]\n"
     ]
    },
    {
     "data": {
      "application/javascript": [
       "\n",
       "            setTimeout(function() {\n",
       "                var nbb_cell_id = 2;\n",
       "                var nbb_unformatted_code = \"import owlready2 as owl\\n\\nonto = owl.get_ontology(\\\"http://test.org/onto.owl\\\")\\n\\nwith onto:\\n    class Person(owl.Thing):\\n        pass\\n\\n    class has_brother(owl.ObjectProperty, owl.SymmetricProperty, owl.IrreflexiveProperty):\\n        domain = [Person]\\n        range = [Person]\\n\\n    class has_child(Person >> Person):\\n        pass\\n\\n    class has_uncle(Person >> Person):\\n        pass\\n\\n    rule1 = owl.Imp()\\n    rule1.set_as_rule(\\n        \\\"has_brother(?p, ?b), has_child(?p, ?c) -> has_uncle(?c, ?b)\\\"\\n    )\\n\\n    # This rule gives \\\"irreflexive transitivity\\\",\\n    # i.e. transitivity, as long it does not lead to has_brother(?a, ?a)\\\"\\n    rule2 = owl.Imp()\\n    rule2.set_as_rule(\\n        \\\"has_brother(?a, ?b), has_brother(?b, ?c), differentFrom(?a, ?c) -> has_brother(?a, ?c)\\\"\\n    )\\n\\ndavid = Person(\\\"David\\\")\\njohn = Person(\\\"John\\\")\\npete = Person(\\\"Pete\\\")\\nanna = Person(\\\"Anna\\\")\\nsimon = Person(\\\"Simon\\\")\\n\\nowl.AllDifferent([david, john, pete, anna, simon])\\n\\ndavid.has_brother.extend([john, pete])\\n\\njohn.has_child.append(anna)\\npete.has_child.append(simon)\\n\\nprint(\\\"Uncles of Anna:\\\", anna.has_uncle) # -> []\\nprint(\\\"Uncles of Simon:\\\", simon.has_uncle) # -> []\\nowl.sync_reasoner(infer_property_values=True, debug=False)\\nprint(\\\"Uncles of Anna:\\\", anna.has_uncle) # -> [onto.Pete, onto.David]\\nprint(\\\"Uncles of Simon:\\\", simon.has_uncle) # -> [onto.John, onto.David]\";\n",
       "                var nbb_formatted_code = \"import owlready2 as owl\\n\\nonto = owl.get_ontology(\\\"http://test.org/onto.owl\\\")\\n\\nwith onto:\\n\\n    class Person(owl.Thing):\\n        pass\\n\\n    class has_brother(\\n        owl.ObjectProperty, owl.SymmetricProperty, owl.IrreflexiveProperty\\n    ):\\n        domain = [Person]\\n        range = [Person]\\n\\n    class has_child(Person >> Person):\\n        pass\\n\\n    class has_uncle(Person >> Person):\\n        pass\\n\\n    rule1 = owl.Imp()\\n    rule1.set_as_rule(\\\"has_brother(?p, ?b), has_child(?p, ?c) -> has_uncle(?c, ?b)\\\")\\n\\n    # This rule gives \\\"irreflexive transitivity\\\",\\n    # i.e. transitivity, as long it does not lead to has_brother(?a, ?a)\\\"\\n    rule2 = owl.Imp()\\n    rule2.set_as_rule(\\n        \\\"has_brother(?a, ?b), has_brother(?b, ?c), differentFrom(?a, ?c) -> has_brother(?a, ?c)\\\"\\n    )\\n\\ndavid = Person(\\\"David\\\")\\njohn = Person(\\\"John\\\")\\npete = Person(\\\"Pete\\\")\\nanna = Person(\\\"Anna\\\")\\nsimon = Person(\\\"Simon\\\")\\n\\nowl.AllDifferent([david, john, pete, anna, simon])\\n\\ndavid.has_brother.extend([john, pete])\\n\\njohn.has_child.append(anna)\\npete.has_child.append(simon)\\n\\nprint(\\\"Uncles of Anna:\\\", anna.has_uncle)  # -> []\\nprint(\\\"Uncles of Simon:\\\", simon.has_uncle)  # -> []\\nowl.sync_reasoner(infer_property_values=True, debug=False)\\nprint(\\\"Uncles of Anna:\\\", anna.has_uncle)  # -> [onto.Pete, onto.David]\\nprint(\\\"Uncles of Simon:\\\", simon.has_uncle)  # -> [onto.John, onto.David]\";\n",
       "                var nbb_cells = Jupyter.notebook.get_cells();\n",
       "                for (var i = 0; i < nbb_cells.length; ++i) {\n",
       "                    if (nbb_cells[i].input_prompt_number == nbb_cell_id) {\n",
       "                        if (nbb_cells[i].get_text() == nbb_unformatted_code) {\n",
       "                             nbb_cells[i].set_text(nbb_formatted_code);\n",
       "                        }\n",
       "                        break;\n",
       "                    }\n",
       "                }\n",
       "            }, 500);\n",
       "            "
      ],
      "text/plain": [
       "<IPython.core.display.Javascript object>"
      ]
     },
     "metadata": {},
     "output_type": "display_data"
    }
   ],
   "source": [
    "import owlready2 as owl\n",
    "\n",
    "onto = owl.get_ontology(\"http://test.org/onto.owl\")\n",
    "\n",
    "with onto:\n",
    "    class Person(owl.Thing):\n",
    "        pass\n",
    "\n",
    "    class has_brother(owl.ObjectProperty, owl.SymmetricProperty, owl.IrreflexiveProperty):\n",
    "        domain = [Person]\n",
    "        range = [Person]\n",
    "    \n",
    "    class has_child(Person >> Person):\n",
    "        pass\n",
    "    \n",
    "    class has_uncle(Person >> Person):\n",
    "        pass\n",
    "\n",
    "    rule1 = owl.Imp()\n",
    "    rule1.set_as_rule(\n",
    "        \"has_brother(?p, ?b), has_child(?p, ?c) -> has_uncle(?c, ?b)\"\n",
    "    )\n",
    "\n",
    "    # This rule gives \"irreflexive transitivity\",\n",
    "    # i.e. transitivity, as long it does not lead to has_brother(?a, ?a)\"\n",
    "    rule2 = owl.Imp()\n",
    "    rule2.set_as_rule(\n",
    "        \"has_brother(?a, ?b), has_brother(?b, ?c), differentFrom(?a, ?c) -> has_brother(?a, ?c)\"\n",
    "    )\n",
    "    \n",
    "david = Person(\"David\")\n",
    "john = Person(\"John\")\n",
    "pete = Person(\"Pete\")\n",
    "anna = Person(\"Anna\")\n",
    "simon = Person(\"Simon\")\n",
    "\n",
    "owl.AllDifferent([david, john, pete, anna, simon])\n",
    "\n",
    "david.has_brother.extend([john, pete])\n",
    "\n",
    "john.has_child.append(anna)\n",
    "pete.has_child.append(simon)\n",
    "\n",
    "print(\"Uncles of Anna:\", anna.has_uncle) # -> []\n",
    "print(\"Uncles of Simon:\", simon.has_uncle) # -> []\n",
    "owl.sync_reasoner(infer_property_values=True, debug=False)\n",
    "print(\"Uncles of Anna:\", anna.has_uncle) # -> [onto.Pete, onto.David]\n",
    "print(\"Uncles of Simon:\", simon.has_uncle) # -> [onto.John, onto.David]"
   ]
  },
  {
   "cell_type": "code",
   "execution_count": 3,
   "metadata": {},
   "outputs": [
    {
     "data": {
      "text/plain": [
       "(david.has_brother) := [onto.John, onto.Pete]"
      ]
     },
     "metadata": {},
     "output_type": "display_data"
    },
    {
     "data": {
      "text/plain": [
       "---"
      ]
     },
     "metadata": {},
     "output_type": "display_data"
    },
    {
     "data": {
      "text/plain": [
       "(pete.has_brother) := [onto.David, onto.John]"
      ]
     },
     "metadata": {},
     "output_type": "display_data"
    },
    {
     "data": {
      "text/plain": [
       "---"
      ]
     },
     "metadata": {},
     "output_type": "display_data"
    },
    {
     "data": {
      "text/plain": [
       "(john.has_brother) := [onto.David, onto.Pete]"
      ]
     },
     "metadata": {},
     "output_type": "display_data"
    },
    {
     "data": {
      "text/plain": [
       "---"
      ]
     },
     "metadata": {},
     "output_type": "display_data"
    },
    {
     "data": {
      "application/javascript": [
       "\n",
       "            setTimeout(function() {\n",
       "                var nbb_cell_id = 3;\n",
       "                var nbb_unformatted_code = \"custom_display(\\\"(david.has_brother)\\\", (david.has_brother)); display({\\\"text/plain\\\": \\\"---\\\"}, raw=True)\\ncustom_display(\\\"(pete.has_brother)\\\", (pete.has_brother)); display({\\\"text/plain\\\": \\\"---\\\"}, raw=True)\\ncustom_display(\\\"(john.has_brother)\\\", (john.has_brother)); display({\\\"text/plain\\\": \\\"---\\\"}, raw=True)\";\n",
       "                var nbb_formatted_code = \"custom_display(\\\"(david.has_brother)\\\", (david.has_brother))\\ndisplay({\\\"text/plain\\\": \\\"---\\\"}, raw=True)\\ncustom_display(\\\"(pete.has_brother)\\\", (pete.has_brother))\\ndisplay({\\\"text/plain\\\": \\\"---\\\"}, raw=True)\\ncustom_display(\\\"(john.has_brother)\\\", (john.has_brother))\\ndisplay({\\\"text/plain\\\": \\\"---\\\"}, raw=True)\";\n",
       "                var nbb_cells = Jupyter.notebook.get_cells();\n",
       "                for (var i = 0; i < nbb_cells.length; ++i) {\n",
       "                    if (nbb_cells[i].input_prompt_number == nbb_cell_id) {\n",
       "                        if (nbb_cells[i].get_text() == nbb_unformatted_code) {\n",
       "                             nbb_cells[i].set_text(nbb_formatted_code);\n",
       "                        }\n",
       "                        break;\n",
       "                    }\n",
       "                }\n",
       "            }, 500);\n",
       "            "
      ],
      "text/plain": [
       "<IPython.core.display.Javascript object>"
      ]
     },
     "metadata": {},
     "output_type": "display_data"
    }
   ],
   "source": [
    "# Some more information\n",
    "\n",
    "david.has_brother ##:\n",
    "pete.has_brother ##:\n",
    "john.has_brother ##:"
   ]
  }
 ],
 "metadata": {
  "kernelspec": {
   "display_name": "Python 3",
   "language": "python",
   "name": "python3"
  },
  "language_info": {
   "codemirror_mode": {
    "name": "ipython",
    "version": 3
   },
   "file_extension": ".py",
   "mimetype": "text/x-python",
   "name": "python",
   "nbconvert_exporter": "python",
   "pygments_lexer": "ipython3",
   "version": "3.8.6"
  }
 },
 "nbformat": 4,
 "nbformat_minor": 4
}
