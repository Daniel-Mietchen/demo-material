{
 "cells": [
  {
   "cell_type": "code",
   "execution_count": 1,
   "metadata": {},
   "outputs": [],
   "source": [
    "import owlready2 as owl2\n",
    "from urllib import request\n",
    "import os"
   ]
  },
  {
   "cell_type": "markdown",
   "metadata": {},
   "source": [
    "## Note\n",
    "\n",
    "- assumes https://github.com/sszuev/ont-converter to be installed (requires local build with *maven*)\n",
    "- `ont-converter.jar` must be located in current dir"
   ]
  },
  {
   "cell_type": "code",
   "execution_count": 2,
   "metadata": {},
   "outputs": [],
   "source": [
    "# download the original file\n",
    "\n",
    "url = \"http://www.w3.org/2006/time\"\n",
    "res = request.urlopen(url)\n",
    "t_path = \"time_turtle.txt\"\n",
    "with open(t_path, \"wb\") as t_file:\n",
    "    # write plain bytes (without de- and encoding)\n",
    "    t_file.write(res.read())"
   ]
  },
  {
   "cell_type": "code",
   "execution_count": 3,
   "metadata": {},
   "outputs": [
    {
     "data": {
      "text/plain": [
       "0"
      ]
     },
     "execution_count": 3,
     "metadata": {},
     "output_type": "execute_result"
    }
   ],
   "source": [
    "# convert from Turtle to RDF_XML\n",
    "\n",
    "o_path = \"time.owl\"\n",
    "cmd = f\"java -jar ont-converter.jar  -i {t_path} -if TURTLE -o {o_path} -of RDF_XML\"\n",
    "os.system(cmd)"
   ]
  },
  {
   "cell_type": "code",
   "execution_count": 4,
   "metadata": {},
   "outputs": [
    {
     "name": "stderr",
     "output_type": "stream",
     "text": [
      "* Owlready2 * WARNING: DataProperty http://www.w3.org/2006/time#inXSDDateTime belongs to more than one entity types: [owl.DeprecatedProperty, owl.DatatypeProperty]; I'm trying to fix it...\n",
      "* Owlready2 * WARNING: DataProperty http://www.w3.org/2006/time#xsdDateTime belongs to more than one entity types: [owl.DeprecatedProperty, owl.DatatypeProperty]; I'm trying to fix it...\n"
     ]
    }
   ],
   "source": [
    "fpath = \"time.owl\"\n",
    "onto = owl2.get_ontology(fpath).load()"
   ]
  },
  {
   "cell_type": "code",
   "execution_count": 5,
   "metadata": {},
   "outputs": [
    {
     "data": {
      "text/plain": [
       "[time.DayOfWeek,\n",
       " time.Duration,\n",
       " time.TemporalDuration,\n",
       " time.DateTimeInterval,\n",
       " time.ProperInterval,\n",
       " time.TimeZone,\n",
       " time.Instant,\n",
       " time.Interval,\n",
       " time.MonthOfYear,\n",
       " time.TemporalUnit,\n",
       " time.DateTimeDescription,\n",
       " time.TemporalEntity,\n",
       " time.GeneralDateTimeDescription,\n",
       " time.DurationDescription,\n",
       " time.GeneralDurationDescription,\n",
       " time.TemporalPosition,\n",
       " time.TRS,\n",
       " time.TimePosition,\n",
       " time.Year,\n",
       " time.January]"
      ]
     },
     "execution_count": 5,
     "metadata": {},
     "output_type": "execute_result"
    }
   ],
   "source": [
    "list(onto.classes())"
   ]
  }
 ],
 "metadata": {
  "kernelspec": {
   "display_name": "Python 3",
   "language": "python",
   "name": "python3"
  },
  "language_info": {
   "codemirror_mode": {
    "name": "ipython",
    "version": 3
   },
   "file_extension": ".py",
   "mimetype": "text/x-python",
   "name": "python",
   "nbconvert_exporter": "python",
   "pygments_lexer": "ipython3",
   "version": "3.8.6"
  }
 },
 "nbformat": 4,
 "nbformat_minor": 4
}
