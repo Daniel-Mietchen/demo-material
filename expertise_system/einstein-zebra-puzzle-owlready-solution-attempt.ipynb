{
 "cells": [
  {
   "cell_type": "markdown",
   "metadata": {},
   "source": [
    "This notebook documents some attempts to solve the famous [zebra puzzle](http://en.wikipedia.org/wiki/Zebra_puzzle) by A. Einstein with the help of semantic web tools for python.\n",
    "\n",
    "\n",
    "It is based on theses Links/Projects\n",
    "\n",
    "- https://pythonhosted.org/Owlready2/index.html\n",
    "- https://github.com/RDFLib/OWL-RL/issues/3 \"Solving Einstein's riddle (zebra puzzle\"\n",
    "    - Linked owl-files:\n",
    "    - https://github.com/RDFLib/OWL-RL/files/1533408/einsteins_riddle.owl.txt\n",
    "    - https://github.com/RDFLib/OWL-RL/files/1533409/zebra.n3.txt\n",
    "- http://lambdamusic.github.io/Ontospy/\n",
    "\n",
    "\n",
    "For installation I did:\n",
    "\n",
    "```bash\n",
    "pip install owlready\n",
    "pip install ontospy[FULL]\n",
    "``` \n"
   ]
  },
  {
   "cell_type": "code",
   "execution_count": 1,
   "metadata": {},
   "outputs": [],
   "source": [
    "import os\n",
    "import subprocess\n",
    "import owlready2 as owl2"
   ]
  },
  {
   "cell_type": "markdown",
   "metadata": {},
   "source": [
    "# Direct approach\n",
    "\n",
    "we assume that both ontology files have been downloaded to `./ontology_data/<filename>`. They are parsed directly with owlready."
   ]
  },
  {
   "cell_type": "markdown",
   "metadata": {},
   "source": [
    "## Ontology 1"
   ]
  },
  {
   "cell_type": "code",
   "execution_count": 2,
   "metadata": {},
   "outputs": [],
   "source": [
    "data_path = \"ontology_data\"\n",
    "\n",
    "\n",
    "path1 = os.path.join(data_path, \"einsteins_riddle.owl.txt\")\n",
    "path2 = os.path.join(data_path, \"zebra.n3.txt\")"
   ]
  },
  {
   "cell_type": "code",
   "execution_count": 3,
   "metadata": {},
   "outputs": [
    {
     "data": {
      "text/plain": [
       "[owl.Nothing,\n",
       " einsteins_riddle.owl.txt.Beverage,\n",
       " einsteins_riddle.owl.txt.Man,\n",
       " einsteins_riddle.owl.txt.Color,\n",
       " einsteins_riddle.owl.txt.House,\n",
       " einsteins_riddle.owl.txt.Pet,\n",
       " einsteins_riddle.owl.txt.Cigarette]"
      ]
     },
     "execution_count": 3,
     "metadata": {},
     "output_type": "execute_result"
    }
   ],
   "source": [
    "onto = owl2.get_ontology(path1).load()\n",
    "list(onto.classes())"
   ]
  },
  {
   "cell_type": "markdown",
   "metadata": {},
   "source": [
    "Classes have been loaded, but seemingly no instances"
   ]
  },
  {
   "cell_type": "code",
   "execution_count": 18,
   "metadata": {},
   "outputs": [
    {
     "data": {
      "text/plain": [
       "zebra.n3.txt.xml.Color"
      ]
     },
     "execution_count": 18,
     "metadata": {},
     "output_type": "execute_result"
    }
   ],
   "source": [
    "onto.Color"
   ]
  },
  {
   "cell_type": "code",
   "execution_count": 19,
   "metadata": {},
   "outputs": [
    {
     "data": {
      "text/plain": [
       "[]"
      ]
     },
     "execution_count": 19,
     "metadata": {},
     "output_type": "execute_result"
    }
   ],
   "source": [
    "onto.Color.instances()"
   ]
  },
  {
   "cell_type": "code",
   "execution_count": 20,
   "metadata": {},
   "outputs": [
    {
     "data": {
      "text/plain": [
       "zebra.n3.txt.xml.Pet"
      ]
     },
     "execution_count": 20,
     "metadata": {},
     "output_type": "execute_result"
    }
   ],
   "source": [
    "onto.Pet"
   ]
  },
  {
   "cell_type": "code",
   "execution_count": 24,
   "metadata": {},
   "outputs": [
    {
     "data": {
      "text/plain": [
       "[]"
      ]
     },
     "execution_count": 24,
     "metadata": {},
     "output_type": "execute_result"
    }
   ],
   "source": [
    "onto.Pet.instances()"
   ]
  },
  {
   "cell_type": "code",
   "execution_count": 27,
   "metadata": {},
   "outputs": [
    {
     "data": {
      "text/plain": [
       "[zebra.n3.txt.xml.isRightTo,\n",
       " zebra.n3.txt.xml.isLeftTo,\n",
       " zebra.n3.txt.xml.isNextTo,\n",
       " zebra.n3.txt.xml.livesIn,\n",
       " zebra.n3.txt.xml.drinks,\n",
       " zebra.n3.txt.xml.smokes,\n",
       " zebra.n3.txt.xml.hasColor,\n",
       " zebra.n3.txt.xml.hasPet]"
      ]
     },
     "execution_count": 27,
     "metadata": {},
     "output_type": "execute_result"
    }
   ],
   "source": [
    "list(onto.properties())"
   ]
  },
  {
   "cell_type": "code",
   "execution_count": 28,
   "metadata": {},
   "outputs": [
    {
     "data": {
      "text/plain": [
       "zebra.n3.txt.xml.hasPet"
      ]
     },
     "execution_count": 28,
     "metadata": {},
     "output_type": "execute_result"
    }
   ],
   "source": [
    "onto.hasPet"
   ]
  },
  {
   "cell_type": "code",
   "execution_count": 37,
   "metadata": {},
   "outputs": [
    {
     "name": "stdout",
     "output_type": "stream",
     "text": [
      "<class 'KeyError'> -336\n"
     ]
    }
   ],
   "source": [
    "try:\n",
    "    list(onto.hasPet.get_relations())\n",
    "except KeyError as err:\n",
    "    print(type(err), err)"
   ]
  },
  {
   "cell_type": "markdown",
   "metadata": {},
   "source": [
    "## Ontology 2"
   ]
  },
  {
   "cell_type": "code",
   "execution_count": 4,
   "metadata": {},
   "outputs": [],
   "source": [
    "# create a new world\n",
    "owl2.default_world = owl2.World()"
   ]
  },
  {
   "cell_type": "code",
   "execution_count": 5,
   "metadata": {},
   "outputs": [
    {
     "data": {
      "text/plain": [
       "[]"
      ]
     },
     "execution_count": 5,
     "metadata": {},
     "output_type": "execute_result"
    }
   ],
   "source": [
    "onto = owl2.get_ontology(path2).load()\n",
    "list(onto.classes())"
   ]
  },
  {
   "cell_type": "markdown",
   "metadata": {},
   "source": [
    "Seems like no classes have been loaded."
   ]
  },
  {
   "cell_type": "markdown",
   "metadata": {},
   "source": [
    "# Indirect Approach\n",
    "\n",
    "Convert syntax to xml before parsing by using `ontospy`."
   ]
  },
  {
   "cell_type": "markdown",
   "metadata": {},
   "source": [
    "## Ontology 2"
   ]
  },
  {
   "cell_type": "code",
   "execution_count": 10,
   "metadata": {},
   "outputs": [],
   "source": [
    "# create a new world\n",
    "owl2.default_world = owl2.World()"
   ]
  },
  {
   "cell_type": "code",
   "execution_count": 11,
   "metadata": {},
   "outputs": [
    {
     "data": {
      "text/plain": [
       "0"
      ]
     },
     "execution_count": 11,
     "metadata": {},
     "output_type": "execute_result"
    }
   ],
   "source": [
    "cmd2 = f\"ontospy ser -f xml {path2} | tail -n +2 > {path2x}\"\n",
    "os.system(cmd2)"
   ]
  },
  {
   "cell_type": "code",
   "execution_count": 12,
   "metadata": {},
   "outputs": [
    {
     "data": {
      "text/plain": [
       "[zebra.n3.txt.xml.Smoke,\n",
       " zebra.n3.txt.xml.Drink,\n",
       " zebra.n3.txt.xml.Person,\n",
       " zebra.n3.txt.xml.House,\n",
       " zebra.n3.txt.xml.Color,\n",
       " zebra.n3.txt.xml.Pet]"
      ]
     },
     "execution_count": 12,
     "metadata": {},
     "output_type": "execute_result"
    }
   ],
   "source": [
    "onto = owl2.get_ontology(path2x).load()\n",
    "list(onto.classes())"
   ]
  },
  {
   "cell_type": "code",
   "execution_count": 39,
   "metadata": {},
   "outputs": [
    {
     "data": {
      "text/plain": [
       "[]"
      ]
     },
     "execution_count": 39,
     "metadata": {},
     "output_type": "execute_result"
    }
   ],
   "source": [
    "onto.Color.instances()"
   ]
  },
  {
   "cell_type": "markdown",
   "metadata": {},
   "source": [
    "# Conclusion \n",
    "\n",
    "\n",
    "I can load the classes but their definition as `owl:oneOf` and their connection by roles (properties) seems not to be represented. Probably I do something wrong."
   ]
  }
 ],
 "metadata": {
  "kernelspec": {
   "display_name": "Python 3",
   "language": "python",
   "name": "python3"
  },
  "language_info": {
   "codemirror_mode": {
    "name": "ipython",
    "version": 3
   },
   "file_extension": ".py",
   "mimetype": "text/x-python",
   "name": "python",
   "nbconvert_exporter": "python",
   "pygments_lexer": "ipython3",
   "version": "3.7.8"
  }
 },
 "nbformat": 4,
 "nbformat_minor": 2
}
