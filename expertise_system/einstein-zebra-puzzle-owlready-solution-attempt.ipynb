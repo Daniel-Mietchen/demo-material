{
 "cells": [
  {
   "cell_type": "markdown",
   "metadata": {},
   "source": [
    "This notebook documents some attempts to solve the famous [zebra puzzle](http://en.wikipedia.org/wiki/Zebra_puzzle) by A. Einstein with the help of semantic web tools for python.\n",
    "\n",
    "\n",
    "It is based on theses Links/Projects\n",
    "\n",
    "- https://pythonhosted.org/Owlready2/index.html\n",
    "- https://github.com/RDFLib/OWL-RL/issues/3 \"Solving Einstein's riddle (zebra puzzle)\"\n",
    "    - Linked owl-files:\n",
    "    - https://github.com/RDFLib/OWL-RL/files/1533408/einsteins_riddle.owl.txt\n",
    "        - created by [D. Ponomaryov](https://persons.iis.nsk.su/en/ponom/ontologies)\n",
    "        - leads to **working solution**, see [einstein-zebra-puzzle-owlready-solution1](einstein-zebra-puzzle-owlready-solution1.ipynb)\n",
    "    - https://github.com/RDFLib/OWL-RL/files/1533409/zebra.n3.txt\n",
    "        - there seem to be some problems in loading/parsing the ontology\n",
    "- http://lambdamusic.github.io/Ontospy/\n",
    "    - used for conversion between owl-dialects\n",
    "\n",
    "\n",
    "For installation I did:\n",
    "\n",
    "```bash\n",
    "pip install owlready\n",
    "pip install ontospy[FULL]\n",
    "``` \n"
   ]
  },
  {
   "cell_type": "code",
   "execution_count": 1,
   "metadata": {},
   "outputs": [],
   "source": [
    "import os\n",
    "import owlready2 as owl2"
   ]
  },
  {
   "cell_type": "markdown",
   "metadata": {},
   "source": [
    "# Direct approach\n",
    "\n",
    "we assume that both ontology files have been downloaded to `./ontology_data/<filename>`. They are parsed directly with owlready."
   ]
  },
  {
   "cell_type": "markdown",
   "metadata": {},
   "source": [
    "## Ontology 2"
   ]
  },
  {
   "cell_type": "code",
   "execution_count": 2,
   "metadata": {},
   "outputs": [],
   "source": [
    "data_path = \"ontology_data\"\n",
    "\n",
    "path1 = os.path.join(data_path, \"einsteins_riddle.owl.txt\") # this file works (see link above)\n",
    "path2 = os.path.join(data_path, \"zebra.n3.txt\")"
   ]
  },
  {
   "cell_type": "markdown",
   "metadata": {},
   "source": [
    "Classes have been loaded, but seemingly no instances"
   ]
  },
  {
   "cell_type": "code",
   "execution_count": 3,
   "metadata": {},
   "outputs": [
    {
     "data": {
      "text/plain": [
       "[]"
      ]
     },
     "execution_count": 3,
     "metadata": {},
     "output_type": "execute_result"
    }
   ],
   "source": [
    "onto = owl2.get_ontology(path2).load()\n",
    "list(onto.classes())"
   ]
  },
  {
   "cell_type": "markdown",
   "metadata": {},
   "source": [
    "Seems like no classes have been loaded."
   ]
  },
  {
   "cell_type": "markdown",
   "metadata": {},
   "source": [
    "# Indirect Approach\n",
    "\n",
    "Convert syntax to xml before parsing by using `ontospy`."
   ]
  },
  {
   "cell_type": "markdown",
   "metadata": {},
   "source": [
    "## Ontology 2"
   ]
  },
  {
   "cell_type": "code",
   "execution_count": 4,
   "metadata": {},
   "outputs": [],
   "source": [
    "# create a new world\n",
    "owl2.default_world = owl2.World()"
   ]
  },
  {
   "cell_type": "code",
   "execution_count": 5,
   "metadata": {},
   "outputs": [],
   "source": [
    "path2x = f\"{path2}.xml\""
   ]
  },
  {
   "cell_type": "code",
   "execution_count": 6,
   "metadata": {},
   "outputs": [
    {
     "data": {
      "text/plain": [
       "0"
      ]
     },
     "execution_count": 6,
     "metadata": {},
     "output_type": "execute_result"
    }
   ],
   "source": [
    "cmd2 = f\"ontospy ser -f xml {path2} | tail -n +2 > {path2x}\"\n",
    "os.system(cmd2)"
   ]
  },
  {
   "cell_type": "markdown",
   "metadata": {},
   "source": [
    "Now the ontology can be successuflly loaded"
   ]
  },
  {
   "cell_type": "code",
   "execution_count": 7,
   "metadata": {},
   "outputs": [
    {
     "data": {
      "text/plain": [
       "[zebra.n3.txt.xml.Drink,\n",
       " zebra.n3.txt.xml.Person,\n",
       " zebra.n3.txt.xml.House,\n",
       " zebra.n3.txt.xml.Color,\n",
       " zebra.n3.txt.xml.Smoke,\n",
       " zebra.n3.txt.xml.Pet]"
      ]
     },
     "execution_count": 7,
     "metadata": {},
     "output_type": "execute_result"
    }
   ],
   "source": [
    "onto = owl2.get_ontology(path2x).load()\n",
    "list(onto.classes())"
   ]
  },
  {
   "cell_type": "code",
   "execution_count": 8,
   "metadata": {},
   "outputs": [
    {
     "data": {
      "text/plain": [
       "[zebra.n3.txt.xml.drinks,\n",
       " zebra.n3.txt.xml.smokes,\n",
       " zebra.n3.txt.xml.hasPet,\n",
       " zebra.n3.txt.xml.isRightTo,\n",
       " zebra.n3.txt.xml.isNextTo,\n",
       " zebra.n3.txt.xml.isLeftTo,\n",
       " zebra.n3.txt.xml.hasColor,\n",
       " zebra.n3.txt.xml.livesIn]"
      ]
     },
     "execution_count": 8,
     "metadata": {},
     "output_type": "execute_result"
    }
   ],
   "source": [
    "list(onto.properties())"
   ]
  },
  {
   "cell_type": "code",
   "execution_count": 9,
   "metadata": {},
   "outputs": [
    {
     "data": {
      "text/plain": [
       "zebra.n3.txt.xml.Color"
      ]
     },
     "execution_count": 9,
     "metadata": {},
     "output_type": "execute_result"
    }
   ],
   "source": [
    "onto.Color"
   ]
  },
  {
   "cell_type": "code",
   "execution_count": 10,
   "metadata": {},
   "outputs": [
    {
     "data": {
      "text/plain": [
       "zebra.n3.txt.xml.livesIn"
      ]
     },
     "execution_count": 10,
     "metadata": {},
     "output_type": "execute_result"
    }
   ],
   "source": [
    "onto.livesIn"
   ]
  },
  {
   "cell_type": "markdown",
   "metadata": {},
   "source": [
    "However, instance information seems to be missing:"
   ]
  },
  {
   "cell_type": "code",
   "execution_count": 11,
   "metadata": {},
   "outputs": [
    {
     "data": {
      "text/plain": [
       "[]"
      ]
     },
     "execution_count": 11,
     "metadata": {},
     "output_type": "execute_result"
    }
   ],
   "source": [
    "onto.Color.instances()"
   ]
  },
  {
   "cell_type": "code",
   "execution_count": 12,
   "metadata": {},
   "outputs": [
    {
     "data": {
      "text/plain": [
       "[]"
      ]
     },
     "execution_count": 12,
     "metadata": {},
     "output_type": "execute_result"
    }
   ],
   "source": [
    "list(onto.individuals())"
   ]
  },
  {
   "cell_type": "code",
   "execution_count": 13,
   "metadata": {},
   "outputs": [
    {
     "name": "stdout",
     "output_type": "stream",
     "text": [
      "<class 'KeyError'> -69\n"
     ]
    }
   ],
   "source": [
    "try:\n",
    "    list(onto.livesIn.get_relations())\n",
    "except KeyError as err:\n",
    "    print(type(err), err)"
   ]
  },
  {
   "cell_type": "code",
   "execution_count": 14,
   "metadata": {},
   "outputs": [
    {
     "data": {
      "text/plain": [
       "[zebra_protege_rdf-xml.House5,\n",
       " zebra_protege_rdf-xml.OrangeJuice,\n",
       " zebra_protege_rdf-xml.LuckyStrike,\n",
       " zebra_protege_rdf-xml.Dog,\n",
       " zebra_protege_rdf-xml.House4,\n",
       " zebra_protege_rdf-xml.Spaniard,\n",
       " zebra_protege_rdf-xml.House3,\n",
       " zebra_protege_rdf-xml.Red,\n",
       " zebra_protege_rdf-xml.Fox,\n",
       " zebra_protege_rdf-xml.Yellow,\n",
       " zebra_protege_rdf-xml.House2,\n",
       " zebra.Norwegian,\n",
       " zebra.House1,\n",
       " zebra_protege_rdf-xml.Kools,\n",
       " zebra_protege_rdf-xml.Blue,\n",
       " zebra_protege_rdf-xml.Zebra,\n",
       " zebra_protege_rdf-xml.Water,\n",
       " zebra_protege_rdf-xml.Horse,\n",
       " zebra_protege_rdf-xml.Tea,\n",
       " zebra_protege_rdf-xml.Milk,\n",
       " zebra_protege_rdf-xml.Chesterfield,\n",
       " zebra_protege_rdf-xml.Snails,\n",
       " zebra_protege_rdf-xml.OldGold,\n",
       " zebra_protege_rdf-xml.Japanese,\n",
       " zebra_protege_rdf-xml.Coffee,\n",
       " zebra_protege_rdf-xml.Green,\n",
       " zebra_protege_rdf-xml.Englishman,\n",
       " zebra_protege_rdf-xml.Ukrainian,\n",
       " zebra_protege_rdf-xml.Ivory,\n",
       " zebra_protege_rdf-xml.Parliament]"
      ]
     },
     "execution_count": 14,
     "metadata": {},
     "output_type": "execute_result"
    }
   ],
   "source": [
    "data_path = \"ontology_data\"\n",
    "\n",
    "\"zebra_protege_manchester.owl\"\n",
    "\"zebra_protege_owl-xml.owl\"\n",
    "\"zebra_protege_rdf-xml.owl\"\n",
    "\"zebra_protege_turtle.owl\"\n",
    "\n",
    "path2p = os.path.join(data_path, \"zebra_protege_rdf-xml.owl\")\n",
    "onto = owl2.get_ontology(path2p).load()\n",
    "list(onto.individuals())"
   ]
  },
  {
   "cell_type": "code",
   "execution_count": 15,
   "metadata": {},
   "outputs": [
    {
     "name": "stdout",
     "output_type": "stream",
     "text": [
      "CPU times: user 4.52 ms, sys: 4.19 ms, total: 8.71 ms\n",
      "Wall time: 1.09 s\n"
     ]
    }
   ],
   "source": [
    "%time owl2.sync_reasoner_pellet(infer_property_values=True, infer_data_property_values=True, debug=0)"
   ]
  },
  {
   "cell_type": "code",
   "execution_count": 22,
   "metadata": {},
   "outputs": [
    {
     "data": {
      "text/plain": [
       "[zebra_protege_rdf-xml.House5,\n",
       " zebra_protege_rdf-xml.OrangeJuice,\n",
       " zebra_protege_rdf-xml.LuckyStrike,\n",
       " zebra_protege_rdf-xml.Dog,\n",
       " zebra_protege_rdf-xml.House4,\n",
       " zebra_protege_rdf-xml.Spaniard,\n",
       " zebra_protege_rdf-xml.House3,\n",
       " zebra_protege_rdf-xml.Red,\n",
       " zebra_protege_rdf-xml.Fox,\n",
       " zebra_protege_rdf-xml.Yellow,\n",
       " zebra_protege_rdf-xml.House2,\n",
       " zebra.Norwegian,\n",
       " zebra.House1,\n",
       " zebra_protege_rdf-xml.Kools,\n",
       " zebra_protege_rdf-xml.Blue,\n",
       " zebra_protege_rdf-xml.Zebra,\n",
       " zebra_protege_rdf-xml.Water,\n",
       " zebra_protege_rdf-xml.Horse,\n",
       " zebra_protege_rdf-xml.Tea,\n",
       " zebra_protege_rdf-xml.Milk,\n",
       " zebra_protege_rdf-xml.Chesterfield,\n",
       " zebra_protege_rdf-xml.Snails,\n",
       " zebra_protege_rdf-xml.OldGold,\n",
       " zebra_protege_rdf-xml.Japanese,\n",
       " zebra_protege_rdf-xml.Coffee,\n",
       " zebra_protege_rdf-xml.Green,\n",
       " zebra_protege_rdf-xml.Englishman,\n",
       " zebra_protege_rdf-xml.Ukrainian,\n",
       " zebra_protege_rdf-xml.Ivory,\n",
       " zebra_protege_rdf-xml.Parliament]"
      ]
     },
     "execution_count": 22,
     "metadata": {},
     "output_type": "execute_result"
    }
   ],
   "source": [
    "list(onto.individuals())"
   ]
  },
  {
   "cell_type": "code",
   "execution_count": 16,
   "metadata": {},
   "outputs": [
    {
     "ename": "KeyError",
     "evalue": "-69",
     "output_type": "error",
     "traceback": [
      "\u001b[0;31m---------------------------------------------------------------------------\u001b[0m",
      "\u001b[0;31mKeyError\u001b[0m                                  Traceback (most recent call last)",
      "\u001b[0;32m<ipython-input-16-c481b0d2e262>\u001b[0m in \u001b[0;36m<module>\u001b[0;34m\u001b[0m\n\u001b[0;32m----> 1\u001b[0;31m \u001b[0mlist\u001b[0m\u001b[0;34m(\u001b[0m\u001b[0monto\u001b[0m\u001b[0;34m.\u001b[0m\u001b[0mlivesIn\u001b[0m\u001b[0;34m.\u001b[0m\u001b[0mget_relations\u001b[0m\u001b[0;34m(\u001b[0m\u001b[0;34m)\u001b[0m\u001b[0;34m)\u001b[0m\u001b[0;34m\u001b[0m\u001b[0;34m\u001b[0m\u001b[0m\n\u001b[0m",
      "\u001b[0;32m~/miniconda3/envs/base37/lib/python3.7/site-packages/owlready2/prop.py\u001b[0m in \u001b[0;36mget_relations\u001b[0;34m(Prop)\u001b[0m\n\u001b[1;32m    418\u001b[0m   \u001b[0;32mdef\u001b[0m \u001b[0mget_relations\u001b[0m\u001b[0;34m(\u001b[0m\u001b[0mProp\u001b[0m\u001b[0;34m)\u001b[0m\u001b[0;34m:\u001b[0m\u001b[0;34m\u001b[0m\u001b[0;34m\u001b[0m\u001b[0m\n\u001b[1;32m    419\u001b[0m     \u001b[0;32mfor\u001b[0m \u001b[0ms\u001b[0m\u001b[0;34m,\u001b[0m\u001b[0mp\u001b[0m\u001b[0;34m,\u001b[0m\u001b[0mo\u001b[0m\u001b[0;34m,\u001b[0m\u001b[0md\u001b[0m \u001b[0;32min\u001b[0m \u001b[0mProp\u001b[0m\u001b[0;34m.\u001b[0m\u001b[0mnamespace\u001b[0m\u001b[0;34m.\u001b[0m\u001b[0mworld\u001b[0m\u001b[0;34m.\u001b[0m\u001b[0m_get_triples_spod_spod\u001b[0m\u001b[0;34m(\u001b[0m\u001b[0;32mNone\u001b[0m\u001b[0;34m,\u001b[0m \u001b[0mProp\u001b[0m\u001b[0;34m.\u001b[0m\u001b[0mstorid\u001b[0m\u001b[0;34m,\u001b[0m \u001b[0;32mNone\u001b[0m\u001b[0;34m,\u001b[0m \u001b[0;34m\"\"\u001b[0m\u001b[0;34m)\u001b[0m\u001b[0;34m:\u001b[0m\u001b[0;34m\u001b[0m\u001b[0;34m\u001b[0m\u001b[0m\n\u001b[0;32m--> 420\u001b[0;31m       \u001b[0ms\u001b[0m \u001b[0;34m=\u001b[0m \u001b[0mProp\u001b[0m\u001b[0;34m.\u001b[0m\u001b[0mnamespace\u001b[0m\u001b[0;34m.\u001b[0m\u001b[0mworld\u001b[0m\u001b[0;34m.\u001b[0m\u001b[0m_get_by_storid\u001b[0m\u001b[0;34m(\u001b[0m\u001b[0ms\u001b[0m\u001b[0;34m)\u001b[0m\u001b[0;34m\u001b[0m\u001b[0;34m\u001b[0m\u001b[0m\n\u001b[0m\u001b[1;32m    421\u001b[0m       \u001b[0mo\u001b[0m \u001b[0;34m=\u001b[0m \u001b[0mProp\u001b[0m\u001b[0;34m.\u001b[0m\u001b[0mnamespace\u001b[0m\u001b[0;34m.\u001b[0m\u001b[0montology\u001b[0m\u001b[0;34m.\u001b[0m\u001b[0m_to_python\u001b[0m\u001b[0;34m(\u001b[0m\u001b[0mo\u001b[0m\u001b[0;34m,\u001b[0m \u001b[0md\u001b[0m\u001b[0;34m)\u001b[0m\u001b[0;34m\u001b[0m\u001b[0;34m\u001b[0m\u001b[0m\n\u001b[1;32m    422\u001b[0m       \u001b[0;32myield\u001b[0m \u001b[0ms\u001b[0m\u001b[0;34m,\u001b[0m \u001b[0mo\u001b[0m\u001b[0;34m\u001b[0m\u001b[0;34m\u001b[0m\u001b[0m\n",
      "\u001b[0;32m~/miniconda3/envs/base37/lib/python3.7/site-packages/owlready2/namespace.py\u001b[0m in \u001b[0;36m_get_by_storid\u001b[0;34m(self, storid, full_iri, main_type, main_onto, trace, default_to_none)\u001b[0m\n\u001b[1;32m    536\u001b[0m \u001b[0;34m\u001b[0m\u001b[0m\n\u001b[1;32m    537\u001b[0m     \u001b[0;32mtry\u001b[0m\u001b[0;34m:\u001b[0m\u001b[0;34m\u001b[0m\u001b[0;34m\u001b[0m\u001b[0m\n\u001b[0;32m--> 538\u001b[0;31m       \u001b[0;32mreturn\u001b[0m \u001b[0mself\u001b[0m\u001b[0;34m.\u001b[0m\u001b[0m_load_by_storid\u001b[0m\u001b[0;34m(\u001b[0m\u001b[0mstorid\u001b[0m\u001b[0;34m,\u001b[0m \u001b[0mfull_iri\u001b[0m\u001b[0;34m,\u001b[0m \u001b[0mmain_type\u001b[0m\u001b[0;34m,\u001b[0m \u001b[0mmain_onto\u001b[0m\u001b[0;34m,\u001b[0m \u001b[0mdefault_to_none\u001b[0m\u001b[0;34m)\u001b[0m\u001b[0;34m\u001b[0m\u001b[0;34m\u001b[0m\u001b[0m\n\u001b[0m\u001b[1;32m    539\u001b[0m     \u001b[0;32mexcept\u001b[0m \u001b[0mRecursionError\u001b[0m\u001b[0;34m:\u001b[0m\u001b[0;34m\u001b[0m\u001b[0;34m\u001b[0m\u001b[0m\n\u001b[1;32m    540\u001b[0m       \u001b[0;32mreturn\u001b[0m \u001b[0mself\u001b[0m\u001b[0;34m.\u001b[0m\u001b[0m_load_by_storid\u001b[0m\u001b[0;34m(\u001b[0m\u001b[0mstorid\u001b[0m\u001b[0;34m,\u001b[0m \u001b[0mfull_iri\u001b[0m\u001b[0;34m,\u001b[0m \u001b[0mmain_type\u001b[0m\u001b[0;34m,\u001b[0m \u001b[0mmain_onto\u001b[0m\u001b[0;34m,\u001b[0m \u001b[0mdefault_to_none\u001b[0m\u001b[0;34m,\u001b[0m \u001b[0;34m(\u001b[0m\u001b[0;34m)\u001b[0m\u001b[0;34m)\u001b[0m\u001b[0;34m\u001b[0m\u001b[0;34m\u001b[0m\u001b[0m\n",
      "\u001b[0;32m~/miniconda3/envs/base37/lib/python3.7/site-packages/owlready2/namespace.py\u001b[0m in \u001b[0;36m_load_by_storid\u001b[0;34m(self, storid, full_iri, main_type, main_onto, default_to_none, trace)\u001b[0m\n\u001b[1;32m    582\u001b[0m       \u001b[0;32mif\u001b[0m \u001b[0mmain_onto\u001b[0m \u001b[0;32mis\u001b[0m \u001b[0;32mNone\u001b[0m\u001b[0;34m:\u001b[0m\u001b[0;34m\u001b[0m\u001b[0;34m\u001b[0m\u001b[0m\n\u001b[1;32m    583\u001b[0m         \u001b[0mmain_onto\u001b[0m \u001b[0;34m=\u001b[0m \u001b[0mself\u001b[0m\u001b[0;34m.\u001b[0m\u001b[0mget_ontology\u001b[0m\u001b[0;34m(\u001b[0m\u001b[0;34m\"http://anonymous/\"\u001b[0m\u001b[0;34m)\u001b[0m\u001b[0;34m\u001b[0m\u001b[0;34m\u001b[0m\u001b[0m\n\u001b[0;32m--> 584\u001b[0;31m         \u001b[0mfull_iri\u001b[0m \u001b[0;34m=\u001b[0m \u001b[0mfull_iri\u001b[0m \u001b[0;32mor\u001b[0m \u001b[0mself\u001b[0m\u001b[0;34m.\u001b[0m\u001b[0m_unabbreviate\u001b[0m\u001b[0;34m(\u001b[0m\u001b[0mstorid\u001b[0m\u001b[0;34m)\u001b[0m\u001b[0;34m\u001b[0m\u001b[0;34m\u001b[0m\u001b[0m\n\u001b[0m\u001b[1;32m    585\u001b[0m         \u001b[0;32mif\u001b[0m \u001b[0mfull_iri\u001b[0m\u001b[0;34m.\u001b[0m\u001b[0mstartswith\u001b[0m\u001b[0;34m(\u001b[0m\u001b[0mowl\u001b[0m\u001b[0;34m.\u001b[0m\u001b[0mbase_iri\u001b[0m\u001b[0;34m)\u001b[0m \u001b[0;32mor\u001b[0m \u001b[0mfull_iri\u001b[0m\u001b[0;34m.\u001b[0m\u001b[0mstartswith\u001b[0m\u001b[0;34m(\u001b[0m\u001b[0mrdfs\u001b[0m\u001b[0;34m.\u001b[0m\u001b[0mbase_iri\u001b[0m\u001b[0;34m)\u001b[0m \u001b[0;32mor\u001b[0m \u001b[0mfull_iri\u001b[0m\u001b[0;34m.\u001b[0m\u001b[0mstartswith\u001b[0m\u001b[0;34m(\u001b[0m\u001b[0;34m\"http://www.w3.org/1999/02/22-rdf-syntax-ns#\"\u001b[0m\u001b[0;34m)\u001b[0m\u001b[0;34m:\u001b[0m \u001b[0;32mreturn\u001b[0m \u001b[0;32mNone\u001b[0m\u001b[0;34m\u001b[0m\u001b[0;34m\u001b[0m\u001b[0m\n\u001b[1;32m    586\u001b[0m \u001b[0;34m\u001b[0m\u001b[0m\n",
      "\u001b[0;32m~/miniconda3/envs/base37/lib/python3.7/site-packages/owlready2/triplelite.py\u001b[0m in \u001b[0;36m_unabbreviate_dict\u001b[0;34m(self, storid)\u001b[0m\n\u001b[1;32m    487\u001b[0m \u001b[0;34m\u001b[0m\u001b[0m\n\u001b[1;32m    488\u001b[0m   \u001b[0;32mdef\u001b[0m \u001b[0m_unabbreviate_dict\u001b[0m\u001b[0;34m(\u001b[0m\u001b[0mself\u001b[0m\u001b[0;34m,\u001b[0m \u001b[0mstorid\u001b[0m\u001b[0;34m)\u001b[0m\u001b[0;34m:\u001b[0m\u001b[0;34m\u001b[0m\u001b[0;34m\u001b[0m\u001b[0m\n\u001b[0;32m--> 489\u001b[0;31m     \u001b[0;32mreturn\u001b[0m \u001b[0mself\u001b[0m\u001b[0;34m.\u001b[0m\u001b[0m_unabbreviate_d\u001b[0m\u001b[0;34m[\u001b[0m\u001b[0mstorid\u001b[0m\u001b[0;34m]\u001b[0m\u001b[0;34m\u001b[0m\u001b[0;34m\u001b[0m\u001b[0m\n\u001b[0m\u001b[1;32m    490\u001b[0m \u001b[0;34m\u001b[0m\u001b[0m\n\u001b[1;32m    491\u001b[0m   \u001b[0;32mdef\u001b[0m \u001b[0mget_storid_dict\u001b[0m\u001b[0;34m(\u001b[0m\u001b[0mself\u001b[0m\u001b[0;34m)\u001b[0m\u001b[0;34m:\u001b[0m\u001b[0;34m\u001b[0m\u001b[0;34m\u001b[0m\u001b[0m\n",
      "\u001b[0;31mKeyError\u001b[0m: -69"
     ]
    }
   ],
   "source": [
    "list(onto.livesIn.get_relations())"
   ]
  },
  {
   "cell_type": "markdown",
   "metadata": {},
   "source": [
    "# Conclusion \n",
    "\n",
    "\n",
    "I can load the classes and properites but apprently the information about individuals is missing and thus the class definition as `owl:oneOf` and their connection by roles (properties) seems not to be represented."
   ]
  }
 ],
 "metadata": {
  "kernelspec": {
   "display_name": "Python 3",
   "language": "python",
   "name": "python3"
  },
  "language_info": {
   "codemirror_mode": {
    "name": "ipython",
    "version": 3
   },
   "file_extension": ".py",
   "mimetype": "text/x-python",
   "name": "python",
   "nbconvert_exporter": "python",
   "pygments_lexer": "ipython3",
   "version": "3.8.6"
  }
 },
 "nbformat": 4,
 "nbformat_minor": 2
}
