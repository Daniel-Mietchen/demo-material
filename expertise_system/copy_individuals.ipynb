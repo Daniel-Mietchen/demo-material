{
 "cells": [
  {
   "cell_type": "markdown",
   "metadata": {},
   "source": [
    "This is an example from the owlready2 mailinglist, see http://owlready.8326.n8.nabble.com/HELP-Add-elements-from-one-ontology-to-another-td2128.html\n",
    "\n",
    "\n",
    "This notebook is based on the docs: https://owlready2.readthedocs.io/en/latest/world.html#using-several-isolated-worlds."
   ]
  },
  {
   "cell_type": "code",
   "execution_count": 1,
   "metadata": {},
   "outputs": [],
   "source": [
    "# enable magic comments like \"##:\" to display the result of assignments\n",
    "%load_ext ipydex.displaytools"
   ]
  },
  {
   "cell_type": "code",
   "execution_count": 2,
   "metadata": {},
   "outputs": [
    {
     "name": "stderr",
     "output_type": "stream",
     "text": [
      "* Owlready2 * Warning: optimized Cython parser module 'owlready2_optimized' is not available, defaulting to slower Python implementation\n"
     ]
    }
   ],
   "source": [
    "import owlready2 as owl2\n",
    "from owlready2 import Thing\n",
    "\n",
    "onto_base = owl2.get_ontology(\"http://test.org/demo.owl\")\n",
    "\n",
    "with onto_base:\n",
    "    class MyClass(Thing):\n",
    "        pass\n",
    "    \n",
    "    "
   ]
  },
  {
   "cell_type": "code",
   "execution_count": 3,
   "metadata": {},
   "outputs": [],
   "source": [
    "onto_base.save(file=\"onto_base.xml\", format=\"rdfxml\") "
   ]
  },
  {
   "cell_type": "markdown",
   "metadata": {},
   "source": [
    "### create different ontologies (same classes but different individuals)"
   ]
  },
  {
   "cell_type": "code",
   "execution_count": 4,
   "metadata": {},
   "outputs": [],
   "source": [
    "world_A = owl2.World()\n",
    "world_B = owl2.World()"
   ]
  },
  {
   "cell_type": "code",
   "execution_count": 5,
   "metadata": {},
   "outputs": [],
   "source": [
    "onto_A = world_A.get_ontology(\"onto_base.xml\").load()\n",
    "onto_B = world_B.get_ontology(\"onto_base.xml\").load()"
   ]
  },
  {
   "cell_type": "code",
   "execution_count": 6,
   "metadata": {},
   "outputs": [],
   "source": [
    "with onto_A:\n",
    "    ind1 = onto_A.MyClass()\n",
    "    ind1.comment= [\"individual created in onto_A\"]\n",
    "    \n",
    "with onto_B:\n",
    "    ind1 = onto_B.MyClass()\n",
    "    ind1.comment= [\"individual created in onto_B\"]"
   ]
  },
  {
   "cell_type": "code",
   "execution_count": 7,
   "metadata": {},
   "outputs": [
    {
     "data": {
      "text/plain": [
       "ilist_A := [onto_base.xml.myclass1]"
      ]
     },
     "metadata": {},
     "output_type": "display_data"
    },
    {
     "data": {
      "text/plain": [
       "---"
      ]
     },
     "metadata": {},
     "output_type": "display_data"
    },
    {
     "data": {
      "text/plain": [
       "(ilist_A[0].comment) := ['individual created in onto_A']"
      ]
     },
     "metadata": {},
     "output_type": "display_data"
    },
    {
     "data": {
      "text/plain": [
       "---"
      ]
     },
     "metadata": {},
     "output_type": "display_data"
    },
    {
     "data": {
      "text/plain": [
       "ilist_B := [onto_base.xml.myclass1]"
      ]
     },
     "metadata": {},
     "output_type": "display_data"
    },
    {
     "data": {
      "text/plain": [
       "---"
      ]
     },
     "metadata": {},
     "output_type": "display_data"
    },
    {
     "data": {
      "text/plain": [
       "(ilist_B[0].comment) := ['individual created in onto_B']"
      ]
     },
     "metadata": {},
     "output_type": "display_data"
    },
    {
     "data": {
      "text/plain": [
       "---"
      ]
     },
     "metadata": {},
     "output_type": "display_data"
    }
   ],
   "source": [
    "ilist_A = list(onto_A.individuals()) ##:\n",
    "ilist_A[0].comment ##:\n",
    "\n",
    "ilist_B = list(onto_B.individuals()) ##:\n",
    "ilist_B[0].comment ##:"
   ]
  },
  {
   "cell_type": "markdown",
   "metadata": {},
   "source": [
    "### copy indviduals from B to A"
   ]
  },
  {
   "cell_type": "code",
   "execution_count": 8,
   "metadata": {},
   "outputs": [],
   "source": [
    "def copy_ind(source_ind, target_ont):\n",
    "    \"\"\"\n",
    "    copy an individual from ontology B to ontology A\n",
    "    \"\"\"\n",
    "    class_in_B = type(source_ind)\n",
    "    class_in_A = getattr(onto_A, class_in_B.name)\n",
    "    \n",
    "    with target_ont:\n",
    "        \n",
    "        new_ind = class_in_A()\n",
    "        \n",
    "        # there is probably more data which needs to be copied\n",
    "        new_ind.comment = source_ind.comment\n",
    "    \n",
    "    "
   ]
  },
  {
   "cell_type": "code",
   "execution_count": 9,
   "metadata": {},
   "outputs": [],
   "source": [
    "for iB in onto_B.individuals():\n",
    "    copy_ind(iB, onto_A)\n",
    "    \n"
   ]
  },
  {
   "cell_type": "code",
   "execution_count": 10,
   "metadata": {},
   "outputs": [
    {
     "data": {
      "text/plain": [
       "ilist_A := [onto_base.xml.myclass1, onto_base.xml.myclass2]"
      ]
     },
     "metadata": {},
     "output_type": "display_data"
    },
    {
     "data": {
      "text/plain": [
       "---"
      ]
     },
     "metadata": {},
     "output_type": "display_data"
    },
    {
     "name": "stdout",
     "output_type": "stream",
     "text": [
      "['individual created in onto_A']\n",
      "['individual created in onto_B']\n"
     ]
    }
   ],
   "source": [
    "ilist_A = list(onto_A.individuals()) ##:\n",
    "\n",
    "for ind in ilist_A:\n",
    "    print(ind.comment)"
   ]
  },
  {
   "cell_type": "code",
   "execution_count": 11,
   "metadata": {},
   "outputs": [
    {
     "name": "stdout",
     "output_type": "stream",
     "text": [
      "<?xml version=\"1.0\"?>\n",
      "<rdf:RDF xmlns:rdf=\"http://www.w3.org/1999/02/22-rdf-syntax-ns#\"\n",
      "         xmlns:xsd=\"http://www.w3.org/2001/XMLSchema#\"\n",
      "         xmlns:rdfs=\"http://www.w3.org/2000/01/rdf-schema#\"\n",
      "         xmlns:owl=\"http://www.w3.org/2002/07/owl#\"\n",
      "         xml:base=\"http://test.org/demo.owl\"\n",
      "         xmlns=\"http://test.org/demo.owl#\">\n",
      "\n",
      "<owl:Ontology rdf:about=\"http://test.org/demo.owl\"/>\n",
      "\n",
      "<owl:Class rdf:about=\"#MyClass\">\n",
      "  <rdfs:subClassOf rdf:resource=\"http://www.w3.org/2002/07/owl#Thing\"/>\n",
      "</owl:Class>\n",
      "\n",
      "<MyClass rdf:about=\"#myclass1\">\n",
      "  <rdf:type rdf:resource=\"http://www.w3.org/2002/07/owl#NamedIndividual\"/>\n",
      "  <rdfs:comment rdf:datatype=\"http://www.w3.org/2001/XMLSchema#string\">individual created in onto_A</rdfs:comment>\n",
      "</MyClass>\n",
      "\n",
      "<MyClass rdf:about=\"#myclass2\">\n",
      "  <rdf:type rdf:resource=\"http://www.w3.org/2002/07/owl#NamedIndividual\"/>\n",
      "  <rdfs:comment rdf:datatype=\"http://www.w3.org/2001/XMLSchema#string\">individual created in onto_B</rdfs:comment>\n",
      "</MyClass>\n",
      "\n",
      "\n",
      "</rdf:RDF>\n",
      "\n"
     ]
    }
   ],
   "source": [
    "fname_A = \"demo_onto_A.xml\"\n",
    "onto_A.save(file=fname_A, format=\"rdfxml\") \n",
    "\n",
    "with open(fname_A, \"r\") as thefile:\n",
    "    txt = thefile.read()\n",
    "    print(txt)"
   ]
  }
 ],
 "metadata": {
  "kernelspec": {
   "display_name": "Python 3",
   "language": "python",
   "name": "python3"
  },
  "language_info": {
   "codemirror_mode": {
    "name": "ipython",
    "version": 3
   },
   "file_extension": ".py",
   "mimetype": "text/x-python",
   "name": "python",
   "nbconvert_exporter": "python",
   "pygments_lexer": "ipython3",
   "version": "3.7.3"
  }
 },
 "nbformat": 4,
 "nbformat_minor": 2
}
