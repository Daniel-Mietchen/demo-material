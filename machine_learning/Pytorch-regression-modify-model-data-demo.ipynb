{
 "cells": [
  {
   "cell_type": "code",
   "execution_count": 1,
   "metadata": {},
   "outputs": [
    {
     "name": "stdout",
     "output_type": "stream",
     "text": [
      "Wed Nov 17 19:00:32 2021\n"
     ]
    }
   ],
   "source": [
    "import time\n",
    "print(time.ctime())\n",
    "%load_ext ipydex.displaytools"
   ]
  },
  {
   "cell_type": "code",
   "execution_count": 2,
   "metadata": {},
   "outputs": [],
   "source": [
    "# Original Source: https://github.com/MorvanZhou/PyTorch-Tutorial/blob/master/tutorial-contents/301_regression.py\n",
    "# → modified by me\n",
    "\n",
    "\"\"\"\n",
    "View more, visit my tutorial page: https://morvanzhou.github.io/tutorials/\n",
    "My Youtube Channel: https://www.youtube.com/user/MorvanZhou\n",
    "Dependencies:\n",
    "torch: 0.4\n",
    "matplotlib\n",
    "\"\"\"\n",
    "import torch\n",
    "import torch.nn.functional as F\n",
    "import numpy as np\n",
    "import matplotlib.pyplot as plt\n",
    "\n",
    "np.random.seed(1)\n",
    "torch.manual_seed(1)    # reproducibility\n",
    "\n",
    "# create data\n",
    "x = torch.unsqueeze(torch.linspace(-1, 1, 100), dim=1)  # x data (tensor), shape=(100, 1)\n",
    "y = x.pow(2) + 0.2*torch.rand(x.size())                 # noisy y data (tensor), shape=(100, 1)\n",
    "\n",
    "# torch can only train on Variable, so convert them to Variable\n",
    "# The code below is deprecated in Pytorch 0.4. Now, autograd directly supports tensors\n",
    "# x, y = Variable(x), Variable(y)\n",
    "\n",
    "# plt.scatter(x.data.numpy(), y.data.numpy())\n",
    "# plt.show()\n",
    "\n",
    "\n",
    "class Net(torch.nn.Module):\n",
    "    def __init__(self, n_feature, n_hidden, n_output):\n",
    "        super(Net, self).__init__()\n",
    "        self.hidden_layer = torch.nn.Linear(n_feature, n_hidden)   # hidden layer\n",
    "        self.prediction_layer = torch.nn.Linear(n_hidden, n_output)   # output layer\n",
    "\n",
    "    def forward(self, x):\n",
    "        # x = torch.sigmoid(self.hidden_layer(x))      # activation function for hidden layer\n",
    "        # x = torch.tanh(self.hidden_layer(x))      # activation function for hidden layer\n",
    "        x = torch.relu(self.hidden_layer(x))      # activation function for hidden layer\n",
    "        x = self.prediction_layer(x)             # linear output\n",
    "        return x\n",
    "\n"
   ]
  },
  {
   "cell_type": "code",
   "execution_count": 3,
   "metadata": {},
   "outputs": [
    {
     "name": "stdout",
     "output_type": "stream",
     "text": [
      "Net(\n",
      "  (hidden_layer): Linear(in_features=1, out_features=10, bias=True)\n",
      "  (prediction_layer): Linear(in_features=10, out_features=1, bias=True)\n",
      ")\n"
     ]
    }
   ],
   "source": [
    "net = Net(n_feature=1, n_hidden=10, n_output=1)     # define the network\n",
    "print(net)  # net architecture"
   ]
  },
  {
   "cell_type": "markdown",
   "metadata": {},
   "source": [
    "## Train only for 30 episodes (→ poor result)"
   ]
  },
  {
   "cell_type": "code",
   "execution_count": 4,
   "metadata": {},
   "outputs": [
    {
     "data": {
      "image/png": "[encoded data removed]",
      "text/plain": [
       "<Figure size 432x288 with 1 Axes>"
      ]
     },
     "metadata": {
      "needs_background": "light"
     },
     "output_type": "display_data"
    },
    {
     "data": {
      "image/png": "[encoded data removed]",
      "text/plain": [
       "<Figure size 432x288 with 1 Axes>"
      ]
     },
     "metadata": {
      "needs_background": "light"
     },
     "output_type": "display_data"
    }
   ],
   "source": [
    "# optimizer = torch.optim.SGD(net.parameters(), lr=0.2)\n",
    "optimizer = torch.optim.Adam(net.parameters(), lr=0.2)\n",
    "\n",
    "loss_func = torch.nn.MSELoss()  # this is for regression mean squared loss\n",
    "\n",
    "loss_over_epoch = []\n",
    "for t in range(30):\n",
    "    prediction = net(x)     # input x and predict based on x\n",
    "\n",
    "    loss = loss_func(prediction, y)     # must be (1. nn output, 2. target)\n",
    "    loss_over_epoch.append(loss.data.numpy())\n",
    "\n",
    "    optimizer.zero_grad()   # clear gradients for next train\n",
    "    loss.backward()         # backpropagation, compute gradients\n",
    "    optimizer.step()        # apply gradients\n",
    "\n",
    "plt.cla()\n",
    "plt.scatter(x.data.numpy(), y.data.numpy())\n",
    "plt.plot(x.data.numpy(), prediction.data.numpy(), 'r-', lw=5)\n",
    "plt.text(0.5, 0, 'Loss=%.4f' % loss.data.numpy(), fontdict={'size': 20, 'color':  'red'})\n",
    "plt.pause(0.1)\n",
    "\n",
    "plt.figure()\n",
    "plt.semilogy(loss_over_epoch)\n",
    "plt.show()"
   ]
  },
  {
   "cell_type": "markdown",
   "metadata": {},
   "source": [
    "### Access internal data of the trained model"
   ]
  },
  {
   "cell_type": "code",
   "execution_count": 5,
   "metadata": {},
   "outputs": [
    {
     "data": {
      "text/plain": [
       "Linear(in_features=1, out_features=10, bias=True)"
      ]
     },
     "execution_count": 5,
     "metadata": {},
     "output_type": "execute_result"
    }
   ],
   "source": [
    "net.hidden_layer"
   ]
  },
  {
   "cell_type": "code",
   "execution_count": 6,
   "metadata": {},
   "outputs": [
    {
     "data": {
      "text/plain": [
       "np_weights_hl := array([[-0.35343778],\n",
       "                        [-0.8909344 ],\n",
       "                        [ 2.1940842 ],\n",
       "                        [ 0.4330032 ],\n",
       "                        [-1.4801755 ],\n",
       "                        [-1.1389841 ],\n",
       "                        [-0.1590852 ],\n",
       "                        [-2.080259  ],\n",
       "                        [ 0.68545806],\n",
       "                        [ 0.2072314 ]], dtype=float32)"
      ]
     },
     "metadata": {},
     "output_type": "display_data"
    },
    {
     "data": {
      "text/plain": [
       "---"
      ]
     },
     "metadata": {},
     "output_type": "display_data"
    },
    {
     "data": {
      "text/plain": [
       "np_biases_hl := \n",
       "array([-1.0813314 , -0.5397242 ,  0.3974778 , -0.663581  , -0.61848813,\n",
       "       -0.80092907, -0.3506518 , -0.6856603 , -0.7237189 , -0.7201042 ],\n",
       "      dtype=float32)"
      ]
     },
     "metadata": {},
     "output_type": "display_data"
    },
    {
     "data": {
      "text/plain": [
       "---"
      ]
     },
     "metadata": {},
     "output_type": "display_data"
    },
    {
     "data": {
      "text/plain": [
       "np_weights_pl := \n",
       "array([[ 0.43693346,  0.0273251 ,  0.33480373, -0.19975337,  0.39874664,\n",
       "         0.12019586,  0.2205472 ,  0.37073928,  0.18220124,  0.29357794]],\n",
       "      dtype=float32)"
      ]
     },
     "metadata": {},
     "output_type": "display_data"
    },
    {
     "data": {
      "text/plain": [
       "---"
      ]
     },
     "metadata": {},
     "output_type": "display_data"
    },
    {
     "data": {
      "text/plain": [
       "np_biases_pl := array([0.00145071], dtype=float32)"
      ]
     },
     "metadata": {},
     "output_type": "display_data"
    },
    {
     "data": {
      "text/plain": [
       "---"
      ]
     },
     "metadata": {},
     "output_type": "display_data"
    }
   ],
   "source": [
    "np_weights_hl = net.hidden_layer.weight.data.numpy() ##:\n",
    "np_biases_hl = net.hidden_layer.bias.data.numpy() ##:\n",
    "np_weights_pl = net.prediction_layer.weight.data.numpy() ##:\n",
    "np_biases_pl = net.prediction_layer.bias.data.numpy() ##:"
   ]
  },
  {
   "cell_type": "markdown",
   "metadata": {},
   "source": [
    "### Overwrite the internal data with saved results (from a longer training) → imrove results"
   ]
  },
  {
   "cell_type": "code",
   "execution_count": 12,
   "metadata": {},
   "outputs": [
    {
     "data": {
      "text/plain": [
       "model := <numpy.lib.npyio.NpzFile at 0x7f2d06f32a60>"
      ]
     },
     "metadata": {},
     "output_type": "display_data"
    },
    {
     "data": {
      "text/plain": [
       "---"
      ]
     },
     "metadata": {},
     "output_type": "display_data"
    },
    {
     "data": {
      "text/plain": [
       "arr0 := array([[-0.4139127 ],\n",
       "               [-0.8488058 ],\n",
       "               [ 2.8964984 ],\n",
       "               [ 0.4330032 ],\n",
       "               [-1.906988  ],\n",
       "               [-1.123925  ],\n",
       "               [-0.1922372 ],\n",
       "               [-1.214931  ],\n",
       "               [ 0.68545806],\n",
       "               [ 0.2072314 ]], dtype=float32)"
      ]
     },
     "metadata": {},
     "output_type": "display_data"
    },
    {
     "data": {
      "text/plain": [
       "---"
      ]
     },
     "metadata": {},
     "output_type": "display_data"
    },
    {
     "data": {
      "text/plain": [
       "arr1 := \n",
       "array([-1.1522069 , -0.9759097 , -0.0072128 , -0.663581  , -1.0795624 ,\n",
       "       -0.8648852 , -0.43701234,  0.6121325 , -0.7237189 , -0.7201042 ],\n",
       "      dtype=float32)"
      ]
     },
     "metadata": {},
     "output_type": "display_data"
    },
    {
     "data": {
      "text/plain": [
       "---"
      ]
     },
     "metadata": {},
     "output_type": "display_data"
    },
    {
     "data": {
      "text/plain": [
       "arr2 := \n",
       "array([[ 0.46027693,  0.27537024,  0.45353475, -0.19975337,  0.45014322,\n",
       "         0.12816443,  0.25700513,  0.53786045,  0.18220124,  0.29357794]],\n",
       "      dtype=float32)"
      ]
     },
     "metadata": {},
     "output_type": "display_data"
    },
    {
     "data": {
      "text/plain": [
       "---"
      ]
     },
     "metadata": {},
     "output_type": "display_data"
    },
    {
     "data": {
      "text/plain": [
       "arr3 := array([-0.30369848], dtype=float32)"
      ]
     },
     "metadata": {},
     "output_type": "display_data"
    },
    {
     "data": {
      "text/plain": [
       "---"
      ]
     },
     "metadata": {},
     "output_type": "display_data"
    }
   ],
   "source": [
    "# this was used to create the model-file (4 saved arrays):\n",
    "# np.savez('model2000ep.npz', np_weights_hl, np_biases_hl, np_weights_pl, np_biases_pl)\n",
    "# the arrays were saved after training with more episodes (2000)\n",
    "\n",
    "\n",
    "model = np.load('model2000ep.npz') ##:\n",
    "arr0 = model[\"arr_0\"] ##:\n",
    "arr1 = model[\"arr_1\"] ##:\n",
    "arr2 = model[\"arr_2\"] ##:\n",
    "arr3 = model[\"arr_3\"] ##:"
   ]
  },
  {
   "cell_type": "code",
   "execution_count": 13,
   "metadata": {},
   "outputs": [],
   "source": [
    "# write the model data (weights and biases) back to the NN-model\n",
    "net.hidden_layer.weight.data = torch.Tensor(arr0)\n",
    "net.hidden_layer.bias.data = torch.Tensor(arr1)\n",
    "net.prediction_layer.weight.data = torch.Tensor(arr2)\n",
    "net.prediction_layer.bias.data = torch.Tensor(arr3)"
   ]
  },
  {
   "cell_type": "code",
   "execution_count": 14,
   "metadata": {},
   "outputs": [
    {
     "data": {
      "text/plain": [
       "[<matplotlib.lines.Line2D at 0x7f2d064e5910>]"
      ]
     },
     "execution_count": 14,
     "metadata": {},
     "output_type": "execute_result"
    },
    {
     "data": {
      "image/png": "[encoded data removed]",
      "text/plain": [
       "<Figure size 432x288 with 1 Axes>"
      ]
     },
     "metadata": {
      "needs_background": "light"
     },
     "output_type": "display_data"
    }
   ],
   "source": [
    "prediction = net(x)\n",
    "\n",
    "plt.scatter(x.data.numpy(), y.data.numpy())\n",
    "plt.plot(x.data.numpy(), prediction.data.numpy(), 'r-', lw=5)"
   ]
  }
 ],
 "metadata": {
  "kernelspec": {
   "display_name": "Python 3 (ipykernel)",
   "language": "python",
   "name": "python3"
  },
  "language_info": {
   "codemirror_mode": {
    "name": "ipython",
    "version": 3
   },
   "file_extension": ".py",
   "mimetype": "text/x-python",
   "name": "python",
   "nbconvert_exporter": "python",
   "pygments_lexer": "ipython3",
   "version": "3.8.12"
  }
 },
 "nbformat": 4,
 "nbformat_minor": 2
}
