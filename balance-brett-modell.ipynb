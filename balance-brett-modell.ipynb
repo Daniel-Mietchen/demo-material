{
 "cells": [
  {
   "cell_type": "code",
   "execution_count": 1,
   "metadata": {},
   "outputs": [
    {
     "name": "stdout",
     "output_type": "stream",
     "text": [
      "Tue Nov 14 14:39:34 2017\n"
     ]
    }
   ],
   "source": [
    "import time\n",
    "print(time.ctime())\n",
    "%load_ext ipydex.displaytools\n",
    "%matplotlib inline\n"
   ]
  },
  {
   "cell_type": "markdown",
   "metadata": {},
   "source": [
    "### Betrachtetes System: Balance-Brett\n",
    "\n",
    "￼ <img src=\"files/images/balance_brett_skizze2.png\">\n",
    "\n",
    "### Inhalt\n",
    "* Herleitung der Modellgleichungen in partiell linearisierter Form\n",
    "\n",
    "### Notwendige Pakete\n",
    "\n",
    "* `pip install ipydex`\n",
    "* `pip install symbtools`\n",
    "\n",
    "### Siehe auch\n",
    "\n",
    "https://github.com/cknoll/beispiele/blob/master/readme.md\n",
    "\n",
    "\n",
    "\n",
    "[//]: # (custom_config_start)\n",
    "$$\n",
    "\\newcommand{\\d}{\\mathrm{d}}\n",
    "\\newcommand{\\col}{\\mathrm{col}}\n",
    "\\newcommand{\\bs}{\\boldsymbol}\n",
    "\\newcommand{\\Ddt}{\\left(\\tfrac{d}{dt}\\right)}\n",
    "\\newcommand{\\ddt}{\\tfrac{d}{dt}}\n",
    "$$\n",
    "[//]: # (custom_config_end)"
   ]
  },
  {
   "cell_type": "code",
   "execution_count": 2,
   "metadata": {
    "collapsed": true
   },
   "outputs": [],
   "source": [
    "import sympy as sp\n",
    "from sympy import sin, cos, pi\n",
    "from sympy.interactive import printing\n",
    "import pickle\n",
    "import numpy as np\n",
    "import scipy as sc\n",
    "import scipy.interpolate\n",
    "from scipy.integrate import odeint\n",
    "import matplotlib.pyplot as pl\n",
    "\n",
    "import symbtools as st\n",
    "import symbtools.modeltools as mt\n",
    "import symbtools.noncommutativetools as nct\n",
    "\n",
    "zip0 = st.zip0\n",
    "printing.init_printing(1)\n"
   ]
  },
  {
   "cell_type": "code",
   "execution_count": 3,
   "metadata": {},
   "outputs": [
    {
     "data": {
      "image/png": "[encoded data removed]",
      "text/latex": [
       "$$\\texttt{ttheta.T} := \\left[\\begin{matrix}p_{1} & p_{2} & q_{1}\\end{matrix}\\right]$$"
      ],
      "text/plain": [
       "ttheta.T := [p₁  p₂  q₁]"
      ]
     },
     "metadata": {},
     "output_type": "display_data"
    },
    {
     "name": "stdout",
     "output_type": "stream",
     "text": [
      "---\n"
     ]
    },
    {
     "data": {
      "image/png": "[encoded data removed]",
      "text/latex": [
       "$$\\texttt{tthetad.T} := \\left[\\begin{matrix}\\dot{p}_{1} & \\dot{p}_{2} & \\dot{q}_{1}\\end{matrix}\\right]$$"
      ],
      "text/plain": [
       "tthetad.T := [ṗ₁  ṗ₂  q̇₁]"
      ]
     },
     "metadata": {},
     "output_type": "display_data"
    },
    {
     "name": "stdout",
     "output_type": "stream",
     "text": [
      "---\n"
     ]
    },
    {
     "data": {
      "image/png": "[encoded data removed]",
      "text/latex": [
       "$$\\texttt{tthetadd.T} := \\left[\\begin{matrix}\\ddot{p}_{1} & \\ddot{p}_{2} & \\ddot{q}_{1}\\end{matrix}\\right]$$"
      ],
      "text/plain": [
       "tthetadd.T := [p̈₁  p̈₂  q̈₁]"
      ]
     },
     "metadata": {},
     "output_type": "display_data"
    },
    {
     "name": "stdout",
     "output_type": "stream",
     "text": [
      "---\n"
     ]
    }
   ],
   "source": [
    "t = sp.Symbol('t')\n",
    "Np = 2  # 2 passive Freiheitsgrade\n",
    "Nq = 1  # 2 aktive Freiheitsgrade\n",
    "n = Np + Nq\n",
    "pp = st.symb_vector(\"p1:{0}\".format(Np+1))\n",
    "qq = st.symb_vector(\"q1:{0}\".format(Nq+1))\n",
    "aa = st.symb_vector(\"a1:{0}\".format(Nq+1))\n",
    "\n",
    "ttheta = st.row_stack(pp, qq) ##:T\n",
    "tthetad = st.time_deriv(ttheta, ttheta) ##:T\n",
    "tthetadd = st.time_deriv(ttheta, ttheta, order=2) ##:T\n",
    "st.make_global(ttheta, tthetad)"
   ]
  },
  {
   "cell_type": "code",
   "execution_count": 4,
   "metadata": {
    "collapsed": true
   },
   "outputs": [],
   "source": [
    "params = sp.symbols('mC IC mB IB mP IP r k d g', positive=True)\n",
    "st.make_global(params)\n",
    "\n",
    "tau1, tau2, tau3 = ttau = sp.symbols(\"tau1, tau2, tau3\")  # Eingänge (dienen später auch zur Einführung der Reibung)"
   ]
  },
  {
   "cell_type": "markdown",
   "metadata": {},
   "source": [
    "### Festlegung der Geometrie des mechanischen Systemes"
   ]
  },
  {
   "cell_type": "code",
   "execution_count": 5,
   "metadata": {},
   "outputs": [
    {
     "data": {
      "image/png": "[encoded data removed]",
      "text/latex": [
       "$$\\left[\\begin{matrix}- \\dot{p}_{1} r\\\\0\\end{matrix}\\right]$$"
      ],
      "text/plain": [
       "⎡-ṗ₁⋅r⎤\n",
       "⎢      ⎥\n",
       "⎣  0   ⎦"
      ]
     },
     "metadata": {},
     "output_type": "display_data"
    },
    {
     "data": {
      "image/png": "[encoded data removed]",
      "text/latex": [
       "$$\\left[\\begin{matrix}- d \\dot{p}_{2} \\cos{\\left (p_{2} \\right )} - \\dot{p}_{1} r - \\dot{p}_{2} r \\left(- p_{1} + p_{2}\\right) \\sin{\\left (p_{2} \\right )} - \\dot{p}_{2} r \\cos{\\left (p_{2} \\right )} + r \\left(- \\dot{p}_{1} + \\dot{p}_{2}\\right) \\cos{\\left (p_{2} \\right )}\\\\- d \\dot{p}_{2} \\sin{\\left (p_{2} \\right )} + \\dot{p}_{2} r \\left(- p_{1} + p_{2}\\right) \\cos{\\left (p_{2} \\right )} - \\dot{p}_{2} r \\sin{\\left (p_{2} \\right )} + r \\left(- \\dot{p}_{1} + \\dot{p}_{2}\\right) \\sin{\\left (p_{2} \\right )}\\end{matrix}\\right]$$"
      ],
      "text/plain": [
       "⎡-d⋅ṗ₂⋅cos(p₂) - ṗ₁⋅r - ṗ₂⋅r⋅(-p₁ + p₂)⋅sin(p₂) - ṗ₂⋅r⋅cos(p₂) + r⋅(-ṗ₁ +\n",
       "⎢                                                                             \n",
       "⎣    -d⋅ṗ₂⋅sin(p₂) + ṗ₂⋅r⋅(-p₁ + p₂)⋅cos(p₂) - ṗ₂⋅r⋅sin(p₂) + r⋅(-ṗ₁ + ṗ₂\n",
       "\n",
       " ṗ₂)⋅cos(p₂)⎤\n",
       "             ⎥\n",
       ")⋅sin(p₂)    ⎦"
      ]
     },
     "metadata": {},
     "output_type": "display_data"
    },
    {
     "data": {
      "image/png": "[encoded data removed]",
      "text/latex": [
       "$$\\left[\\begin{matrix}- k \\dot{p}_{2} \\cos{\\left (p_{2} \\right )} - \\dot{p}_{1} r - \\dot{p}_{2} q_{1} \\sin{\\left (p_{2} \\right )} - \\dot{p}_{2} r \\left(- p_{1} + p_{2}\\right) \\sin{\\left (p_{2} \\right )} - \\dot{p}_{2} r \\cos{\\left (p_{2} \\right )} + \\dot{q}_{1} \\cos{\\left (p_{2} \\right )} + r \\left(- \\dot{p}_{1} + \\dot{p}_{2}\\right) \\cos{\\left (p_{2} \\right )}\\\\- k \\dot{p}_{2} \\sin{\\left (p_{2} \\right )} + \\dot{p}_{2} q_{1} \\cos{\\left (p_{2} \\right )} + \\dot{p}_{2} r \\left(- p_{1} + p_{2}\\right) \\cos{\\left (p_{2} \\right )} - \\dot{p}_{2} r \\sin{\\left (p_{2} \\right )} + \\dot{q}_{1} \\sin{\\left (p_{2} \\right )} + r \\left(- \\dot{p}_{1} + \\dot{p}_{2}\\right) \\sin{\\left (p_{2} \\right )}\\end{matrix}\\right]$$"
      ],
      "text/plain": [
       "⎡-k⋅ṗ₂⋅cos(p₂) - ṗ₁⋅r - ṗ₂⋅q₁⋅sin(p₂) - ṗ₂⋅r⋅(-p₁ + p₂)⋅sin(p₂) - ṗ₂⋅r⋅co\n",
       "⎢                                                                             \n",
       "⎣    -k⋅ṗ₂⋅sin(p₂) + ṗ₂⋅q₁⋅cos(p₂) + ṗ₂⋅r⋅(-p₁ + p₂)⋅cos(p₂) - ṗ₂⋅r⋅sin(p₂\n",
       "\n",
       "s(p₂) + q̇₁⋅cos(p₂) + r⋅(-ṗ₁ + ṗ₂)⋅cos(p₂)⎤\n",
       "                                            ⎥\n",
       ") + q̇₁⋅sin(p₂) + r⋅(-ṗ₁ + ṗ₂)⋅sin(p₂)    ⎦"
      ]
     },
     "metadata": {},
     "output_type": "display_data"
    },
    {
     "name": "stdout",
     "output_type": "stream",
     "text": [
      "---\n"
     ]
    }
   ],
   "source": [
    "#Einheitsvektoren\n",
    "\n",
    "ex = sp.Matrix([1,0])\n",
    "ey = sp.Matrix([0,1])\n",
    "\n",
    "# Rotationsmatrix um z-Achse (aus der Bildebene heraus)\n",
    "Rz = mt.Rz\n",
    "\n",
    "\n",
    "# Koordinaten der Schwerpunkte und Gelenke\n",
    "\n",
    "# Nomenklatur-Zuordnung:\n",
    "# p1: theta\n",
    "# p2: psi\n",
    "# q1: gamma\n",
    "\n",
    "xC = -r * p1\n",
    "yC = 0\n",
    "C = sp.Matrix([xC, yC]) # Mittelpunkt Zylinder\n",
    "\n",
    "# Berührungspunkt (tangent point): Brett-Zylinder\n",
    "TP = C + r*Rz(p2) * ey\n",
    "\n",
    "# Mittelpunkt Brett\n",
    "# (Annahme: Anfangszustand (p1=p2=0): TP=B\n",
    "# Punkte differieren nur durch Abrollen\n",
    "B = TP + Rz(p2)*ex*r*(p2 - p1)\n",
    "\n",
    "E = B + Rz(p2)*ey*d # Schwerpunkt Brett\n",
    "P = B + Rz(p2)*(ey*k+ ex*q1) # Schwerpunkt Schlitten\n",
    "\n",
    "\n",
    "\n",
    "# Zeitableitungen der Schwerpunktskoordinaten\n",
    "Cd, Ed, Pd = st.col_split(st.time_deriv(st.col_stack(C, E, P), ttheta)) ##"
   ]
  },
  {
   "cell_type": "code",
   "execution_count": 6,
   "metadata": {},
   "outputs": [],
   "source": [
    "# Energie\n",
    "T_rot = ( IC*pdot1**2 + IB*pdot2**2 + IP*pdot2**2 )/2\n",
    "T_trans = ( mC*Cd.T*Cd  +  mB*Ed.T*Ed + mP*Pd.T*Pd )/2\n",
    "T = T_rot + T_trans[0]\n",
    "\n",
    "V = mB*g*B[1] + mP*g*P[1]"
   ]
  },
  {
   "cell_type": "code",
   "execution_count": 7,
   "metadata": {
    "collapsed": true
   },
   "outputs": [],
   "source": [
    "mod = mt.generate_symbolic_model(T, V, ttheta, [0, 0, tau3])"
   ]
  },
  {
   "cell_type": "code",
   "execution_count": 8,
   "metadata": {},
   "outputs": [
    {
     "data": {
      "image/png": "[encoded data removed]",
      "text/latex": [
       "$$\\left[\\begin{matrix}IC + 2 mB r^{2} \\cos{\\left (p_{2} \\right )} + 2 mB r^{2} + mC r^{2} + 2 mP r^{2} \\cos{\\left (p_{2} \\right )} + 2 mP r^{2} & r \\left(d mB \\cos{\\left (p_{2} \\right )} + d mB + k mP \\cos{\\left (p_{2} \\right )} + k mP - mB p_{1} r \\sin{\\left (p_{2} \\right )} + mB p_{2} r \\sin{\\left (p_{2} \\right )} - mP p_{1} r \\sin{\\left (p_{2} \\right )} + mP p_{2} r \\sin{\\left (p_{2} \\right )} + mP q_{1} \\sin{\\left (p_{2} \\right )}\\right) & - mP r \\left(\\cos{\\left (p_{2} \\right )} + 1\\right)\\\\r \\left(d mB \\cos{\\left (p_{2} \\right )} + d mB + k mP \\cos{\\left (p_{2} \\right )} + k mP - mB p_{1} r \\sin{\\left (p_{2} \\right )} + mB p_{2} r \\sin{\\left (p_{2} \\right )} - mP p_{1} r \\sin{\\left (p_{2} \\right )} + mP p_{2} r \\sin{\\left (p_{2} \\right )} + mP q_{1} \\sin{\\left (p_{2} \\right )}\\right) & IB + IP + d^{2} mB + k^{2} mP + mB p_{1}^{2} r^{2} - 2 mB p_{1} p_{2} r^{2} + mB p_{2}^{2} r^{2} + mP p_{1}^{2} r^{2} - 2 mP p_{1} p_{2} r^{2} - 2 mP p_{1} q_{1} r + mP p_{2}^{2} r^{2} + 2 mP p_{2} q_{1} r + mP q_{1}^{2} & - k mP\\\\- mP r \\left(\\cos{\\left (p_{2} \\right )} + 1\\right) & - k mP & mP\\end{matrix}\\right]$$"
      ],
      "text/plain": [
       "⎡                                            2                 2       2      \n",
       "⎢                                 IC + 2⋅mB⋅r ⋅cos(p₂) + 2⋅mB⋅r  + mC⋅r  + 2⋅m\n",
       "⎢                                                                             \n",
       "⎢                                                                             \n",
       "⎢r⋅(d⋅mB⋅cos(p₂) + d⋅mB + k⋅mP⋅cos(p₂) + k⋅mP - mB⋅p₁⋅r⋅sin(p₂) + mB⋅p₂⋅r⋅sin(\n",
       "⎢                                                                             \n",
       "⎣                                                         -mP⋅r⋅(cos(p₂) + 1) \n",
       "\n",
       "   2                 2                                                        \n",
       "P⋅r ⋅cos(p₂) + 2⋅mP⋅r                                         r⋅(d⋅mB⋅cos(p₂) \n",
       "                                                                              \n",
       "                                                                     2       2\n",
       "p₂) - mP⋅p₁⋅r⋅sin(p₂) + mP⋅p₂⋅r⋅sin(p₂) + mP⋅q₁⋅sin(p₂))  IB + IP + d ⋅mB + k \n",
       "                                                                              \n",
       "                                                                              \n",
       "\n",
       "                                                                              \n",
       "+ d⋅mB + k⋅mP⋅cos(p₂) + k⋅mP - mB⋅p₁⋅r⋅sin(p₂) + mB⋅p₂⋅r⋅sin(p₂) - mP⋅p₁⋅r⋅sin\n",
       "                                                                              \n",
       "           2  2               2        2  2        2  2               2       \n",
       "⋅mP + mB⋅p₁ ⋅r  - 2⋅mB⋅p₁⋅p₂⋅r  + mB⋅p₂ ⋅r  + mP⋅p₁ ⋅r  - 2⋅mP⋅p₁⋅p₂⋅r  - 2⋅mP\n",
       "                                                                              \n",
       "                                                -k⋅mP                         \n",
       "\n",
       "                                                                 ⎤\n",
       "(p₂) + mP⋅p₂⋅r⋅sin(p₂) + mP⋅q₁⋅sin(p₂))       -mP⋅r⋅(cos(p₂) + 1)⎥\n",
       "                                                                 ⎥\n",
       "                2  2                       2                     ⎥\n",
       "⋅p₁⋅q₁⋅r + mP⋅p₂ ⋅r  + 2⋅mP⋅p₂⋅q₁⋅r + mP⋅q₁          -k⋅mP       ⎥\n",
       "                                                                 ⎥\n",
       "                                                      mP         ⎦"
      ]
     },
     "execution_count": 8,
     "metadata": {},
     "output_type": "execute_result"
    }
   ],
   "source": [
    "# Massenmatrix\n",
    "mod.MM.simplify()\n",
    "mod.MM"
   ]
  },
  {
   "cell_type": "code",
   "execution_count": 9,
   "metadata": {
    "collapsed": true
   },
   "outputs": [],
   "source": [
    "# LaTeX ausschalten (Platz sparen)\n",
    "printing.init_printing(0)"
   ]
  },
  {
   "cell_type": "code",
   "execution_count": 10,
   "metadata": {},
   "outputs": [
    {
     "data": {
      "text/plain": [
       "mod.eqns.co  := Matrix([\n",
       "[221],\n",
       "[237],\n",
       "[ 32]])"
      ]
     },
     "metadata": {},
     "output_type": "display_data"
    },
    {
     "name": "stdout",
     "output_type": "stream",
     "text": [
      "___\n"
     ]
    },
    {
     "data": {
      "text/plain": [
       "Matrix([\n",
       "[                                                        IC*pddot1 + d*mB*pddot2*r*cos(p2) + d*mB*pddot2*r - d*mB*pdot2**2*r*sin(p2) - g*mB*r*sin(p2) - g*mP*r*sin(p2) + k*mP*pddot2*r*cos(p2) + k*mP*pddot2*r - k*mP*pdot2**2*r*sin(p2) - mB*p1*pddot2*r**2*sin(p2) - mB*p1*pdot2**2*r**2*cos(p2) - mB*p1*pdot2**2*r**2 + mB*p2*pddot2*r**2*sin(p2) + mB*p2*pdot2**2*r**2*cos(p2) + mB*p2*pdot2**2*r**2 + 2*mB*pddot1*r**2*cos(p2) + 2*mB*pddot1*r**2 - 2*mB*pdot1*pdot2*r**2*sin(p2) + mB*pdot2**2*r**2*sin(p2) + mC*pddot1*r**2 - mP*p1*pddot2*r**2*sin(p2) - mP*p1*pdot2**2*r**2*cos(p2) - mP*p1*pdot2**2*r**2 + mP*p2*pddot2*r**2*sin(p2) + mP*p2*pdot2**2*r**2*cos(p2) + mP*p2*pdot2**2*r**2 + 2*mP*pddot1*r**2*cos(p2) + 2*mP*pddot1*r**2 + mP*pddot2*q1*r*sin(p2) - 2*mP*pdot1*pdot2*r**2*sin(p2) + mP*pdot2**2*q1*r*cos(p2) + mP*pdot2**2*q1*r + mP*pdot2**2*r**2*sin(p2) + 2*mP*pdot2*qdot1*r*sin(p2) - mP*qddot1*r*cos(p2) - mP*qddot1*r],\n",
       "[IB*pddot2 + IP*pddot2 + d**2*mB*pddot2 + d*mB*pddot1*r*cos(p2) + d*mB*pddot1*r - g*k*mP*sin(p2) - g*mB*p1*r*cos(p2) + g*mB*p2*r*cos(p2) - g*mP*p1*r*cos(p2) + g*mP*p2*r*cos(p2) + g*mP*q1*cos(p2) + k**2*mP*pddot2 + k*mP*pddot1*r*cos(p2) + k*mP*pddot1*r - k*mP*qddot1 + mB*p1**2*pddot2*r**2 - 2*mB*p1*p2*pddot2*r**2 - mB*p1*pddot1*r**2*sin(p2) + 2*mB*p1*pdot1*pdot2*r**2 - mB*p1*pdot2**2*r**2 + mB*p2**2*pddot2*r**2 + mB*p2*pddot1*r**2*sin(p2) - 2*mB*p2*pdot1*pdot2*r**2 + mB*p2*pdot2**2*r**2 + mP*p1**2*pddot2*r**2 - 2*mP*p1*p2*pddot2*r**2 - mP*p1*pddot1*r**2*sin(p2) - 2*mP*p1*pddot2*q1*r + 2*mP*p1*pdot1*pdot2*r**2 - mP*p1*pdot2**2*r**2 - 2*mP*p1*pdot2*qdot1*r + mP*p2**2*pddot2*r**2 + mP*p2*pddot1*r**2*sin(p2) + 2*mP*p2*pddot2*q1*r - 2*mP*p2*pdot1*pdot2*r**2 + mP*p2*pdot2**2*r**2 + 2*mP*p2*pdot2*qdot1*r + mP*pddot1*q1*r*sin(p2) + mP*pddot2*q1**2 - 2*mP*pdot1*pdot2*q1*r + mP*pdot2**2*q1*r + 2*mP*pdot2*q1*qdot1],\n",
       "[                                                                                                                                                                                                                                                                                                                                                                                                                                                                                                                                                                                                                                                                                                                                                                                                          g*mP*sin(p2) - k*mP*pddot2 + mP*p1*pdot2**2*r - mP*p2*pdot2**2*r - mP*pddot1*r*cos(p2) - mP*pddot1*r - mP*pdot2**2*q1 + mP*qddot1 - tau3]])"
      ]
     },
     "execution_count": 10,
     "metadata": {},
     "output_type": "execute_result"
    }
   ],
   "source": [
    "# Bewegungsgleichungen\n",
    "# Wieviele Ausdrücke (count ops)? \n",
    "mod.eqns.co ##:\n",
    "mod.eqns"
   ]
  },
  {
   "cell_type": "markdown",
   "metadata": {},
   "source": [
    "### Bestimmung der partiell lineariserten Systemgleichungen"
   ]
  },
  {
   "cell_type": "code",
   "execution_count": 11,
   "metadata": {},
   "outputs": [
    {
     "name": "stdout",
     "output_type": "stream",
     "text": [
      "CPU times: user 5min 20s, sys: 140 ms, total: 5min 20s\n",
      "Wall time: 5min 20s\n"
     ]
    }
   ],
   "source": [
    "# dauert ggf. ein paar Minuten\n",
    "%time mod.calc_coll_part_lin_state_eq(simplify=True)"
   ]
  },
  {
   "cell_type": "code",
   "execution_count": 12,
   "metadata": {},
   "outputs": [
    {
     "data": {
      "text/plain": [
       "Matrix([\n",
       "[  1],\n",
       "[  1],\n",
       "[  1],\n",
       "[430],\n",
       "[402],\n",
       "[  0]])"
      ]
     },
     "execution_count": 12,
     "metadata": {},
     "output_type": "execute_result"
    }
   ],
   "source": [
    "mod.ff.co"
   ]
  },
  {
   "cell_type": "code",
   "execution_count": 13,
   "metadata": {},
   "outputs": [
    {
     "data": {
      "text/plain": [
       "Matrix([\n",
       "[  0],\n",
       "[  0],\n",
       "[  0],\n",
       "[211],\n",
       "[183],\n",
       "[  1]])"
      ]
     },
     "execution_count": 13,
     "metadata": {},
     "output_type": "execute_result"
    }
   ],
   "source": [
    "mod.gg.co"
   ]
  },
  {
   "cell_type": "code",
   "execution_count": 14,
   "metadata": {},
   "outputs": [
    {
     "data": {
      "text/plain": [
       "Matrix([\n",
       "[                                                                                                                                                                                                                                                                                                                                                                                                                                                                                                                                                                                                                                                                                                                                                                                                                                                                                                                                                                                                                                                                                                                                                                                                                                                                                                                                                                                                                                                                                                                                                                                                                          pdot1],\n",
       "[                                                                                                                                                                                                                                                                                                                                                                                                                                                                                                                                                                                                                                                                                                                                                                                                                                                                                                                                                                                                                                                                                                                                                                                                                                                                                                                                                                                                                                                                                                                                                                                                                          pdot2],\n",
       "[                                                                                                                                                                                                                                                                                                                                                                                                                                                                                                                                                                                                                                                                                                                                                                                                                                                                                                                                                                                                                                                                                                                                                                                                                                                                                                                                                                                                                                                                                                                                                                                                                          qdot1],\n",
       "[r*(-(d*mB*cos(p2) + d*mB + k*mP*cos(p2) + k*mP - mB*p1*r*sin(p2) + mB*p2*r*sin(p2) - mP*p1*r*sin(p2) + mP*p2*r*sin(p2) + mP*q1*sin(p2))*(-g*k*mP*sin(p2) - g*mB*p1*r*cos(p2) + g*mB*p2*r*cos(p2) - g*mP*p1*r*cos(p2) + g*mP*p2*r*cos(p2) + g*mP*q1*cos(p2) + 2*mB*p1*pdot1*pdot2*r**2 - mB*p1*pdot2**2*r**2 - 2*mB*p2*pdot1*pdot2*r**2 + mB*p2*pdot2**2*r**2 + 2*mP*p1*pdot1*pdot2*r**2 - mP*p1*pdot2**2*r**2 - 2*mP*p1*pdot2*qdot1*r - 2*mP*p2*pdot1*pdot2*r**2 + mP*p2*pdot2**2*r**2 + 2*mP*p2*pdot2*qdot1*r - 2*mP*pdot1*pdot2*q1*r + mP*pdot2**2*q1*r + 2*mP*pdot2*q1*qdot1) + (-IB - IP - d**2*mB - k**2*mP - mB*p1**2*r**2 + 2*mB*p1*p2*r**2 - mB*p2**2*r**2 - mP*p1**2*r**2 + 2*mP*p1*p2*r**2 + 2*mP*p1*q1*r - mP*p2**2*r**2 - 2*mP*p2*q1*r - mP*q1**2)*(d*mB*pdot2**2*sin(p2) + g*mB*sin(p2) + g*mP*sin(p2) + k*mP*pdot2**2*sin(p2) + mB*p1*pdot2**2*r*cos(p2) + mB*p1*pdot2**2*r - mB*p2*pdot2**2*r*cos(p2) - mB*p2*pdot2**2*r + 2*mB*pdot1*pdot2*r*sin(p2) - mB*pdot2**2*r*sin(p2) + mP*p1*pdot2**2*r*cos(p2) + mP*p1*pdot2**2*r - mP*p2*pdot2**2*r*cos(p2) - mP*p2*pdot2**2*r + 2*mP*pdot1*pdot2*r*sin(p2) - mP*pdot2**2*q1*cos(p2) - mP*pdot2**2*q1 - mP*pdot2**2*r*sin(p2) - 2*mP*pdot2*qdot1*sin(p2)))/(r**2*(d*mB*cos(p2) + d*mB + k*mP*cos(p2) + k*mP - mB*p1*r*sin(p2) + mB*p2*r*sin(p2) - mP*p1*r*sin(p2) + mP*p2*r*sin(p2) + mP*q1*sin(p2))**2 + (IC + 2*mB*r**2*cos(p2) + 2*mB*r**2 + mC*r**2 + 2*mP*r**2*cos(p2) + 2*mP*r**2)*(-IB - IP - d**2*mB - k**2*mP - mB*p1**2*r**2 + 2*mB*p1*p2*r**2 - mB*p2**2*r**2 - mP*p1**2*r**2 + 2*mP*p1*p2*r**2 + 2*mP*p1*q1*r - mP*p2**2*r**2 - 2*mP*p2*q1*r - mP*q1**2))],\n",
       "[                                                                                           (r**2*(d*mB*cos(p2) + d*mB + k*mP*cos(p2) + k*mP - mB*p1*r*sin(p2) + mB*p2*r*sin(p2) - mP*p1*r*sin(p2) + mP*p2*r*sin(p2) + mP*q1*sin(p2))*(d*mB*pdot2**2*sin(p2) + g*mB*sin(p2) + g*mP*sin(p2) + k*mP*pdot2**2*sin(p2) + mB*p1*pdot2**2*r*cos(p2) + mB*p1*pdot2**2*r - mB*p2*pdot2**2*r*cos(p2) - mB*p2*pdot2**2*r + 2*mB*pdot1*pdot2*r*sin(p2) - mB*pdot2**2*r*sin(p2) + mP*p1*pdot2**2*r*cos(p2) + mP*p1*pdot2**2*r - mP*p2*pdot2**2*r*cos(p2) - mP*p2*pdot2**2*r + 2*mP*pdot1*pdot2*r*sin(p2) - mP*pdot2**2*q1*cos(p2) - mP*pdot2**2*q1 - mP*pdot2**2*r*sin(p2) - 2*mP*pdot2*qdot1*sin(p2)) + (IC + 2*mB*r**2*cos(p2) + 2*mB*r**2 + mC*r**2 + 2*mP*r**2*cos(p2) + 2*mP*r**2)*(-g*k*mP*sin(p2) - g*mB*p1*r*cos(p2) + g*mB*p2*r*cos(p2) - g*mP*p1*r*cos(p2) + g*mP*p2*r*cos(p2) + g*mP*q1*cos(p2) + 2*mB*p1*pdot1*pdot2*r**2 - mB*p1*pdot2**2*r**2 - 2*mB*p2*pdot1*pdot2*r**2 + mB*p2*pdot2**2*r**2 + 2*mP*p1*pdot1*pdot2*r**2 - mP*p1*pdot2**2*r**2 - 2*mP*p1*pdot2*qdot1*r - 2*mP*p2*pdot1*pdot2*r**2 + mP*p2*pdot2**2*r**2 + 2*mP*p2*pdot2*qdot1*r - 2*mP*pdot1*pdot2*q1*r + mP*pdot2**2*q1*r + 2*mP*pdot2*q1*qdot1))/(r**2*(d*mB*cos(p2) + d*mB + k*mP*cos(p2) + k*mP - mB*p1*r*sin(p2) + mB*p2*r*sin(p2) - mP*p1*r*sin(p2) + mP*p2*r*sin(p2) + mP*q1*sin(p2))**2 + (IC + 2*mB*r**2*cos(p2) + 2*mB*r**2 + mC*r**2 + 2*mP*r**2*cos(p2) + 2*mP*r**2)*(-IB - IP - d**2*mB - k**2*mP - mB*p1**2*r**2 + 2*mB*p1*p2*r**2 - mB*p2**2*r**2 - mP*p1**2*r**2 + 2*mP*p1*p2*r**2 + 2*mP*p1*q1*r - mP*p2**2*r**2 - 2*mP*p2*q1*r - mP*q1**2))],\n",
       "[                                                                                                                                                                                                                                                                                                                                                                                                                                                                                                                                                                                                                                                                                                                                                                                                                                                                                                                                                                                                                                                                                                                                                                                                                                                                                                                                                                                                                                                                                                                                                                                                                              0]])"
      ]
     },
     "execution_count": 14,
     "metadata": {},
     "output_type": "execute_result"
    }
   ],
   "source": [
    "# Vektorfeld f\n",
    "mod.ff"
   ]
  },
  {
   "cell_type": "code",
   "execution_count": 15,
   "metadata": {
    "collapsed": true
   },
   "outputs": [],
   "source": [
    "# Vektorfeld g1"
   ]
  },
  {
   "cell_type": "code",
   "execution_count": 16,
   "metadata": {},
   "outputs": [
    {
     "data": {
      "text/plain": [
       "G.co  := Matrix([\n",
       "[  0],\n",
       "[  0],\n",
       "[  0],\n",
       "[211],\n",
       "[183],\n",
       "[  1]])"
      ]
     },
     "metadata": {},
     "output_type": "display_data"
    },
    {
     "name": "stdout",
     "output_type": "stream",
     "text": [
      "___\n"
     ]
    },
    {
     "data": {
      "text/plain": [
       "g1, := Matrix([\n",
       "[                                                                                                                                                                                                                                                                                                                                                                                                                                                                                                                                                                                                                                                                                                                                                  0],\n",
       "[                                                                                                                                                                                                                                                                                                                                                                                                                                                                                                                                                                                                                                                                                                                                                  0],\n",
       "[                                                                                                                                                                                                                                                                                                                                                                                                                                                                                                                                                                                                                                                                                                                                                  0],\n",
       "[mP*r*(k*(d*mB*cos(p2) + d*mB + k*mP*cos(p2) + k*mP - mB*p1*r*sin(p2) + mB*p2*r*sin(p2) - mP*p1*r*sin(p2) + mP*p2*r*sin(p2) + mP*q1*sin(p2)) + (cos(p2) + 1)*(-IB - IP - d**2*mB - k**2*mP - mB*p1**2*r**2 + 2*mB*p1*p2*r**2 - mB*p2**2*r**2 - mP*p1**2*r**2 + 2*mP*p1*p2*r**2 + 2*mP*p1*q1*r - mP*p2**2*r**2 - 2*mP*p2*q1*r - mP*q1**2))/(r**2*(d*mB*cos(p2) + d*mB + k*mP*cos(p2) + k*mP - mB*p1*r*sin(p2) + mB*p2*r*sin(p2) - mP*p1*r*sin(p2) + mP*p2*r*sin(p2) + mP*q1*sin(p2))**2 + (IC + 2*mB*r**2*cos(p2) + 2*mB*r**2 + mC*r**2 + 2*mP*r**2*cos(p2) + 2*mP*r**2)*(-IB - IP - d**2*mB - k**2*mP - mB*p1**2*r**2 + 2*mB*p1*p2*r**2 - mB*p2**2*r**2 - mP*p1**2*r**2 + 2*mP*p1*p2*r**2 + 2*mP*p1*q1*r - mP*p2**2*r**2 - 2*mP*p2*q1*r - mP*q1**2))],\n",
       "[                                                                                         mP*(-k*(IC + 2*mB*r**2*cos(p2) + 2*mB*r**2 + mC*r**2 + 2*mP*r**2*cos(p2) + 2*mP*r**2) + r**2*(cos(p2) + 1)*(d*mB*cos(p2) + d*mB + k*mP*cos(p2) + k*mP - mB*p1*r*sin(p2) + mB*p2*r*sin(p2) - mP*p1*r*sin(p2) + mP*p2*r*sin(p2) + mP*q1*sin(p2)))/(r**2*(d*mB*cos(p2) + d*mB + k*mP*cos(p2) + k*mP - mB*p1*r*sin(p2) + mB*p2*r*sin(p2) - mP*p1*r*sin(p2) + mP*p2*r*sin(p2) + mP*q1*sin(p2))**2 + (IC + 2*mB*r**2*cos(p2) + 2*mB*r**2 + mC*r**2 + 2*mP*r**2*cos(p2) + 2*mP*r**2)*(-IB - IP - d**2*mB - k**2*mP - mB*p1**2*r**2 + 2*mB*p1*p2*r**2 - mB*p2**2*r**2 - mP*p1**2*r**2 + 2*mP*p1*p2*r**2 + 2*mP*p1*q1*r - mP*p2**2*r**2 - 2*mP*p2*q1*r - mP*q1**2))],\n",
       "[                                                                                                                                                                                                                                                                                                                                                                                                                                                                                                                                                                                                                                                                                                                                                  1]])"
      ]
     },
     "metadata": {},
     "output_type": "display_data"
    },
    {
     "name": "stdout",
     "output_type": "stream",
     "text": [
      "---\n"
     ]
    }
   ],
   "source": [
    "G = mod.gg \n",
    "G.co ##:\n",
    "g1, = st.col_split(G) ##:"
   ]
  }
 ],
 "metadata": {
  "kernelspec": {
   "display_name": "Python 3",
   "language": "python",
   "name": "python3"
  },
  "language_info": {
   "codemirror_mode": {
    "name": "ipython",
    "version": 3
   },
   "file_extension": ".py",
   "mimetype": "text/x-python",
   "name": "python",
   "nbconvert_exporter": "python",
   "pygments_lexer": "ipython3",
   "version": "3.5.3"
  }
 },
 "nbformat": 4,
 "nbformat_minor": 1
}
