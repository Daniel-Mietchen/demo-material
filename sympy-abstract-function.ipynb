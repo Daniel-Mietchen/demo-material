{
 "cells": [
  {
   "cell_type": "code",
   "execution_count": 3,
   "metadata": {
    "collapsed": true
   },
   "outputs": [],
   "source": [
    "import sympy as sp\n",
    "\n",
    "nx = 5\n",
    "xx = sp.symbols(\"x1:{}\".format(nx+1))"
   ]
  },
  {
   "cell_type": "code",
   "execution_count": 4,
   "metadata": {
    "collapsed": true
   },
   "outputs": [],
   "source": [
    "ff = sp.symbols?"
   ]
  },
  {
   "cell_type": "code",
   "execution_count": 8,
   "metadata": {},
   "outputs": [],
   "source": [
    "nf = 3\n",
    "\n",
    "# create some instances of abstract functions\n",
    "ff_unevaluated = sp.symbols(\"f1:{}\".format(nf+1), cls=sp.Function)\n",
    "\n",
    "# evaluate the abstract functions\n",
    "ff_evaluated = [func(*xx) for func in ff_unevaluated]\n",
    "\n",
    "# convert to (nf x 1)-Matrix\n",
    "ff = sp.Matrix(ff_evaluated)"
   ]
  },
  {
   "cell_type": "code",
   "execution_count": 9,
   "metadata": {},
   "outputs": [
    {
     "data": {
      "text/plain": [
       "Matrix([\n",
       "[f1(x1, x2, x3, x4, x5)],\n",
       "[f2(x1, x2, x3, x4, x5)],\n",
       "[f3(x1, x2, x3, x4, x5)]])"
      ]
     },
     "execution_count": 9,
     "metadata": {},
     "output_type": "execute_result"
    }
   ],
   "source": [
    "ff"
   ]
  },
  {
   "cell_type": "code",
   "execution_count": 10,
   "metadata": {},
   "outputs": [
    {
     "data": {
      "text/plain": [
       "Matrix([\n",
       "[Derivative(f1(x1, x2, x3, x4, x5), x1), Derivative(f1(x1, x2, x3, x4, x5), x2), Derivative(f1(x1, x2, x3, x4, x5), x3), Derivative(f1(x1, x2, x3, x4, x5), x4), Derivative(f1(x1, x2, x3, x4, x5), x5)],\n",
       "[Derivative(f2(x1, x2, x3, x4, x5), x1), Derivative(f2(x1, x2, x3, x4, x5), x2), Derivative(f2(x1, x2, x3, x4, x5), x3), Derivative(f2(x1, x2, x3, x4, x5), x4), Derivative(f2(x1, x2, x3, x4, x5), x5)],\n",
       "[Derivative(f3(x1, x2, x3, x4, x5), x1), Derivative(f3(x1, x2, x3, x4, x5), x2), Derivative(f3(x1, x2, x3, x4, x5), x3), Derivative(f3(x1, x2, x3, x4, x5), x4), Derivative(f3(x1, x2, x3, x4, x5), x5)]])"
      ]
     },
     "execution_count": 10,
     "metadata": {},
     "output_type": "execute_result"
    }
   ],
   "source": [
    "ff.jacobian(xx)"
   ]
  },
  {
   "cell_type": "code",
   "execution_count": 11,
   "metadata": {
    "collapsed": true
   },
   "outputs": [],
   "source": [
    "from sympy.interactive import printing\n",
    "printing.init_printing()\n"
   ]
  },
  {
   "cell_type": "code",
   "execution_count": 12,
   "metadata": {},
   "outputs": [
    {
     "data": {
      "image/png": "[encoded data removed]",
      "text/latex": [
       "$$\\left[\\begin{matrix}\\frac{\\partial}{\\partial x_{1}} \\operatorname{f_{1}}{\\left (x_{1},x_{2},x_{3},x_{4},x_{5} \\right )} & \\frac{\\partial}{\\partial x_{2}} \\operatorname{f_{1}}{\\left (x_{1},x_{2},x_{3},x_{4},x_{5} \\right )} & \\frac{\\partial}{\\partial x_{3}} \\operatorname{f_{1}}{\\left (x_{1},x_{2},x_{3},x_{4},x_{5} \\right )} & \\frac{\\partial}{\\partial x_{4}} \\operatorname{f_{1}}{\\left (x_{1},x_{2},x_{3},x_{4},x_{5} \\right )} & \\frac{\\partial}{\\partial x_{5}} \\operatorname{f_{1}}{\\left (x_{1},x_{2},x_{3},x_{4},x_{5} \\right )}\\\\\\frac{\\partial}{\\partial x_{1}} \\operatorname{f_{2}}{\\left (x_{1},x_{2},x_{3},x_{4},x_{5} \\right )} & \\frac{\\partial}{\\partial x_{2}} \\operatorname{f_{2}}{\\left (x_{1},x_{2},x_{3},x_{4},x_{5} \\right )} & \\frac{\\partial}{\\partial x_{3}} \\operatorname{f_{2}}{\\left (x_{1},x_{2},x_{3},x_{4},x_{5} \\right )} & \\frac{\\partial}{\\partial x_{4}} \\operatorname{f_{2}}{\\left (x_{1},x_{2},x_{3},x_{4},x_{5} \\right )} & \\frac{\\partial}{\\partial x_{5}} \\operatorname{f_{2}}{\\left (x_{1},x_{2},x_{3},x_{4},x_{5} \\right )}\\\\\\frac{\\partial}{\\partial x_{1}} \\operatorname{f_{3}}{\\left (x_{1},x_{2},x_{3},x_{4},x_{5} \\right )} & \\frac{\\partial}{\\partial x_{2}} \\operatorname{f_{3}}{\\left (x_{1},x_{2},x_{3},x_{4},x_{5} \\right )} & \\frac{\\partial}{\\partial x_{3}} \\operatorname{f_{3}}{\\left (x_{1},x_{2},x_{3},x_{4},x_{5} \\right )} & \\frac{\\partial}{\\partial x_{4}} \\operatorname{f_{3}}{\\left (x_{1},x_{2},x_{3},x_{4},x_{5} \\right )} & \\frac{\\partial}{\\partial x_{5}} \\operatorname{f_{3}}{\\left (x_{1},x_{2},x_{3},x_{4},x_{5} \\right )}\\end{matrix}\\right]$$"
      ],
      "text/plain": [
       "⎡ ∂                            ∂                            ∂                 \n",
       "⎢───(f₁(x₁, x₂, x₃, x₄, x₅))  ───(f₁(x₁, x₂, x₃, x₄, x₅))  ───(f₁(x₁, x₂, x₃, \n",
       "⎢∂x₁                          ∂x₂                          ∂x₃                \n",
       "⎢                                                                             \n",
       "⎢ ∂                            ∂                            ∂                 \n",
       "⎢───(f₂(x₁, x₂, x₃, x₄, x₅))  ───(f₂(x₁, x₂, x₃, x₄, x₅))  ───(f₂(x₁, x₂, x₃, \n",
       "⎢∂x₁                          ∂x₂                          ∂x₃                \n",
       "⎢                                                                             \n",
       "⎢ ∂                            ∂                            ∂                 \n",
       "⎢───(f₃(x₁, x₂, x₃, x₄, x₅))  ───(f₃(x₁, x₂, x₃, x₄, x₅))  ───(f₃(x₁, x₂, x₃, \n",
       "⎣∂x₁                          ∂x₂                          ∂x₃                \n",
       "\n",
       "           ∂                            ∂                         ⎤\n",
       "x₄, x₅))  ───(f₁(x₁, x₂, x₃, x₄, x₅))  ───(f₁(x₁, x₂, x₃, x₄, x₅))⎥\n",
       "          ∂x₄                          ∂x₅                        ⎥\n",
       "                                                                  ⎥\n",
       "           ∂                            ∂                         ⎥\n",
       "x₄, x₅))  ───(f₂(x₁, x₂, x₃, x₄, x₅))  ───(f₂(x₁, x₂, x₃, x₄, x₅))⎥\n",
       "          ∂x₄                          ∂x₅                        ⎥\n",
       "                                                                  ⎥\n",
       "           ∂                            ∂                         ⎥\n",
       "x₄, x₅))  ───(f₃(x₁, x₂, x₃, x₄, x₅))  ───(f₃(x₁, x₂, x₃, x₄, x₅))⎥\n",
       "          ∂x₄                          ∂x₅                        ⎦"
      ]
     },
     "execution_count": 12,
     "metadata": {},
     "output_type": "execute_result"
    }
   ],
   "source": [
    "ff.jacobian(xx)"
   ]
  },
  {
   "cell_type": "code",
   "execution_count": null,
   "metadata": {
    "collapsed": true
   },
   "outputs": [],
   "source": []
  }
 ],
 "metadata": {
  "kernelspec": {
   "display_name": "Python 3",
   "language": "python",
   "name": "python3"
  },
  "language_info": {
   "codemirror_mode": {
    "name": "ipython",
    "version": 3
   },
   "file_extension": ".py",
   "mimetype": "text/x-python",
   "name": "python",
   "nbconvert_exporter": "python",
   "pygments_lexer": "ipython3",
   "version": "3.5.3"
  }
 },
 "nbformat": 4,
 "nbformat_minor": 2
}
