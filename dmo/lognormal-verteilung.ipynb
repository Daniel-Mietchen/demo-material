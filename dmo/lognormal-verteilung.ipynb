{
 "cells": [
  {
   "cell_type": "markdown",
   "metadata": {},
   "source": [
    "Betrachtet wird die stationäre Verteilung des Kapitalstocks bei Technologie-Schocks (AR(1)-Modell für $\\theta_t$, siehe Gleichung (6.2)).\n",
    "\n",
    "Gegebene Parameter: mit α = 0.3, β = 0.9 und $σ_ε^2$  = 0.01\n"
   ]
  },
  {
   "cell_type": "code",
   "execution_count": 1,
   "metadata": {},
   "outputs": [],
   "source": [
    "import numpy as np\n",
    "from numpy import pi\n",
    "\n",
    "import matplotlib.pyplot as plt\n",
    "\n",
    "%load_ext ipydex.displaytools\n"
   ]
  },
  {
   "cell_type": "markdown",
   "metadata": {},
   "source": [
    "**Normalverteilung** einer Zufallsgröße $x \\sim \\mathcal N(\\mu, \\sigma)$:\n",
    "$$\n",
    "f_{normal}(x)=\\frac{1}{\\sqrt{2\\pi\\sigma^2}}\\operatorname{exp}\\left(-\\frac{(x-\\mu)^2}{2\\sigma^2}\\right)\n",
    "$$\n",
    "\n",
    "**Lognormalverteilung**\n",
    "Verteilung einer Zufallsgröße $y$ mit $\\operatorname{ln}(y) \\sim \\mathcal N(\\mu, \\sigma)$:\n",
    "$$\n",
    "f_{lognorm}(x)=\\frac{1}{\\sqrt{2\\pi}\\sigma x }\\,\\exp\\Big( -\\frac{(\\ln(x)-\\mu)^2}{2\\sigma^2}\\Big) \\quad, x > 0\n",
    "$$\n",
    "\n",
    "Siehe auch:\n",
    "\n",
    "https://de.wikipedia.org/wiki/Logarithmische_Normalverteilung\n",
    "\n"
   ]
  },
  {
   "cell_type": "code",
   "execution_count": 12,
   "metadata": {},
   "outputs": [],
   "source": [
    "def norm_dist(x, mu, sigma):\n",
    "    return 1/np.sqrt(2*pi*sigma**2) * np.exp(-(x-mu)**2/(2*sigma**2))\n",
    "\n",
    "def lognorm_dist(x, mu, sigma):\n",
    "    return 1/(np.sqrt(2*pi)*sigma*x) * np.exp(-(np.log(x)-mu)**2/(2*sigma**2))"
   ]
  },
  {
   "cell_type": "code",
   "execution_count": 33,
   "metadata": {},
   "outputs": [
    {
     "data": {
      "text/plain": [
       "muk := -1.8704761714053748"
      ]
     },
     "metadata": {},
     "output_type": "display_data"
    },
    {
     "name": "stdout",
     "output_type": "stream",
     "text": [
      "---\n"
     ]
    }
   ],
   "source": [
    "xx = np.linspace(0.1, 0.22, 10000)\n",
    "\n",
    "sigma = np.sqrt(.01)\n",
    "alpha = 0.3\n",
    "beta = 0.9\n",
    "\n",
    "# epsilon wird als Mittelwertfrei angenommen\n",
    "mu_eps = 0\n",
    "\n",
    "muk = np.log(alpha*beta)/(1-alpha) + mu_eps/(1-alpha) ##:\n",
    "ff_ln = lognorm_dist(xx, muk, sigma)"
   ]
  },
  {
   "cell_type": "code",
   "execution_count": 34,
   "metadata": {},
   "outputs": [
    {
     "data": {
      "text/plain": [
       "maxval := 0.15251725172517253"
      ]
     },
     "metadata": {},
     "output_type": "display_data"
    },
    {
     "name": "stdout",
     "output_type": "stream",
     "text": [
      "---\n"
     ]
    },
    {
     "data": {
      "image/png": "[encoded data removed]",
      "text/plain": [
       "<matplotlib.figure.Figure at 0x7f9c426de710>"
      ]
     },
     "metadata": {},
     "output_type": "display_data"
    }
   ],
   "source": [
    "# plt.plot(xx, ff1)\n",
    "plt.plot(xx, ff_ln, \"r-\", lw=2)\n",
    "axis = plt.axis()\n",
    "plt.vlines([0.15405], -5, 30, \"r\", alpha=0.5)\n",
    "plt.axis(axis)\n",
    "\n",
    "maxval = xx[np.argmax(ff_ln)] ##:"
   ]
  },
  {
   "cell_type": "code",
   "execution_count": 46,
   "metadata": {},
   "outputs": [
    {
     "data": {
      "text/plain": [
       "<matplotlib.legend.Legend at 0x7f9c42f330f0>"
      ]
     },
     "execution_count": 46,
     "metadata": {},
     "output_type": "execute_result"
    },
    {
     "data": {
      "image/png": "[encoded data removed]",
      "text/plain": [
       "<matplotlib.figure.Figure at 0x7f9c42bb47f0>"
      ]
     },
     "metadata": {},
     "output_type": "display_data"
    }
   ],
   "source": [
    "# Zum Vergleich: Normalverteilung mit gleichem Mittelwert und gleichem Maximum.\n",
    "\n",
    "# Man sieht, dass die rote Kurve leicht schief, d.h. nicht symmetrisch ist\n",
    "\n",
    "\n",
    "\n",
    "\n",
    "# sigma manuell so angepasst, dass Maxima übereinstimmen \n",
    "ff_n = norm_dist(xx, maxval, 0.0153)\n",
    "\n",
    "plt.plot(xx, ff_ln, \"r-\", lw=2, label=\"Lognormal-Verteilung\")\n",
    "plt.plot(xx, ff_n, \"b-\", lw=1., label=\"Normalverteilung\")\n",
    "plt.legend()"
   ]
  },
  {
   "cell_type": "markdown",
   "metadata": {},
   "source": [
    "### Tabelle aus dem Buch Seite 175\n",
    "\n",
    "Lebensnutzen: $\\Delta = \\frac{1}{2}\\frac{\\sigma_\\varepsilon^2}{1- \\alpha^2}$"
   ]
  },
  {
   "cell_type": "code",
   "execution_count": 53,
   "metadata": {},
   "outputs": [],
   "source": [
    "def delta(sigma, alpha):\n",
    "    return - 1.0/2* sigma**2/(1- alpha**2)\n",
    "\n",
    "sigma_values = np.r_[0.1, 0.2, 0.3, 0.4]\n",
    "delta_values = delta(sigma=sigma_values, alpha=0.3)"
   ]
  },
  {
   "cell_type": "code",
   "execution_count": 55,
   "metadata": {},
   "outputs": [
    {
     "data": {
      "text/plain": [
       "array([0.1, 0.2, 0.3, 0.4])"
      ]
     },
     "metadata": {},
     "output_type": "display_data"
    },
    {
     "name": "stdout",
     "output_type": "stream",
     "text": [
      "___\n"
     ]
    },
    {
     "data": {
      "text/plain": [
       "array([-0.00549451, -0.02197802, -0.04945055, -0.08791209])"
      ]
     },
     "metadata": {},
     "output_type": "display_data"
    },
    {
     "name": "stdout",
     "output_type": "stream",
     "text": [
      "___\n"
     ]
    }
   ],
   "source": [
    "sigma_values ##\n",
    "delta_values ##"
   ]
  }
 ],
 "metadata": {
  "kernelspec": {
   "display_name": "Python 3",
   "language": "python",
   "name": "python3"
  },
  "language_info": {
   "codemirror_mode": {
    "name": "ipython",
    "version": 3
   },
   "file_extension": ".py",
   "mimetype": "text/x-python",
   "name": "python",
   "nbconvert_exporter": "python",
   "pygments_lexer": "ipython3",
   "version": "3.6.3"
  }
 },
 "nbformat": 4,
 "nbformat_minor": 2
}
