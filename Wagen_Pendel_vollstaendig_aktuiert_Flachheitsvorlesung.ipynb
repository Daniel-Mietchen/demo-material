{
 "cells": [
  {
   "cell_type": "code",
   "execution_count": 3,
   "metadata": {},
   "outputs": [
    {
     "name": "stdout",
     "output_type": "stream",
     "text": [
      "Mon Nov 20 15:21:48 2017\n"
     ]
    }
   ],
   "source": [
    "import time\n",
    "print(time.ctime())"
   ]
  },
  {
   "cell_type": "markdown",
   "metadata": {},
   "source": [
    "<sub>Bei diesem IPython-Notebook handelt es sich um eine Beispiel-Rechnung als Ergänzung zur Dissertationsschrift von C. Knoll. Allgemeine Hinweise zu den Beispielen sind in der [readme.md-Datei des entsprechenden Repositoriums](https://github.com/cknoll/beispiele/blob/master/readme.md) zu finden.</sub>\n",
    "\n",
    "---"
   ]
  },
  {
   "cell_type": "markdown",
   "metadata": {},
   "source": [
    "**Betrachtetes System**: aktuiertes Pendel, dessen Aufhängepunkt an einem horizontal verschieblichen Wagen hängt, der elastisch mit einem aktuierten Wagen verbunden ist.\n",
    "\n",
    "\n",
    "Bild stimmt nicht mehr!!\n",
    "\n",
    "<img src=\"files/images/pendel_wagen_feder_wagen.png\">\n",
    "\n",
    "**Betrachtete Aspekte**:\n",
    "\n",
    "* Ist das System statisch Eingangs-Zustands-Linearisierbar.\n",
    "  * Wenn ja, wie sieht ein entsprechender linearisierender Ausgang aus?\n",
    "\n",
    "* Wie ist die Situation, wenn ein \"intuitiver\" flacher Ausgang (Absolutkoordinaten des Pendelschwerpunkts) untersucht wird?\n",
    "\n",
    "* Flachheitsbasierte Trajektorienplanung\n",
    "\n",
    "\n",
    "[//]: # (custom_config_start)\n",
    "$$\n",
    "\\newcommand{\\col}{\\mathrm{col}}\n",
    "\\newcommand{\\bs}{\\boldsymbol}\n",
    "\\newcommand{\\y}{\\bs y}\n",
    "\\newcommand{\\nx}{n_{\\boldsymbol x}}\n",
    "\\newcommand{\\Ddt}{\\left(\\tfrac{d}{dt}\\right)}\n",
    "$$\n",
    "[//]: # (custom_config_end)\n",
    "\n"
   ]
  },
  {
   "cell_type": "code",
   "execution_count": 5,
   "metadata": {},
   "outputs": [],
   "source": [
    "%load_ext ipydex.displaytools\n",
    "%matplotlib inline\n",
    "\n",
    "import sympy as sp\n",
    "from sympy import sin, cos, pi\n",
    "from sympy.interactive import printing\n",
    "import symbtools as st\n",
    "import scipy.integrate as sc_integrate\n",
    "import matplotlib.pyplot as pl\n",
    "\n",
    "import symbtools.modeltools as mt\n",
    "\n",
    "\n",
    "printing.init_printing(1)"
   ]
  },
  {
   "cell_type": "code",
   "execution_count": 6,
   "metadata": {},
   "outputs": [
    {
     "data": {
      "image/png": "[encoded data removed]",
      "text/latex": [
       "$$\\texttt{ttheta.T} := \\left[\\begin{matrix}q_{1} & q_{2}\\end{matrix}\\right]$$"
      ],
      "text/plain": [
       "ttheta.T := [q₁  q₂]"
      ]
     },
     "metadata": {},
     "output_type": "display_data"
    },
    {
     "name": "stdout",
     "output_type": "stream",
     "text": [
      "---\n"
     ]
    },
    {
     "data": {
      "image/png": "[encoded data removed]",
      "text/latex": [
       "$$\\texttt{tthetad.T} := \\left[\\begin{matrix}\\dot{q}_{1} & \\dot{q}_{2}\\end{matrix}\\right]$$"
      ],
      "text/plain": [
       "tthetad.T := [q̇₁  q̇₂]"
      ]
     },
     "metadata": {},
     "output_type": "display_data"
    },
    {
     "name": "stdout",
     "output_type": "stream",
     "text": [
      "---\n"
     ]
    },
    {
     "data": {
      "image/png": "[encoded data removed]",
      "text/latex": [
       "$$\\texttt{tthetadd.T} := \\left[\\begin{matrix}\\ddot{q}_{1} & \\ddot{q}_{2}\\end{matrix}\\right]$$"
      ],
      "text/plain": [
       "tthetadd.T := [q̈₁  q̈₂]"
      ]
     },
     "metadata": {},
     "output_type": "display_data"
    },
    {
     "name": "stdout",
     "output_type": "stream",
     "text": [
      "---\n"
     ]
    }
   ],
   "source": [
    "t = sp.Symbol('t')\n",
    "np = 0\n",
    "nq = 2\n",
    "n = np + nq\n",
    "pp = st.symb_vector(\"p1:{0}\".format(np+1))\n",
    "qq = st.symb_vector(\"q1:{0}\".format(nq+1))\n",
    "\n",
    "aa = st.symb_vector(\"a1:{0}\".format(nq+1))\n",
    "\n",
    "ttheta = st.row_stack(pp, qq) ##:T\n",
    "tthetad = st.time_deriv(ttheta, ttheta) ##:T\n",
    "tthetadd = st.time_deriv(ttheta, ttheta, order=2) ##:T\n",
    "st.make_global(ttheta, tthetad, tthetadd)"
   ]
  },
  {
   "cell_type": "code",
   "execution_count": 7,
   "metadata": {
    "collapsed": true
   },
   "outputs": [],
   "source": [
    "params = sp.symbols('s3, m2, m3, g')\n",
    "st.make_global(params)\n",
    "\n",
    "tau1, tau2 = ttau = st.symb_vector(\"tau1, tau2\")"
   ]
  },
  {
   "cell_type": "markdown",
   "metadata": {},
   "source": [
    "### Festlegung der Geometrie des mechanischen Systemes"
   ]
  },
  {
   "cell_type": "code",
   "execution_count": 9,
   "metadata": {},
   "outputs": [
    {
     "data": {
      "image/png": "[encoded data removed]",
      "text/latex": [
       "$$\\texttt{S3} := \\left[\\begin{matrix}q_{1} - s_{3} \\sin{\\left (q_{2} \\right )}\\\\s_{3} \\cos{\\left (q_{2} \\right )}\\end{matrix}\\right]$$"
      ],
      "text/plain": [
       "S3 := ⎡q₁ - s₃⋅sin(q₂)⎤\n",
       "⎢               ⎥\n",
       "⎣  s₃⋅cos(q₂)   ⎦"
      ]
     },
     "metadata": {},
     "output_type": "display_data"
    },
    {
     "name": "stdout",
     "output_type": "stream",
     "text": [
      "---\n"
     ]
    },
    {
     "data": {
      "image/png": "[encoded data removed]",
      "text/latex": [
       "$$\\left[\\begin{matrix}\\dot{q}_{1}\\\\0\\end{matrix}\\right]$$"
      ],
      "text/plain": [
       "⎡q̇₁⎤\n",
       "⎢   ⎥\n",
       "⎣ 0 ⎦"
      ]
     },
     "metadata": {},
     "output_type": "display_data"
    },
    {
     "data": {
      "image/png": "[encoded data removed]",
      "text/latex": [
       "$$\\left[\\begin{matrix}\\dot{q}_{1} - \\dot{q}_{2} s_{3} \\cos{\\left (q_{2} \\right )}\\\\- \\dot{q}_{2} s_{3} \\sin{\\left (q_{2} \\right )}\\end{matrix}\\right]$$"
      ],
      "text/plain": [
       "⎡q̇₁ - q̇₂⋅s₃⋅cos(q₂)⎤\n",
       "⎢                    ⎥\n",
       "⎣  -q̇₂⋅s₃⋅sin(q₂)   ⎦"
      ]
     },
     "metadata": {},
     "output_type": "display_data"
    },
    {
     "name": "stdout",
     "output_type": "stream",
     "text": [
      "---\n"
     ]
    }
   ],
   "source": [
    "#Einheitsvektoren\n",
    "\n",
    "ex = sp.Matrix([1,0])\n",
    "ey = sp.Matrix([0,1])\n",
    "\n",
    "\n",
    "# Koordinaten der Schwerpunkte und Gelenke\n",
    "S2 = ex*q1 # Schwerpunkt K2\n",
    "G3 = S2 # Gelenk\n",
    "\n",
    "# Schwerpunkt des Pendels #zeigt nach oben\n",
    "S3 = G3 + mt.Rz(q2)*ey*s3 ##:\n",
    "\n",
    "# Zeitableitungen der Schwerpunktskoordinaten\n",
    "Sd2, Sd3  = st.col_split(st.time_deriv(st.col_stack(S2, S3), ttheta)) ##"
   ]
  },
  {
   "cell_type": "code",
   "execution_count": 10,
   "metadata": {},
   "outputs": [
    {
     "data": {
      "image/png": "[encoded data removed]",
      "text/latex": [
       "$$\\texttt{T} := \\frac{m_{2} \\dot{q}_{1}^{2}}{2} + \\frac{m_{3} \\dot{q}_{2}^{2}}{2} s_{3}^{2} \\sin^{2}{\\left (q_{2} \\right )} + \\frac{m_{3}}{2} \\left(\\dot{q}_{1} - \\dot{q}_{2} s_{3} \\cos{\\left (q_{2} \\right )}\\right)^{2}$$"
      ],
      "text/plain": [
       "T :=       2         2   2    2                                2\n",
       "m₂⋅q̇₁    m₃⋅q̇₂ ⋅s₃ ⋅sin (q₂)   m₃⋅(q̇₁ - q̇₂⋅s₃⋅cos(q₂)) \n",
       "─────── + ──────────────────── + ──────────────────────────\n",
       "   2               2                         2             "
      ]
     },
     "metadata": {},
     "output_type": "display_data"
    },
    {
     "name": "stdout",
     "output_type": "stream",
     "text": [
      "---\n"
     ]
    },
    {
     "data": {
      "image/png": "[encoded data removed]",
      "text/latex": [
       "$$\\texttt{V} := g m_{3} s_{3} \\cos{\\left (q_{2} \\right )}$$"
      ],
      "text/plain": [
       "V := g⋅m₃⋅s₃⋅cos(q₂)"
      ]
     },
     "metadata": {},
     "output_type": "display_data"
    },
    {
     "name": "stdout",
     "output_type": "stream",
     "text": [
      "---\n"
     ]
    }
   ],
   "source": [
    "# Energie\n",
    "\n",
    "T_rot = 0 # Pendel as mathematisches Pendel angenommen\n",
    "T_trans = ( m2*Sd2.T*Sd2 + m3*Sd3.T*Sd3 )/2\n",
    "\n",
    "T = T_rot + T_trans[0] ##:\n",
    "V = m3*g*S3[1] ##:"
   ]
  },
  {
   "cell_type": "code",
   "execution_count": 11,
   "metadata": {
    "collapsed": true
   },
   "outputs": [],
   "source": [
    "external_forces = [tau1, tau2]\n",
    "assert not any(external_forces[:np])\n",
    "mod = mt.generate_symbolic_model(T, V, ttheta, external_forces)"
   ]
  },
  {
   "cell_type": "code",
   "execution_count": 12,
   "metadata": {},
   "outputs": [
    {
     "data": {
      "image/png": "[encoded data removed]",
      "text/latex": [
       "$$\\left[\\begin{matrix}m_{2} + m_{3} & - m_{3} s_{3} \\cos{\\left (q_{2} \\right )}\\\\- m_{3} s_{3} \\cos{\\left (q_{2} \\right )} & m_{3} s_{3}^{2}\\end{matrix}\\right]$$"
      ],
      "text/plain": [
       "⎡   m₂ + m₃      -m₃⋅s₃⋅cos(q₂)⎤\n",
       "⎢                              ⎥\n",
       "⎢                         2    ⎥\n",
       "⎣-m₃⋅s₃⋅cos(q₂)      m₃⋅s₃     ⎦"
      ]
     },
     "execution_count": 12,
     "metadata": {},
     "output_type": "execute_result"
    }
   ],
   "source": [
    "# Massenmatrix\n",
    "mod.MM"
   ]
  },
  {
   "cell_type": "code",
   "execution_count": 13,
   "metadata": {},
   "outputs": [
    {
     "data": {
      "image/png": "[encoded data removed]",
      "text/latex": [
       "$$\\left[\\begin{matrix}m_{2} \\ddot{q}_{1} + m_{3} \\left(\\ddot{q}_{1} - \\ddot{q}_{2} s_{3} \\cos{\\left (q_{2} \\right )} + \\dot{q}_{2}^{2} s_{3} \\sin{\\left (q_{2} \\right )}\\right) - \\tau_{1}\\\\- g m_{3} s_{3} \\sin{\\left (q_{2} \\right )} - m_{3} \\ddot{q}_{1} s_{3} \\cos{\\left (q_{2} \\right )} + m_{3} \\ddot{q}_{2} s_{3}^{2} - \\tau_{2}\\end{matrix}\\right]$$"
      ],
      "text/plain": [
       "⎡            ⎛                          2           ⎞     ⎤\n",
       "⎢m₂⋅q̈₁ + m₃⋅⎝q̈₁ - q̈₂⋅s₃⋅cos(q₂) + q̇₂ ⋅s₃⋅sin(q₂)⎠ - τ₁⎥\n",
       "⎢                                                         ⎥\n",
       "⎢                                                 2       ⎥\n",
       "⎣ -g⋅m₃⋅s₃⋅sin(q₂) - m₃⋅q̈₁⋅s₃⋅cos(q₂) + m₃⋅q̈₂⋅s₃  - τ₂  ⎦"
      ]
     },
     "execution_count": 13,
     "metadata": {},
     "output_type": "execute_result"
    }
   ],
   "source": [
    "mod.eqns"
   ]
  },
  {
   "cell_type": "code",
   "execution_count": 16,
   "metadata": {
    "collapsed": true
   },
   "outputs": [],
   "source": [
    "mod.calc_state_eq()"
   ]
  },
  {
   "cell_type": "code",
   "execution_count": 18,
   "metadata": {},
   "outputs": [
    {
     "data": {
      "image/png": "[encoded data removed]",
      "text/latex": [
       "$$\\texttt{mod.f } := \\left[\\begin{matrix}\\dot{q}_{1}\\\\\\dot{q}_{2}\\\\\\frac{m_{3} \\left(g \\cos{\\left (q_{2} \\right )} - \\dot{q}_{2}^{2} s_{3}\\right) \\sin{\\left (q_{2} \\right )}}{m_{2} + m_{3} \\sin^{2}{\\left (q_{2} \\right )}}\\\\\\frac{\\left(g \\left(m_{2} + m_{3}\\right) - m_{3} \\dot{q}_{2}^{2} s_{3} \\cos{\\left (q_{2} \\right )}\\right) \\sin{\\left (q_{2} \\right )}}{s_{3} \\left(m_{2} + m_{3} \\sin^{2}{\\left (q_{2} \\right )}\\right)}\\end{matrix}\\right]$$"
      ],
      "text/plain": [
       "mod.f  := ⎡                   q̇₁                    ⎤\n",
       "⎢                                          ⎥\n",
       "⎢                   q̇₂                    ⎥\n",
       "⎢                                          ⎥\n",
       "⎢        ⎛               2   ⎞             ⎥\n",
       "⎢     m₃⋅⎝g⋅cos(q₂) - q̇₂ ⋅s₃⎠⋅sin(q₂)     ⎥\n",
       "⎢     ────────────────────────────────     ⎥\n",
       "⎢                        2                 ⎥\n",
       "⎢             m₂ + m₃⋅sin (q₂)             ⎥\n",
       "⎢                                          ⎥\n",
       "⎢⎛                    2           ⎞        ⎥\n",
       "⎢⎝g⋅(m₂ + m₃) - m₃⋅q̇₂ ⋅s₃⋅cos(q₂)⎠⋅sin(q₂)⎥\n",
       "⎢──────────────────────────────────────────⎥\n",
       "⎢             ⎛           2    ⎞           ⎥\n",
       "⎣          s₃⋅⎝m₂ + m₃⋅sin (q₂)⎠           ⎦"
      ]
     },
     "metadata": {},
     "output_type": "display_data"
    },
    {
     "name": "stdout",
     "output_type": "stream",
     "text": [
      "___\n"
     ]
    },
    {
     "data": {
      "image/png": "[encoded data removed]",
      "text/latex": [
       "$$\\texttt{mod.g } := \\left[\\begin{matrix}0 & 0\\\\0 & 0\\\\\\frac{1}{m_{2} + m_{3} \\sin^{2}{\\left (q_{2} \\right )}} & \\frac{\\cos{\\left (q_{2} \\right )}}{s_{3} \\left(m_{2} + m_{3} \\sin^{2}{\\left (q_{2} \\right )}\\right)}\\\\\\frac{\\cos{\\left (q_{2} \\right )}}{s_{3} \\left(m_{2} + m_{3} \\sin^{2}{\\left (q_{2} \\right )}\\right)} & \\frac{m_{2} + m_{3}}{m_{3} s_{3}^{2} \\left(m_{2} + m_{3} \\sin^{2}{\\left (q_{2} \\right )}\\right)}\\end{matrix}\\right]$$"
      ],
      "text/plain": [
       "mod.g  := ⎡          0                        0            ⎤\n",
       "⎢                                                ⎥\n",
       "⎢          0                        0            ⎥\n",
       "⎢                                                ⎥\n",
       "⎢         1                      cos(q₂)         ⎥\n",
       "⎢  ────────────────       ─────────────────────  ⎥\n",
       "⎢             2              ⎛           2    ⎞  ⎥\n",
       "⎢  m₂ + m₃⋅sin (q₂)       s₃⋅⎝m₂ + m₃⋅sin (q₂)⎠  ⎥\n",
       "⎢                                                ⎥\n",
       "⎢       cos(q₂)                  m₂ + m₃         ⎥\n",
       "⎢─────────────────────  ─────────────────────────⎥\n",
       "⎢   ⎛           2    ⎞       2 ⎛           2    ⎞⎥\n",
       "⎣s₃⋅⎝m₂ + m₃⋅sin (q₂)⎠  m₃⋅s₃ ⋅⎝m₂ + m₃⋅sin (q₂)⎠⎦"
      ]
     },
     "metadata": {},
     "output_type": "display_data"
    },
    {
     "name": "stdout",
     "output_type": "stream",
     "text": [
      "___\n"
     ]
    }
   ],
   "source": [
    "mod.f ##:\n",
    "\n",
    "mod.g ##:"
   ]
  },
  {
   "cell_type": "code",
   "execution_count": 19,
   "metadata": {},
   "outputs": [
    {
     "data": {
      "image/png": "[encoded data removed]",
      "text/latex": [
       "$$\\texttt{f} := \\left[\\begin{matrix}\\dot{q}_{1}\\\\\\dot{q}_{2}\\\\0\\\\0\\end{matrix}\\right]$$"
      ],
      "text/plain": [
       "f := ⎡q̇₁⎤\n",
       "⎢   ⎥\n",
       "⎢q̇₂⎥\n",
       "⎢   ⎥\n",
       "⎢ 0 ⎥\n",
       "⎢   ⎥\n",
       "⎣ 0 ⎦"
      ]
     },
     "metadata": {},
     "output_type": "display_data"
    },
    {
     "name": "stdout",
     "output_type": "stream",
     "text": [
      "---\n"
     ]
    },
    {
     "data": {
      "image/png": "[encoded data removed]",
      "text/latex": [
       "$$\\texttt{G} := \\left[\\begin{matrix}0 & 0\\\\0 & 0\\\\1 & 0\\\\0 & 1\\end{matrix}\\right]$$"
      ],
      "text/plain": [
       "G := ⎡0  0⎤\n",
       "⎢    ⎥\n",
       "⎢0  0⎥\n",
       "⎢    ⎥\n",
       "⎢1  0⎥\n",
       "⎢    ⎥\n",
       "⎣0  1⎦"
      ]
     },
     "metadata": {},
     "output_type": "display_data"
    },
    {
     "name": "stdout",
     "output_type": "stream",
     "text": [
      "---\n"
     ]
    },
    {
     "data": {
      "image/png": "[encoded data removed]",
      "text/latex": [
       "$$\\texttt{xx.T} := \\left[\\begin{matrix}q_{1} & q_{2} & \\dot{q}_{1} & \\dot{q}_{2}\\end{matrix}\\right]$$"
      ],
      "text/plain": [
       "xx.T := [q₁  q₂  q̇₁  q̇₂]"
      ]
     },
     "metadata": {},
     "output_type": "display_data"
    },
    {
     "name": "stdout",
     "output_type": "stream",
     "text": [
      "---\n"
     ]
    }
   ],
   "source": [
    "# partiell linearisierte Gleichungen (hier: partiell=vollständig)\n",
    "mod.calc_coll_part_lin_state_eq()\n",
    "\n",
    "f = mod.ff ##:\n",
    "G = mod.gg ##:\n",
    "g1, g2 = st.col_split(G)\n",
    "\n",
    "xx = mod.x ##:T"
   ]
  },
  {
   "cell_type": "markdown",
   "metadata": {},
   "source": [
    "## Überprüfung auf statische Eingangs-Zustands-Linearisierbarkeit\n",
    "\n",
    "Konstrunktion der Distributionen $\\Delta_k$"
   ]
  },
  {
   "cell_type": "code",
   "execution_count": 23,
   "metadata": {
    "collapsed": true
   },
   "outputs": [],
   "source": [
    "nx = len(xx)\n",
    "\n",
    "# Liste der Distributionen\n",
    "# (mit Eingangsvektorfeldern starten (Delta_0 = G) )\n",
    "Delta_list = [mod.g]\n",
    "\n",
    "for k in range(1, nx):\n",
    "    Delta_j_full = Delta_list[-1]\n",
    "    Delta_j = Delta_j_full[:, -nq:]# nur die letzten nq Spalten für Lieklammer relevant\n",
    "    Delta_k = []\n",
    "    for vf in st.col_split(Delta_j):\n",
    "        Delta_k.append(st.lie_bracket(mod.f, vf, xx))\n",
    "    \n",
    "    # neu berechnete VF zusammen mit bisherigen in Matrix konvertieren\n",
    "    Delta_k = st.col_stack(Delta_j_full, *Delta_k)\n",
    "    Delta_list.append(Delta_k)"
   ]
  },
  {
   "cell_type": "code",
   "execution_count": 24,
   "metadata": {},
   "outputs": [
    {
     "name": "stdout",
     "output_type": "stream",
     "text": [
      "dim(Delta_0) = 2\n",
      "Delta_0 involutiv? True\n",
      "\n",
      "dim(Delta_1) = 4\n",
      "Delta_1 involutiv? True\n",
      "\n",
      "dim(Delta_2) = 4\n",
      "Delta_2 involutiv? True\n",
      "\n",
      "dim(Delta_3) = 4\n",
      "Delta_3 involutiv? True\n",
      "\n"
     ]
    }
   ],
   "source": [
    "for i, D in enumerate(Delta_list):\n",
    "    print(\"dim(Delta_%i) =\" %i, st.rnd_number_rank(D))\n",
    "    \n",
    "    # failing_vf enthält die ersten beiden VF, deren Lie-Klammer nicht in der Distribution liegen\n",
    "    inv_flag, failing_vf = st.involutivity_test(D, xx)\n",
    "    print(\"Delta_%i involutiv? %s\\n\" %(i, inv_flag))"
   ]
  },
  {
   "cell_type": "markdown",
   "metadata": {},
   "source": [
    "### Fazit:\n",
    "Das System ist also statisch Eingangs-Zustands-Linearisierbar.\n",
    "\n",
    "---\n",
    "\n",
    "Überprüfung: wird durch die Absolutkoordinaten des Pendelschwerpunkts ein in statisch linearisierender Ausgang gebildet (d.h. hat dieser Ausgang einen wohldefinierten und vollständigen relativen Grad?):"
   ]
  },
  {
   "cell_type": "code",
   "execution_count": 27,
   "metadata": {
    "collapsed": true
   },
   "outputs": [],
   "source": [
    "h1, h2 = S3"
   ]
  },
  {
   "cell_type": "markdown",
   "metadata": {},
   "source": [
    "Funktion definieren, die $L_{\\bs g_i}L_{\\bs f}^k h(\\bs x)$ in Abhängigkeit von $h, i$ und $k$ berechnet"
   ]
  },
  {
   "cell_type": "code",
   "execution_count": 28,
   "metadata": {
    "collapsed": true
   },
   "outputs": [],
   "source": [
    "def LgLf(h, i, k):\n",
    "    \"\"\"\n",
    "    h:    Skalarfeld\n",
    "    i:    Index für Eingangsvektorfeld\n",
    "    k:    Ordnung der Lieableitung bezüglich k\n",
    "    \"\"\"\n",
    "    Lf = st.lie_deriv(h, mod.f, xx, n=k)\n",
    "    res = st.lie_deriv(Lf, mod.g[:, i], xx)\n",
    "    return res.simplify()"
   ]
  },
  {
   "cell_type": "code",
   "execution_count": 33,
   "metadata": {},
   "outputs": [
    {
     "data": {
      "image/png": "[encoded data removed]",
      "text/latex": [
       "$$\\left[\\begin{matrix}\\frac{\\sin^{2}{\\left (q_{2} \\right )}}{m_{2} + m_{3} \\sin^{2}{\\left (q_{2} \\right )}} & - \\frac{m_{2} \\cos{\\left (q_{2} \\right )}}{m_{3} s_{3} \\left(m_{2} + m_{3} \\sin^{2}{\\left (q_{2} \\right )}\\right)}\\\\- \\frac{\\sin{\\left (2 q_{2} \\right )}}{2 m_{2} - m_{3} \\cos{\\left (2 q_{2} \\right )} + m_{3}} & - \\frac{\\left(m_{2} + m_{3}\\right) \\sin{\\left (q_{2} \\right )}}{m_{3} s_{3} \\left(m_{2} + m_{3} \\sin^{2}{\\left (q_{2} \\right )}\\right)}\\end{matrix}\\right]$$"
      ],
      "text/plain": [
       "⎡           2                                      ⎤\n",
       "⎢        sin (q₂)                -m₂⋅cos(q₂)       ⎥\n",
       "⎢    ────────────────      ────────────────────────⎥\n",
       "⎢               2                ⎛           2    ⎞⎥\n",
       "⎢    m₂ + m₃⋅sin (q₂)      m₃⋅s₃⋅⎝m₂ + m₃⋅sin (q₂)⎠⎥\n",
       "⎢                                                  ⎥\n",
       "⎢      -sin(2⋅q₂)            -(m₂ + m₃)⋅sin(q₂)    ⎥\n",
       "⎢────────────────────────  ────────────────────────⎥\n",
       "⎢2⋅m₂ - m₃⋅cos(2⋅q₂) + m₃        ⎛           2    ⎞⎥\n",
       "⎣                          m₃⋅s₃⋅⎝m₂ + m₃⋅sin (q₂)⎠⎦"
      ]
     },
     "execution_count": 33,
     "metadata": {},
     "output_type": "execute_result"
    }
   ],
   "source": [
    "sp.Matrix([[LgLf(h1, i=0, k=1), LgLf(h1, i=1, k=1)],\n",
    "           [LgLf(h2, i=0, k=1), LgLf(h2, i=1, k=1)]])"
   ]
  },
  {
   "cell_type": "markdown",
   "metadata": {},
   "source": [
    "Für $q_2 \\neq 0$ usw. ist diese Matrix regulär. D.h. $\\y$ hat bis auf Singularitäten den vektoriellen relativen Grad $(2, 2)^T$"
   ]
  },
  {
   "cell_type": "code",
   "execution_count": null,
   "metadata": {
    "collapsed": true
   },
   "outputs": [],
   "source": []
  }
 ],
 "metadata": {
  "kernelspec": {
   "display_name": "Python 3",
   "language": "python",
   "name": "python3"
  },
  "language_info": {
   "codemirror_mode": {
    "name": "ipython",
    "version": 3
   },
   "file_extension": ".py",
   "mimetype": "text/x-python",
   "name": "python",
   "nbconvert_exporter": "python",
   "pygments_lexer": "ipython3",
   "version": "3.5.3"
  }
 },
 "nbformat": 4,
 "nbformat_minor": 1
}
