{
 "cells": [
  {
   "cell_type": "markdown",
   "metadata": {},
   "source": [
    "## Visualize a Sympy Expression Graph\n",
    "\n",
    "The library `anytree` is used. See https://anytree.readthedocs.io/en/latest/"
   ]
  },
  {
   "cell_type": "code",
   "execution_count": 1,
   "metadata": {},
   "outputs": [
    {
     "name": "stdout",
     "output_type": "stream",
     "text": [
      "Mon Feb 24 19:22:55 2020\n"
     ]
    }
   ],
   "source": [
    "import time\n",
    "print(time.ctime())\n",
    "\n",
    "import sympy as sp\n",
    "from sympy import sin, cos, exp, sqrt, atan2, atan\n",
    "from sympy.interactive import printing\n",
    "printing.init_printing()\n",
    "\n",
    "\n",
    "import anytree # for tree visualizing\n",
    "from anytree import Node, exporter\n",
    "from IPython.core.display import Image, display\n"
   ]
  },
  {
   "cell_type": "code",
   "execution_count": 2,
   "metadata": {},
   "outputs": [],
   "source": [
    "w1, w2 = sp.symbols(\"w1, w2\")"
   ]
  },
  {
   "cell_type": "code",
   "execution_count": 3,
   "metadata": {},
   "outputs": [],
   "source": [
    "def crawl(expr, func, *args, **kwargs):\n",
    "    \"\"\"\n",
    "    Crawl the expression tree, and apply func to every node.\n",
    "    \n",
    "    original source: https://jcrist.github.io/gsoc-week-7.html (Jim Crist, Sun 06 July 2014)\n",
    "    modified by C. Knoll (2020-02-24)\n",
    "    \n",
    "    :param expr:\n",
    "    :param func: function that gets applied to all leaves\n",
    "    \n",
    "    :return: expr after traversion\n",
    "    \n",
    "    func should return (None, node) if the current leave (i.e. `expr`) has childs\n",
    "    and (val, Node) if this is the end of the branch of the tree.\n",
    "    \"\"\"\n",
    "    val, node = func(expr, *args, **kwargs)\n",
    "    if val is not None:\n",
    "        return val\n",
    "    new_args = (crawl(arg, func, node, **kwargs) for arg in expr.args)\n",
    "    return expr.func(*new_args)\n",
    "\n",
    "\n",
    "def get_short_name(sp_func):\n",
    "    \"\"\"\n",
    "    convert <class 'sympy.core.add.Add'>    to   Add\n",
    "    \"\"\"\n",
    "    return str(sp_func.mro()[0]).split(\".\")[-1].replace(\"'>\", \"\")\n",
    "\n",
    "def get_node_str(expr):\n",
    "    \"\"\"\n",
    "    return either direct representation of expr or the name of the operator (if expr has childs)\n",
    "    \"\"\"\n",
    "    \n",
    "    if not expr.args:\n",
    "        return repr(expr)\n",
    "    else:\n",
    "        return get_short_name(expr.func)\n",
    "\n",
    "\n",
    "def make_tree(expr, parent):\n",
    "    \"\"\"Print out every node\"\"\"\n",
    "    n = Node(get_node_str(expr), parent=parent)\n",
    "    if not expr.args:\n",
    "        return expr, n\n",
    "    else:\n",
    "        return None, n\n",
    "    \n",
    "def visualize_expression(expr, mode=\"txt\", fname=\"tmp_graph.png\"):\n",
    "    \"\"\"\n",
    "    visualize a sympy expression graph either in text-mode or graphically\n",
    "    \"\"\"\n",
    "    root = Node(\"root\")\n",
    "    crawl(expr, make_tree, root)\n",
    "    \n",
    "    if mode == \"txt\":\n",
    "        for pre, fill, node in anytree.RenderTree(root):\n",
    "            print(\"%s%s\" % (pre, node.name))\n",
    "            \n",
    "    else:\n",
    "        anytree.exporter.DotExporter(root).to_picture(fname)\n",
    "        display(Image(filename=fname))\n",
    "    \n",
    "    return root\n"
   ]
  },
  {
   "cell_type": "code",
   "execution_count": 4,
   "metadata": {},
   "outputs": [],
   "source": [
    "z = w1 + w2**2 - 7"
   ]
  },
  {
   "cell_type": "code",
   "execution_count": 5,
   "metadata": {},
   "outputs": [
    {
     "name": "stdout",
     "output_type": "stream",
     "text": [
      "root\n",
      "└── Add\n",
      "    ├── -7\n",
      "    ├── w1\n",
      "    └── Pow\n",
      "        ├── w2\n",
      "        └── 2\n"
     ]
    }
   ],
   "source": [
    "r = visualize_expression(z)"
   ]
  },
  {
   "cell_type": "code",
   "execution_count": 6,
   "metadata": {},
   "outputs": [
    {
     "data": {
      "image/png": "[encoded data removed]",
      "text/plain": [
       "<IPython.core.display.Image object>"
      ]
     },
     "metadata": {},
     "output_type": "display_data"
    },
    {
     "data": {
      "text/plain": [
       "Node('/root')"
      ]
     },
     "execution_count": 6,
     "metadata": {},
     "output_type": "execute_result"
    }
   ],
   "source": [
    "# this needs graphviz to be installed: https://graphviz.org/download/\n",
    "\n",
    "visualize_expression(z, mode=\"img\")"
   ]
  }
 ],
 "metadata": {
  "kernelspec": {
   "display_name": "Python 3",
   "language": "python",
   "name": "python3"
  },
  "language_info": {
   "codemirror_mode": {
    "name": "ipython",
    "version": 3
   },
   "file_extension": ".py",
   "mimetype": "text/x-python",
   "name": "python",
   "nbconvert_exporter": "python",
   "pygments_lexer": "ipython3",
   "version": "3.7.3"
  }
 },
 "nbformat": 4,
 "nbformat_minor": 2
}
