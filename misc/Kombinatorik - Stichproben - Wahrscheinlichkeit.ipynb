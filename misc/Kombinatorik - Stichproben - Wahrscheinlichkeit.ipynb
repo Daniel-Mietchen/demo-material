{
 "cells": [
  {
   "cell_type": "markdown",
   "metadata": {},
   "source": [
    "Gegeben sei eine Menge von $n$ unterscheidbaren Elementen $e_1, \\ldots, e_n$. Aus dieser wird $k$ mal nacheinander zufällig ein Element ausgewählt, dessen Nummer notiert und zufällig zurückgelegt.\n",
    "\n",
    "Gesucht ist die Wahrscheinlichkeit $P_{n,k}(f)$, sodass unter diesen $k$ Ziehungen mindestens ein Anteil $f\\in [0, 1]$ aller $n$ Elemente enthalten ist. Die Reihenfolge der Ziehungsergebnisse spiele keine Rolle.\n",
    "\n",
    "\n",
    "---\n",
    "\n",
    "Ziel des Dokuments ist es eine exakte Lösung für $P_{n,k}(f)$ herzuleiten.\n",
    "\n",
    "---"
   ]
  },
  {
   "cell_type": "markdown",
   "metadata": {},
   "source": [
    "Die Anzahl aller möglichen Kombinationen (Blatt-Knoten im Baumdiagramm): $N := n^k$\n"
   ]
  },
  {
   "cell_type": "markdown",
   "metadata": {},
   "source": [
    "Wahrscheinlichkeit, dass $k$ mal Element $e_1$ gezogen wird: $\\frac{1}{N}$"
   ]
  },
  {
   "cell_type": "markdown",
   "metadata": {},
   "source": [
    "Wahrscheinlichkeit, dass $k$ mal das selbe Element gezogen wird (egal welches): $\\qquad p_1 := n\\cdot \\frac{1}{N}$\n",
    "\n",
    "\n",
    "Anzahl der Möglichkeiten, dass $k$ mal das selbe Element gezogen wird (egal welches):\n",
    "\n",
    "$$\n",
    "N_1 := n\n",
    "$$\n",
    "\n",
    "---"
   ]
  },
  {
   "cell_type": "markdown",
   "metadata": {},
   "source": [
    "Anzahl der Möglichkeiten für $(k-1)$ mal $e_1$ und $1$ mal $e_2$: $\\binom{k}{1}=\\frac{k!}{(k-1)!\\cdot 1!}=k$\n",
    "\n",
    "($e_2$ kann an $k$ verschiedenen Stellen stehen)."
   ]
  },
  {
   "cell_type": "markdown",
   "metadata": {},
   "source": [
    "Anzahl der Möglichkeiten für $(k-1)$ mal $e_1$ und $1$ mal $e_j$ (mit $j\\neq 1$): $(n-1)k$"
   ]
  },
  {
   "cell_type": "markdown",
   "metadata": {},
   "source": [
    "Anzahl der Möglichkeiten für $(k-1)$ mal $e_i$ und $1$ mal $e_j$ (mit $j\\neq i$):\n",
    "$N_{2:(k-1),1}:=n\\cdot(n-1)\\cdot k$\n",
    "\n",
    "---"
   ]
  },
  {
   "cell_type": "code",
   "execution_count": 1,
   "metadata": {},
   "outputs": [],
   "source": [
    "%load_ext ipydex.displaytools"
   ]
  },
  {
   "cell_type": "code",
   "execution_count": 2,
   "metadata": {},
   "outputs": [
    {
     "data": {
      "text/plain": [
       "elements := ['e1', 'e2', 'e3', 'e4', 'e5', 'e6']"
      ]
     },
     "metadata": {},
     "output_type": "display_data"
    },
    {
     "data": {
      "text/plain": [
       "---"
      ]
     },
     "metadata": {},
     "output_type": "display_data"
    }
   ],
   "source": [
    "# Überprüfung mit Code:\n",
    "\n",
    "import math\n",
    "import itertools as it\n",
    "from collections import defaultdict\n",
    "from scipy.special import binom\n",
    "from sympy import factorial, sympify\n",
    "import numpy as np\n",
    "import matplotlib.pyplot as plt\n",
    "\n",
    "\n",
    "n = 6\n",
    "k = 4\n",
    "def create_n_elements(n):\n",
    "     return [f\"e{i+1}\" for i in range(n)]\n",
    "    \n",
    "elements = create_n_elements(n) ##:"
   ]
  },
  {
   "cell_type": "code",
   "execution_count": 3,
   "metadata": {},
   "outputs": [
    {
     "data": {
      "text/plain": [
       "elements := ['e1', 'e2', 'e3', 'e4', 'e5', 'e6']"
      ]
     },
     "metadata": {},
     "output_type": "display_data"
    },
    {
     "data": {
      "text/plain": [
       "---"
      ]
     },
     "metadata": {},
     "output_type": "display_data"
    },
    {
     "data": {
      "text/plain": [
       "[('e1', 'e1', 'e1', 'e1'),\n",
       " ('e1', 'e1', 'e1', 'e2'),\n",
       " ('e1', 'e1', 'e1', 'e3'),\n",
       " ('e1', 'e1', 'e1', 'e4'),\n",
       " ('e1', 'e1', 'e1', 'e5'),\n",
       " ('e1', 'e1', 'e1', 'e6'),\n",
       " ('e1', 'e1', 'e2', 'e1')]"
      ]
     },
     "execution_count": 3,
     "metadata": {},
     "output_type": "execute_result"
    }
   ],
   "source": [
    "elements = create_n_elements(n) ##:\n",
    "\n",
    "def get_all_combinations(n, k):\n",
    "    elements = create_n_elements(n) \n",
    "    return list(it.product(elements, repeat=k))\n",
    "\n",
    "all_combinations = get_all_combinations(n=n, k=k)\n",
    "\n",
    "all_combinations[:7]"
   ]
  },
  {
   "cell_type": "code",
   "execution_count": 4,
   "metadata": {},
   "outputs": [],
   "source": [
    "def apply_counter(all_combinations):\n",
    "    counter_list = []\n",
    "    counter_len_dict = defaultdict(list)\n",
    "    for tup in all_combinations:\n",
    "        counter = defaultdict(lambda: 0)\n",
    "        for e in tup:\n",
    "            counter[e] += 1\n",
    "        counter_len_dict[len(counter)].append(dict(counter))\n",
    "        counter_list.append(dict(counter))\n",
    "    \n",
    "    return counter_list, counter_len_dict"
   ]
  },
  {
   "cell_type": "code",
   "execution_count": 5,
   "metadata": {},
   "outputs": [],
   "source": [
    "counter_list = []\n",
    "for tup in all_combinations:\n",
    "    counter = defaultdict(lambda: 0)\n",
    "    for e in tup:\n",
    "        counter[e] += 1\n",
    "    counter_list.append(dict(counter))"
   ]
  },
  {
   "cell_type": "code",
   "execution_count": 6,
   "metadata": {},
   "outputs": [
    {
     "data": {
      "text/plain": [
       "[{'e1': 4}, {'e1': 3, 'e2': 1}, {'e1': 3, 'e3': 1}]"
      ]
     },
     "execution_count": 6,
     "metadata": {},
     "output_type": "execute_result"
    }
   ],
   "source": [
    "counter_list[:3]"
   ]
  },
  {
   "cell_type": "code",
   "execution_count": 7,
   "metadata": {},
   "outputs": [
    {
     "data": {
      "text/plain": [
       "N_km1_1 := 120"
      ]
     },
     "metadata": {},
     "output_type": "display_data"
    },
    {
     "data": {
      "text/plain": [
       "---"
      ]
     },
     "metadata": {},
     "output_type": "display_data"
    }
   ],
   "source": [
    "all_km1_1_combinations = [c for c in counter_list if tuple(sorted(c.values()))==(1, k-1)]\n",
    "\n",
    "N_km1_1 = len(all_km1_1_combinations) ##:\n",
    "assert N_km1_1 == n*(n-1)*k"
   ]
  },
  {
   "cell_type": "markdown",
   "metadata": {},
   "source": [
    "**Zwischenfazit**:\n",
    "\n",
    "Formel für $N_{2:(k-1),1}$ empirisch bestätigt."
   ]
  },
  {
   "cell_type": "markdown",
   "metadata": {},
   "source": [
    "Anzahl der Möglichkeiten für $(k-2)$ mal $e_1$ und $2$ mal $e_2$: $\\frac{k!}{(k-2)!\\cdot 2!}$\n",
    "\n",
    "Begründung: Anordnung für $k$-Elemente → $k!$, Aber alle $e_1$-Elemente sind ununterscheidbar → Faktor $\\frac{1}{(k-2)!}$ und alle $e_2$-Elemente sind ununterscheidbar → Faktor $\\frac{1}{2!}$."
   ]
  },
  {
   "cell_type": "markdown",
   "metadata": {},
   "source": [
    "Anzahl der Möglichkeiten für $(k-2)$ mal $e_i$ und $2$ mal $e_j$ (mit $j\\neq i$):\n",
    "$N_{2:(k-2),2}:=n\\cdot(n-1)\\cdot\\frac{1}{2^{2==k-2}}\\cdot \\frac{k!}{(k-2)!\\cdot 2!}$\n",
    "\n",
    "Anzahl der Möglichkeiten für $(k-r)$ mal $e_i$ und $r$ mal $e_j$ (mit $j\\neq i$):\n",
    "$N_{2:(k-r),r}:=n\\cdot(n-1)\\cdot\\frac{1}{2^{r==k-r}}\\cdot \\frac{k!}{(k-r)!\\cdot r!}$\n",
    "\n",
    "Bemerkung: Falls $r == k-r$ fallen bestimmte Kombinationen zusammen, und dürfen deshalb nur einmal gezählt werden."
   ]
  },
  {
   "cell_type": "code",
   "execution_count": 8,
   "metadata": {},
   "outputs": [],
   "source": [
    "def N2_kmr_r(n, k, r):\n",
    "    return n*(n-1)*1/2**int(r==k-r)*factorial(k)/(factorial(k-r)*factorial(r))"
   ]
  },
  {
   "cell_type": "code",
   "execution_count": 9,
   "metadata": {},
   "outputs": [],
   "source": [
    "def check_formula_for_N2_kmr_r(n, k, r):\n",
    "    \n",
    "    if n**k > 1e6:\n",
    "        raise ValueError(f\"Combinatorical Explosion {n}, {k}, {n**k}\")\n",
    "    \n",
    "    elements = create_n_elements(n)\n",
    "    all_combinations = list(it.product(elements, repeat=k))\n",
    "    \n",
    "    \n",
    "    counter_list = []\n",
    "    for tup in all_combinations:\n",
    "        counter = defaultdict(lambda: 0)\n",
    "        for e in tup:\n",
    "            counter[e] += 1\n",
    "        counter_list.append(dict(counter))\n",
    "        \n",
    "    all_kmr_r_combinations = [c for c in counter_list if tuple(sorted(c.values()))== tuple(sorted((k-r, r)))]\n",
    "    \n",
    "    return len(all_kmr_r_combinations) == N2_kmr_r(n, k, r)\n"
   ]
  },
  {
   "cell_type": "code",
   "execution_count": 10,
   "metadata": {},
   "outputs": [
    {
     "data": {
      "text/plain": [
       "True"
      ]
     },
     "execution_count": 10,
     "metadata": {},
     "output_type": "execute_result"
    }
   ],
   "source": [
    "# empirische Überprüfung der Formel für verschiedene Werte von n, k, r\n",
    "\n",
    "for n_, k_, r_ in it.product(range(6, 9), range(3, 9), range(1, 9)):\n",
    "    \n",
    "    break # Später eingefügt zur Beschleunigung\n",
    "    \n",
    "    if r_ >= k_:\n",
    "        continue\n",
    "        \n",
    "    try:\n",
    "        res = check_formula_for_N2_kmr_r(n=n_, k=k_, r=r_)\n",
    "    except ValueError:\n",
    "        continue\n",
    "    \n",
    "    assert res\n",
    "    # print(f\"n={n_}, k={k_}, r={r_}: {res}\")\n",
    "    \n",
    "True # wird nur im Nicht-Fehlerfall ausgegeben"
   ]
  },
  {
   "cell_type": "markdown",
   "metadata": {},
   "source": [
    "Hilfsgröße: $\\bar{N}_{2:(k-r),r}:=n\\cdot(n-1)\\cdot\\frac{1}{2}\\cdot \\frac{k!}{(k-r)!\\cdot r!}$. Begründung: zählt bei den ungleichen Kombinationen von $(k-r)$ und $r$ nur die Hälfte. Dadurch kann man die folgende Summe aber von $r=1$ bis $r=k-1$ laufen lassen.\n",
    "\n",
    "Anzahl der Möglichkeiten genau 2 verschiedene Elemente in der Stichprobe mit Länge $k$ zu haben:\n",
    "\n",
    "$$\n",
    "N_2 := \\sum_{r=1}^{k-1}  \\bar N_{2:(k-r, r)}\n",
    "$$"
   ]
  },
  {
   "cell_type": "code",
   "execution_count": 11,
   "metadata": {},
   "outputs": [],
   "source": [
    "def N2bar_kmr_r(n, k, r):\n",
    "    return n*(n-1)*1/2*factorial(k)/(factorial(k-r)*factorial(r))\n",
    "\n",
    "def N2(n, k):\n",
    "    res = 0\n",
    "    for r in range(1, k):\n",
    "        # print((k-r, r))\n",
    "        res += N2bar_kmr_r(n, k, r)\n",
    "        \n",
    "    return int(res)"
   ]
  },
  {
   "cell_type": "code",
   "execution_count": 12,
   "metadata": {},
   "outputs": [
    {
     "data": {
      "text/plain": [
       "True"
      ]
     },
     "execution_count": 12,
     "metadata": {},
     "output_type": "execute_result"
    }
   ],
   "source": [
    "# empirische Überprüfung der Formel für verschiedene Werte von n, k\n",
    "\n",
    "\n",
    "def check_formula_for_N2(n, k):\n",
    "    \n",
    "    elements = create_n_elements(n)\n",
    "    all_combinations = list(it.product(elements, repeat=k))\n",
    "    \n",
    "    \n",
    "    counter_list = []\n",
    "    for tup in all_combinations:\n",
    "        counter = defaultdict(lambda: 0)\n",
    "        for e in tup:\n",
    "            counter[e] += 1\n",
    "        counter_list.append(dict(counter))\n",
    "        \n",
    "    all_2_combinations = [c for c in counter_list if len(c)==2]\n",
    "    \n",
    "    # print((n, k), len(all_2_combinations), N2(n, k))\n",
    "    return len(all_2_combinations) == N2(n, k)\n",
    "\n",
    "\n",
    "for n_, k_ in it.product(range(6, 9), range(3, 9)):\n",
    "\n",
    "    res = check_formula_for_N2(n=6, k=4)\n",
    "    \n",
    "    assert res\n",
    "    # print(f\"n={n_}, k={k_}, r={r_}: {res}\")\n",
    "    \n",
    "True # wird nur im Nicht-Fehlerfall ausgegeben"
   ]
  },
  {
   "cell_type": "markdown",
   "metadata": {},
   "source": [
    "**Zwischenfazit:**\n",
    "    \n",
    "Für beliebige $n, k$ können wir die Anzahl der Möglichkeiten ausrechnen $d=1$ oder $d=2$ verschiedene Elemente in der Stichprobe der Länge $k$ zu haben.\n",
    "\n",
    "Das muss jetzt auf allgemeine $d \\in \\mathbb{N}_+$ erweitert werden. Gesucht ist Formel für $N_d$.\n",
    "\n"
   ]
  },
  {
   "cell_type": "markdown",
   "metadata": {},
   "source": [
    "Hilfsgröße: $\\bar{N}_{d:\\left(k-\\sum_{i=1}^{d-1} r_i\\right),r_1, \\ldots, r_{d-1}}:=n\\cdot \\ldots \\cdot (n-(d-1))\\cdot\\frac{1}{d!}\\cdot \\frac{k!}{\\left(k-\\sum_{i=1}^{d-1} r_i\\right)!\\cdot r_1!\\cdot \\ldots \\cdot r_{d-1}!}$"
   ]
  },
  {
   "cell_type": "code",
   "execution_count": 13,
   "metadata": {},
   "outputs": [],
   "source": [
    "def Nd_bar_kmr_r(n, k, *rr):\n",
    "    \n",
    "    d = len(rr) + 1\n",
    "    \n",
    "    # every index r_i must be >= 1; the sum must be <= k-1\n",
    "    \n",
    "    # print(rr, k)\n",
    "    \n",
    "    assert len(rr) <= sum(rr) < k\n",
    "    \n",
    "    term1 = np.prod(range(n-(d-1), n+1)) * 1/factorial(d)\n",
    "    \n",
    "    k_minus_sum = k - sum(rr)\n",
    "    \n",
    "    denom = np.prod([factorial(r_i) for r_i in rr])*factorial(k_minus_sum)\n",
    "    \n",
    "    res = term1 * factorial(k)/denom\n",
    "    \n",
    "    return res"
   ]
  },
  {
   "cell_type": "code",
   "execution_count": 14,
   "metadata": {},
   "outputs": [
    {
     "data": {
      "text/plain": [
       "True"
      ]
     },
     "execution_count": 14,
     "metadata": {},
     "output_type": "execute_result"
    }
   ],
   "source": [
    "# empirische Überprüfung für d=2\n",
    "\n",
    "for n_, k_, r_ in it.product(range(6, 9), range(3, 9), range(1, 9)):\n",
    "     \n",
    "    if r_ >= k_:\n",
    "        continue\n",
    "    \n",
    "    #print(n_, k_, r_)\n",
    "    assert N2bar_kmr_r(n=n_, k=k_, r=r_) == Nd_bar_kmr_r(n_, k_, r_)\n",
    "    \n",
    "True"
   ]
  },
  {
   "cell_type": "code",
   "execution_count": 15,
   "metadata": {},
   "outputs": [
    {
     "data": {
      "text/plain": [
       "True"
      ]
     },
     "execution_count": 15,
     "metadata": {},
     "output_type": "execute_result"
    }
   ],
   "source": [
    "# Formel gilt auch für d = 1 exemplarisch (es wird kein 3. Argument übergeben)\n",
    "\n",
    "for n_, k_ in it.product(range(1, 9), range(1, 9)):\n",
    "     \n",
    "    # print(n_, k_,)\n",
    "    assert Nd_bar_kmr_r(n_, k_) == n_\n",
    "True"
   ]
  },
  {
   "cell_type": "markdown",
   "metadata": {},
   "source": [
    "Zerlegung von $k$ in $d$ Summanden aus $\\mathbb{N}_+$: Abwandlung der Methode \"Stars and Bars\":\n",
    "\n",
    "Es gibt eine Liste von $k-1 - (d - 1) = k - d$ \"a\"-Symbolen und $d-1$ \"b\"-Symbolen. Jede mögliche Anordnung dieser Symbole steht für eine gültige Zerlegung. Jedes \"a\" steht für \"+1 zum aktuellen Summand\"; jedes \"b\" steht für betrachte nächsten Summand. Alle Summanden starten mit Wert 1.\n",
    "\n",
    "Beispiele:\n",
    "- `aabab` → Zerlegung von 6 in die d=3 Summanden (3, 2, 1)\n",
    "- `bbbaa` → Zerlegung von 6 in die d=4 Summanden (1, 1, 1, 3)"
   ]
  },
  {
   "cell_type": "code",
   "execution_count": 16,
   "metadata": {},
   "outputs": [],
   "source": [
    "def decode_ab_string(txt):\n",
    "    res = [1]\n",
    "    for c in txt:\n",
    "        if c == \"a\":\n",
    "            res[-1] += 1\n",
    "        elif c== \"b\":\n",
    "            res.append(1)\n",
    "        else:\n",
    "            raise ValueError(f\"Unexpected object: {c}\")\n",
    "            \n",
    "    return res\n",
    "\n",
    "\n",
    "# source: https://stackoverflow.com/questions/6284396/permutations-with-unique-values\n",
    "def unique_permutations(elements):\n",
    "    if len(elements) == 1:\n",
    "        yield (elements[0],)\n",
    "    else:\n",
    "        unique_elements = set(elements)\n",
    "        for first_element in unique_elements:\n",
    "            remaining_elements = list(elements)\n",
    "            remaining_elements.remove(first_element)\n",
    "            for sub_permutation in unique_permutations(remaining_elements):\n",
    "                yield (first_element,) + sub_permutation\n",
    "\n",
    "            \n",
    "def generate_decompositions(k, d):\n",
    "    \n",
    "    # generate all unique ab_strings\n",
    "    # too slow for big numbers\n",
    "    # ab_strings = set(it.permutations(\"a\"*(k-d) + \"b\"*(d-1), k-1))\n",
    "    ab_strings = unique_permutations(\"a\"*(k-d) + \"b\"*(d-1))\n",
    "    \n",
    "    decompositions = []\n",
    "    \n",
    "    for ab_string in ab_strings:\n",
    "        decompositions.append(decode_ab_string(ab_string))\n",
    "        \n",
    "    return decompositions\n"
   ]
  },
  {
   "cell_type": "code",
   "execution_count": 17,
   "metadata": {},
   "outputs": [
    {
     "data": {
      "text/plain": [
       "[[5, 1], [4, 2], [3, 3], [2, 4], [1, 5]]"
      ]
     },
     "execution_count": 17,
     "metadata": {},
     "output_type": "execute_result"
    }
   ],
   "source": [
    "generate_decompositions(6, 2)"
   ]
  },
  {
   "cell_type": "markdown",
   "metadata": {},
   "source": [
    "Problem: Der Ansatz, diese Zerlegungen explizit zu berechenen skalliert sehr schlecht:"
   ]
  },
  {
   "cell_type": "code",
   "execution_count": 18,
   "metadata": {},
   "outputs": [
    {
     "name": "stdout",
     "output_type": "stream",
     "text": [
      "CPU times: user 3.42 s, sys: 30 ms, total: 3.45 s\n",
      "Wall time: 3.45 s\n"
     ]
    },
    {
     "data": {
      "text/plain": [
       "346104"
      ]
     },
     "execution_count": 18,
     "metadata": {},
     "output_type": "execute_result"
    }
   ],
   "source": [
    "%%time\n",
    "x = list(generate_decompositions(25, 8))\n",
    "len(x)"
   ]
  },
  {
   "cell_type": "markdown",
   "metadata": {},
   "source": [
    "### Zwischenfazit\n",
    "\n",
    "Das Beispiel zeigt, dass eine explizite Konstruktion der Zerlegungen nicht sinnvoll skaliert (Wir wollen am Ende mit n=100 und k=200 rechnen).\n",
    "\n",
    "Deswegen: [Multinomialverteilung](https://de.wikipedia.org/wiki/Multinomialverteilung) verwenden und immer nur eine \"sortierte\" Zerlegung bestimmen."
   ]
  },
  {
   "cell_type": "code",
   "execution_count": 19,
   "metadata": {},
   "outputs": [],
   "source": [
    "# multinomial_coeff, source: https://stackoverflow.com/a/46374719/333403\n",
    "\n",
    "def multinomial(params):\n",
    "    \"\"\"\n",
    "    Anzahl der Möglichkeiten\n",
    "    \"\"\"\n",
    "    if len(params) == 1:\n",
    "        return 1\n",
    "    return binom(sum(params), params[-1]) * multinomial(params[:-1])"
   ]
  },
  {
   "cell_type": "code",
   "execution_count": 20,
   "metadata": {},
   "outputs": [],
   "source": [
    "def redistribute_ones(arr):\n",
    "    \"\"\"\n",
    "    assume arr is sorted in decreasing order. Assume arr = [a, a, a, b, b, c, c, c, 0, ..., 0]\n",
    "    \n",
    "    At every zone-limit (i.e. (a, b), (b, c)) decrease the left (higher) number and\n",
    "    separately increase every lower number on the right at a zone-limit\n",
    "    \n",
    "    [a, a, a-1, b+1, b, c, c, c, 0, ..., 0]\n",
    "    [a, a, a-1, b, b, c+1, c, c, 0, ..., 0]\n",
    "    \n",
    "    [a, a, a, b, b-1, c+1, c, c, 0, ..., 0]\n",
    "    \n",
    "    (assuming: a >= b+2 and b >= c+2, otherwise nothing would change after sorting)\n",
    "    \n",
    "    \"\"\"\n",
    "    \n",
    "    # arr = np.array(arr) # conflicts with jit\n",
    "    \n",
    "    diff = np.diff(arr)\n",
    "    \n",
    "    res = []\n",
    "    \n",
    "    \n",
    "    if arr[-1] == 0:\n",
    "        # neglect the last diff index because after that the zeros begin\n",
    "        diff_idcs = np.arange(len(diff))[diff < 0][:-1]\n",
    "    else:\n",
    "        # there are no zeros at the end (all elements occurr)\n",
    "        diff_idcs = np.arange(len(diff))[diff < 0]\n",
    "\n",
    "    for i, di0 in enumerate(diff_idcs):\n",
    "        # i is the index in the diff_idcs array\n",
    "        delta = arr*0\n",
    "        # iterate over the remaining diff indices\n",
    "        for di1 in diff_idcs[i:]:\n",
    "            delta = arr*0\n",
    "            \n",
    "            # perform the redistribution\n",
    "            delta[di0] = -1\n",
    "            delta[di1+1] = 1\n",
    "            if di0 == di1 and diff[di0] == -1:\n",
    "                # this would destroy the ordering\n",
    "                continue\n",
    "            res.append(arr + delta)\n",
    "    return res\n",
    "\n",
    "original_redistribute_ones = redistribute_ones"
   ]
  },
  {
   "cell_type": "code",
   "execution_count": 21,
   "metadata": {},
   "outputs": [
    {
     "name": "stdout",
     "output_type": "stream",
     "text": [
      "169 µs ± 31.8 µs per loop (mean ± std. dev. of 7 runs, 10000 loops each)\n"
     ]
    }
   ],
   "source": [
    "%%timeit\n",
    "q = redistribute_ones(np.r_[50, 8, 8, 4, 3, 1, 1, 1, 1, 1, 1, 1, 1, 0])"
   ]
  },
  {
   "cell_type": "code",
   "execution_count": 22,
   "metadata": {},
   "outputs": [],
   "source": [
    "from numba import jit\n",
    "nb_redistribute_ones = jit(redistribute_ones)"
   ]
  },
  {
   "cell_type": "code",
   "execution_count": 23,
   "metadata": {},
   "outputs": [
    {
     "name": "stdout",
     "output_type": "stream",
     "text": [
      "The slowest run took 7.25 times longer than the fastest. This could mean that an intermediate result is being cached.\n",
      "25.3 µs ± 23.3 µs per loop (mean ± std. dev. of 7 runs, 1 loop each)\n"
     ]
    }
   ],
   "source": [
    "%%timeit\n",
    "q = nb_redistribute_ones(np.array([50, 8, 8, 4, 3, 1, 1, 1, 1, 1, 1, 1, 1, 0]))"
   ]
  },
  {
   "cell_type": "code",
   "execution_count": 24,
   "metadata": {},
   "outputs": [],
   "source": [
    "# Numba-Nutzung bringt ca. Faktor 4 Beschleunigung\n",
    "\n",
    "redistribute_ones = nb_redistribute_ones"
   ]
  },
  {
   "cell_type": "code",
   "execution_count": 25,
   "metadata": {},
   "outputs": [],
   "source": [
    "def sorted_decomposition(n, k, d):\n",
    "    \"\"\"\n",
    "    bilde alle absteigend sortierten n-Tupel, die d Elemente > 0 enthalten und deren Summe = k ist\n",
    "    \n",
    "    Motivation: Stichprobe der Länge k, mit d verschiedenen Elementen\n",
    "    \"\"\"\n",
    "    \n",
    "    # erzeuge einen Baum:\n",
    "    \n",
    "    # geht nicht mit jit:\n",
    "    # start = np.array( (k-(d-1),)+(1,)*(d-1)+(0,)*(n-d) )\n",
    "    start = np.zeros(n)\n",
    "    start[0] = k - (d - 1)\n",
    "    start[1:d] = 1\n",
    "    assert np.sum(start) == k\n",
    "    \n",
    "    res_tree = {tuple(start)}  # a set\n",
    "    leaves = [start]\n",
    "        \n",
    "    while True:\n",
    "        new_leaves = set()\n",
    "        for leave in leaves:\n",
    "            nl = set([tuple(l) for l in redistribute_ones(np.array(leave))])\n",
    "            new_leaves.update(nl)\n",
    "        \n",
    "        # ensure that every leave is unique\n",
    "        # assert len(np.unique(new_leaves)) == len(new_leaves)\n",
    "        if len(new_leaves) == 0:\n",
    "            break\n",
    "        else:\n",
    "            res_tree.update(new_leaves)\n",
    "            leaves = new_leaves\n",
    "        \n",
    "    \n",
    "    return res_tree\n",
    "    "
   ]
  },
  {
   "cell_type": "code",
   "execution_count": 26,
   "metadata": {},
   "outputs": [
    {
     "name": "stdout",
     "output_type": "stream",
     "text": [
      "CPU times: user 1.58 s, sys: 3.94 ms, total: 1.58 s\n",
      "Wall time: 1.58 s\n"
     ]
    },
    {
     "data": {
      "text/plain": [
       "(297, 20)"
      ]
     },
     "execution_count": 26,
     "metadata": {},
     "output_type": "execute_result"
    }
   ],
   "source": [
    "%%time\n",
    "q = sorted_decomposition(20, 35, 18)\n",
    "q = np.array(sorted(list(q)))\n",
    "q.shape"
   ]
  },
  {
   "cell_type": "code",
   "execution_count": 27,
   "metadata": {},
   "outputs": [],
   "source": [
    "def P_n_k_of_d(n, k, d):\n",
    "    \"\"\"\n",
    "    Caculate the probability that a length k sample of n elements contains exactly d distinct elements.\n",
    "    Drawing each sample element is done with replacement.\n",
    "    \"\"\"\n",
    "    \n",
    "    if d > k:\n",
    "        # d > k is impossible -> P = 0\n",
    "        return 0\n",
    "    \n",
    "    # generate the combinations of k drawings (from a set of n) that lead to d distinct elements\n",
    "    qq = np.array(sorted(list(sorted_decomposition(n, k, d))))\n",
    "    \n",
    "    res = 0\n",
    "    \n",
    "    # calculate the probability for each combination\n",
    "    for q in qq:\n",
    "        \n",
    "        # count the number of identical nonzero frequencies\n",
    "        counter = defaultdict(lambda: 0)\n",
    "        for freq in q:\n",
    "            if freq == 0:\n",
    "                break\n",
    "            counter[freq] += 1\n",
    "                \n",
    "        aggregated_counter = 1\n",
    "        for freq, occurences in counter.items():\n",
    "            # this accounts for the number of permutaions which are allowed between identical frequencies\n",
    "            aggregated_counter *= factorial(occurences)\n",
    "        \n",
    "        p_part = multinomial(q)*factorial(n)/factorial(n-d)/n**k / aggregated_counter\n",
    "        res += p_part\n",
    "    \n",
    "    return res"
   ]
  },
  {
   "cell_type": "code",
   "execution_count": 28,
   "metadata": {},
   "outputs": [
    {
     "data": {
      "text/latex": [
       "(P_n_k_of_d(6, 6, 1)) := $\\displaystyle 0.000128600823045268$"
      ],
      "text/plain": [
       "(P_n_k_of_d(6, 6, 1)) := 0.000128600823045268"
      ]
     },
     "metadata": {},
     "output_type": "display_data"
    },
    {
     "data": {
      "text/plain": [
       "---"
      ]
     },
     "metadata": {},
     "output_type": "display_data"
    },
    {
     "data": {
      "text/plain": [
       "(1/6**5) := 0.0001286008230452675"
      ]
     },
     "metadata": {},
     "output_type": "display_data"
    },
    {
     "data": {
      "text/plain": [
       "---"
      ]
     },
     "metadata": {},
     "output_type": "display_data"
    }
   ],
   "source": [
    "# Plausibilitätsprüfungen\n",
    "\n",
    "P_n_k_of_d(6, 6, 1) ##:\n",
    "1/6**5 ##:"
   ]
  },
  {
   "cell_type": "code",
   "execution_count": 29,
   "metadata": {},
   "outputs": [],
   "source": [
    "def check_P_n_k_of_d(n, k, d):\n",
    "    \n",
    "    if d > k:\n",
    "        return True\n",
    "    \n",
    "    ac = get_all_combinations(n, k)\n",
    "    cl, cld = apply_counter(ac)\n",
    "    \n",
    "    # full empirical result: number of relevant possibilities / number of all possibiities\n",
    "    # use sympy to get arbitrary precision\n",
    "    res_emp_full = sympify(len(cld[d])) / len(ac)\n",
    "    \n",
    "    # analytical result\n",
    "    res_an = P_n_k_of_d(n, k, d)\n",
    "    \n",
    "    return res_emp_full, res_an\n"
   ]
  },
  {
   "cell_type": "code",
   "execution_count": 30,
   "metadata": {},
   "outputs": [
    {
     "name": "stdout",
     "output_type": "stream",
     "text": [
      "CPU times: user 8.02 s, sys: 561 ms, total: 8.58 s\n",
      "Wall time: 8.59 s\n"
     ]
    },
    {
     "data": {
      "text/plain": [
       "True"
      ]
     },
     "execution_count": 30,
     "metadata": {},
     "output_type": "execute_result"
    }
   ],
   "source": [
    "%%time\n",
    "for n_, k_, d_ in it.product(range(6, 9), range(3, 7), range(1, 7)):\n",
    "    \n",
    "    # print(n_, k_, d_)\n",
    "    \n",
    "    assert check_P_n_k_of_d(n_, k_, d_)\n",
    "    \n",
    "True"
   ]
  },
  {
   "cell_type": "code",
   "execution_count": 31,
   "metadata": {},
   "outputs": [],
   "source": [
    "def P_n_k_of_f(n, k, f):\n",
    "    assert 0 <= f <= 1\n",
    "    \n",
    "    # minimale ganzzahlige Anzahl um Anteils-Bedingung zu erfüllen\n",
    "    n_min = math.ceil(f*n)\n",
    "    \n",
    "    # Gesamtwahrscheinlichkeit\n",
    "    P_total = 0\n",
    "    \n",
    "    for d in range(n_min, n+1):\n",
    "        P_total += P_n_k_of_d(n, k, d)\n",
    "        \n",
    "    return P_total"
   ]
  },
  {
   "cell_type": "code",
   "execution_count": 32,
   "metadata": {},
   "outputs": [
    {
     "data": {
      "text/latex": [
       "$\\displaystyle 0.246913580246914$"
      ],
      "text/plain": [
       "0.246913580246914"
      ]
     },
     "execution_count": 32,
     "metadata": {},
     "output_type": "execute_result"
    }
   ],
   "source": [
    "P_n_k_of_f(6, 6, 0.8)"
   ]
  },
  {
   "cell_type": "code",
   "execution_count": 33,
   "metadata": {},
   "outputs": [
    {
     "data": {
      "text/latex": [
       "$\\displaystyle 0.246913580246914$"
      ],
      "text/plain": [
       "0.246913580246914"
      ]
     },
     "execution_count": 33,
     "metadata": {},
     "output_type": "execute_result"
    }
   ],
   "source": [
    "P_n_k_of_d(6, 6, 5) + P_n_k_of_d(6, 6, 6) "
   ]
  },
  {
   "cell_type": "code",
   "execution_count": null,
   "metadata": {},
   "outputs": [],
   "source": []
  },
  {
   "cell_type": "code",
   "execution_count": 34,
   "metadata": {},
   "outputs": [
    {
     "name": "stdout",
     "output_type": "stream",
     "text": [
      "CPU times: user 2.84 s, sys: 8.05 ms, total: 2.85 s\n",
      "Wall time: 2.86 s\n"
     ]
    },
    {
     "data": {
      "text/latex": [
       "$\\displaystyle 0.661904782205328$"
      ],
      "text/plain": [
       "0.661904782205328"
      ]
     },
     "execution_count": 34,
     "metadata": {},
     "output_type": "execute_result"
    }
   ],
   "source": [
    "%%time\n",
    "# ohne jit: 5 s\n",
    "P_n_k_of_f(25, 40, 0.8)"
   ]
  },
  {
   "cell_type": "code",
   "execution_count": 35,
   "metadata": {},
   "outputs": [],
   "source": [
    "# import cProfile\n",
    "# cProfile.run(\"P_n_k_of_f(25, 40, 0.8)\")\n",
    "# -> redistribute_ones was the major bottleneck -> numba.jit"
   ]
  },
  {
   "cell_type": "code",
   "execution_count": 36,
   "metadata": {},
   "outputs": [
    {
     "name": "stdout",
     "output_type": "stream",
     "text": [
      "CPU times: user 2.03 s, sys: 0 ns, total: 2.03 s\n",
      "Wall time: 2.04 s\n"
     ]
    },
    {
     "data": {
      "text/latex": [
       "$\\displaystyle 0.999999999919175$"
      ],
      "text/plain": [
       "0.999999999919175"
      ]
     },
     "execution_count": 36,
     "metadata": {},
     "output_type": "execute_result"
    }
   ],
   "source": [
    "%%time\n",
    "P_n_k_of_f(5, 50, 0.8)"
   ]
  },
  {
   "cell_type": "code",
   "execution_count": 37,
   "metadata": {},
   "outputs": [],
   "source": [
    "def generate_empirical_data(n, N_se, N_l, f):\n",
    "    \"\"\"\n",
    "    :param n:     Number of distinct elements \n",
    "    :param N_se:  N_sample_experiments (-> rows)\n",
    "    :param N_l:   N_sample_length (≙ k) (-> cols)\n",
    "    :param f:     minimum fraction of n which must occur in the sample\n",
    "    \n",
    "    :returns:     raw_data_matrix, normalized_unique_element_counters, P_of_f_of_k\n",
    "    \"\"\"\n",
    "    \n",
    "    S = np.random.randint(1, n+1, size=(N_se, N_l))\n",
    "    uec = unique_element_counter = S*0\n",
    "\n",
    "    for i, sample in enumerate(S):\n",
    "        for j, s in enumerate(sample):\n",
    "            uec[i, j] = len(set(sample[:j+1]))\n",
    "            \n",
    "    # shift uec one column to the right such that the column index\n",
    "    # corresponds to k (number of drawings)\n",
    "    uec2 = S*0\n",
    "    uec2[:, 1:] = uec[:, :-1] \n",
    "            \n",
    "    P_f_of_k = np.sum(uec2[:, :]/n >= f, axis=0)/N_se\n",
    "    return S, uec2/n, P_f_of_k"
   ]
  },
  {
   "cell_type": "code",
   "execution_count": 38,
   "metadata": {},
   "outputs": [
    {
     "data": {
      "text/plain": [
       "[<matplotlib.lines.Line2D at 0x7f2e70b1dd30>]"
      ]
     },
     "execution_count": 38,
     "metadata": {},
     "output_type": "execute_result"
    },
    {
     "data": {
      "image/png": "[encoded data removed]",
      "text/plain": [
       "<Figure size 432x288 with 1 Axes>"
      ]
     },
     "metadata": {
      "needs_background": "light"
     },
     "output_type": "display_data"
    }
   ],
   "source": [
    "S, uec, PP = generate_empirical_data(20, 1000, 80, 0.8)\n",
    "plt.plot(uec.T, color=\"b\", lw=10, alpha=0.005)\n",
    "plt.plot(PP, color=\"orange\")"
   ]
  },
  {
   "cell_type": "code",
   "execution_count": 39,
   "metadata": {},
   "outputs": [],
   "source": [
    "def P_n_f_of_kk(n, kk, f):\n",
    "    \n",
    "    PP = np.array([P_n_k_of_f(n, k, f) for k in kk])\n",
    "    return PP\n",
    "        \n",
    "    \n",
    "    "
   ]
  },
  {
   "cell_type": "code",
   "execution_count": 40,
   "metadata": {},
   "outputs": [
    {
     "data": {
      "text/plain": [
       "kk := array([ 3.,  4.,  6.,  8., 10., 14., 19., 25., 34., 45.])"
      ]
     },
     "metadata": {},
     "output_type": "display_data"
    },
    {
     "data": {
      "text/plain": [
       "---"
      ]
     },
     "metadata": {},
     "output_type": "display_data"
    }
   ],
   "source": [
    "kk = np.round(np.logspace(0.5, np.log10(45), 10)) ##:"
   ]
  },
  {
   "cell_type": "code",
   "execution_count": 41,
   "metadata": {},
   "outputs": [
    {
     "name": "stdout",
     "output_type": "stream",
     "text": [
      "CPU times: user 30.1 s, sys: 19.1 ms, total: 30.1 s\n",
      "Wall time: 30.2 s\n"
     ]
    }
   ],
   "source": [
    "%%time\n",
    "PP_an = P_n_f_of_kk(20, kk, 0.8)"
   ]
  },
  {
   "cell_type": "code",
   "execution_count": 42,
   "metadata": {},
   "outputs": [
    {
     "data": {
      "text/plain": [
       "(-3.95, 82.95, -0.05, 1.05)"
      ]
     },
     "execution_count": 42,
     "metadata": {},
     "output_type": "execute_result"
    },
    {
     "data": {
      "image/png": "[encoded data removed]",
      "text/plain": [
       "<Figure size 720x360 with 1 Axes>"
      ]
     },
     "metadata": {
      "needs_background": "light"
     },
     "output_type": "display_data"
    }
   ],
   "source": [
    "plt.figure(figsize=(10, 5))\n",
    "plt.plot(uec.T, color=\"b\", lw=10, alpha=0.002)\n",
    "\n",
    "plt.plot(PP, color=\"orange\", label='empir. Wahrscheinlichkeit für \"80% gesehen\"')\n",
    "plt.plot(kk, PP_an, \"o\", color=\"magenta\", label='analyt. Wahrscheinlichkeit für \"80% gesehen\"')\n",
    "axis = plt.axis()\n",
    "plt.xlabel(\"$k$ (Ziehungen)\")\n",
    "\n",
    "# Legende komplettieren\n",
    "plt.plot([-10, -20], \"b-\", label=\"Anteil an allen Elementen\")\n",
    "\n",
    "plt.legend()\n",
    "plt.axis(axis)"
   ]
  },
  {
   "cell_type": "code",
   "execution_count": 43,
   "metadata": {},
   "outputs": [
    {
     "name": "stdout",
     "output_type": "stream",
     "text": [
      "CPU times: user 1.13 s, sys: 0 ns, total: 1.13 s\n",
      "Wall time: 1.13 s\n"
     ]
    },
    {
     "data": {
      "text/latex": [
       "$\\displaystyle 0.81473600996758$"
      ],
      "text/plain": [
       "0.814736009967580"
      ]
     },
     "execution_count": 43,
     "metadata": {},
     "output_type": "execute_result"
    }
   ],
   "source": [
    "%%time\n",
    "P_n_k_of_f(20, 35, 0.8)"
   ]
  },
  {
   "cell_type": "markdown",
   "metadata": {},
   "source": [
    "**Fazit:** Numerisch-Empirische und analytische Ergebnisse stimmen ganz gut überein. Analytische Ergebnisse sind aber für größere Zahlen ziemlich aufwendig zu berechnen, weil die Formeln aus sehr vielen Termen bestehen (kombinatorische Explosion) und die entsprechenden Koeffizienten erst konstruiert werden müssen."
   ]
  }
 ],
 "metadata": {
  "kernelspec": {
   "display_name": "Python 3",
   "language": "python",
   "name": "python3"
  },
  "language_info": {
   "codemirror_mode": {
    "name": "ipython",
    "version": 3
   },
   "file_extension": ".py",
   "mimetype": "text/x-python",
   "name": "python",
   "nbconvert_exporter": "python",
   "pygments_lexer": "ipython3",
   "version": "3.8.6"
  }
 },
 "nbformat": 4,
 "nbformat_minor": 4
}
