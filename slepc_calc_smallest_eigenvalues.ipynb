{
 "cells": [
  {
   "cell_type": "markdown",
   "metadata": {},
   "source": [
    "#### General information\n",
    "\n",
    "http://slepc.upv.es/slepc4py-current/docs/usrman/install.html#using-pip-or-easy-install\n",
    "\n",
    "\n",
    "http://slepc.upv.es/handson/handson1.html\n",
    "\n",
    "\n",
    "\n",
    "**How to calculate the smallest eigenvalues (instead of the biggest)**:\n",
    "\n",
    "http://slepc.upv.es/documentation/current/docs/manualpages/EPS/EPSSetWhichEigenpairs.html#EPSSetWhichEigenpairs\n",
    "\n",
    "`opts.setValue(\"eps_smallest_magnitude\", 1)`\n",
    "\n",
    "    \n",
    "    "
   ]
  },
  {
   "cell_type": "code",
   "execution_count": 15,
   "metadata": {},
   "outputs": [],
   "source": [
    "import sys, slepc4py\n",
    "slepc4py.init(sys.argv)\n",
    "\n",
    "# Next, we have to import the relevant modules. Normally, both PETSc and SLEPc modules have to be imported in all slepc4py programs. It may be useful to import NumPy as well:\n",
    "\n",
    "from petsc4py import PETSc\n",
    "from slepc4py import SLEPc\n",
    "import numpy\n",
    "np.set_printoptions(linewidth=270, precision=4)\n",
    "\n",
    "# At this point, we can use any petsc4py and slepc4py operations. For instance, the following lines allow the user to specify an integer command-line argument n with a default value of 30 (see the next section for example usage of command-line options):\n",
    "\n",
    "opts = PETSc.Options()\n",
    "n = opts.getInt('n', 3000)\n",
    "opts.setValue(\"eps_max_it\", 100000)\n",
    "opts.setValue(\"eps_smallest_magnitude\", 1)\n",
    "\n",
    "\n",
    "opts.setValue(\"eps_nev\", 10)\n",
    "\n",
    "\n",
    "# It is necessary to build a matrix to define an eigenproblem (or two in the case of generalized eigenproblems). The following fragment of code creates the matrix object and then fills the non-zero elements one by one. The matrix of this particular example is tridiagonal, with value 2 in the diagonal, and -1 in off-diagonal positions. See petsc4py documentation for details about matrix objects:\n",
    "\n",
    "A = PETSc.Mat().create()\n",
    "A.setSizes([n, n])\n",
    "A.setFromOptions()\n",
    "A.setUp()\n",
    "\n",
    "rstart, rend = A.getOwnershipRange()\n",
    "\n",
    "# first row\n",
    "if rstart == 0:\n",
    "    A[0, :2] = [2, -1]\n",
    "    rstart += 1\n",
    "# last row\n",
    "if rend == n:\n",
    "    A[n-1, -2:] = [-1, 2]\n",
    "    rend -= 1\n",
    "# other rows\n",
    "for i in range(rstart, rend):\n",
    "    A[i, i-1:i+2] = [-1, 2, -1]\n",
    "\n",
    "A.assemble()\n",
    "\n",
    "# The solver object is created in a similar way as other objects in petsc4py:\n",
    "\n",
    "E = SLEPc.EPS(); E.create()\n",
    "\n",
    "# Once the object is created, the eigenvalue problem must be specified. At least one matrix must be provided. The problem type must be indicated as well, in this case it is HEP (Hermitian eigenvalue problem). Apart from these, other settings could be provided here (for instance, the tolerance for the computation). After all options have been set, the user should call the setFromOptions() operation, so that any options specified at run time in the command line are passed to the solver object:\n",
    "\n",
    "E.setOperators(A)\n",
    "E.setProblemType(SLEPc.EPS.ProblemType.HEP)\n",
    "E.setFromOptions()\n",
    "\n",
    "# After that, the solve() method will run the selected eigensolver, keeping the solution stored internally:\n",
    "\n",
    "\n",
    "\n",
    "\n"
   ]
  },
  {
   "cell_type": "code",
   "execution_count": 2,
   "metadata": {},
   "outputs": [
    {
     "name": "stdout",
     "output_type": "stream",
     "text": [
      "CPU times: user 3.81 s, sys: 2.7 s, total: 6.51 s\n",
      "Wall time: 1.73 s\n"
     ]
    }
   ],
   "source": [
    "%time E.solve()"
   ]
  },
  {
   "cell_type": "code",
   "execution_count": 3,
   "metadata": {},
   "outputs": [
    {
     "name": "stdout",
     "output_type": "stream",
     "text": [
      "\n",
      "******************************\n",
      "*** SLEPc Solution Results ***\n",
      "******************************\n",
      "\n",
      "Number of iterations of the method: 2206\n",
      "Solution method: krylovschur\n",
      "Number of requested eigenvalues: 10\n",
      "Stopping condition: tol=1e-08, maxit=100000\n"
     ]
    }
   ],
   "source": [
    "# Print = PETSc.Sys.Print\n",
    "Print = print\n",
    "\n",
    "Print()\n",
    "Print(\"******************************\")\n",
    "Print(\"*** SLEPc Solution Results ***\")\n",
    "Print(\"******************************\")\n",
    "Print()\n",
    "\n",
    "its = E.getIterationNumber()\n",
    "Print(\"Number of iterations of the method: %d\" % its)\n",
    "\n",
    "eps_type = E.getType()\n",
    "Print(\"Solution method: %s\" % eps_type)\n",
    "\n",
    "nev, ncv, mpd = E.getDimensions()\n",
    "Print(\"Number of requested eigenvalues: %d\" % nev)\n",
    "\n",
    "tol, maxit = E.getTolerances()\n",
    "Print(\"Stopping condition: tol=%.4g, maxit=%d\" % (tol, maxit))"
   ]
  },
  {
   "cell_type": "code",
   "execution_count": 12,
   "metadata": {},
   "outputs": [
    {
     "name": "stdout",
     "output_type": "stream",
     "text": [
      "Number of converged eigenpairs 11\n",
      "\n",
      "        k          ||Ax-kx||/||kx|| \n",
      "----------------- ------------------\n",
      "     0.000001       2.44656e-08\n",
      "     0.000004       7.39994e-09\n",
      "     0.000010       2.55254e-09\n",
      "     0.000018       4.22676e-09\n",
      "     0.000027         1.597e-09\n",
      "     0.000039       3.96912e-09\n",
      "     0.000054       1.32783e-09\n",
      "     0.000070       1.59263e-09\n",
      "     0.000089       1.45552e-09\n",
      "     0.000110        4.0202e-09\n",
      "     0.000133       6.58014e-09\n",
      "\n"
     ]
    }
   ],
   "source": [
    "nconv = E.getConverged()\n",
    "Print(\"Number of converged eigenpairs %d\" % nconv)\n",
    "kk = []\n",
    "if nconv > 0:\n",
    "    # Create the results vectors\n",
    "    vr, wr = A.getVecs()\n",
    "    vi, wi = A.getVecs()\n",
    "    #\n",
    "    Print()\n",
    "    Print(\"        k          ||Ax-kx||/||kx|| \")\n",
    "    Print(\"----------------- ------------------\")\n",
    "    for i in range(nconv):\n",
    "        k = E.getEigenpair(i, vr, vi)\n",
    "        kk.append(k)\n",
    "        error = E.computeError(i)\n",
    "        if k.imag != 0.0:\n",
    "            Print(\" %9f%+9f j %12g\" % (k.real, k.imag, error))\n",
    "        else:\n",
    "            Print(\" %12f      %12g\" % (k.real, error))\n",
    "    \n",
    "    kk = np.array(kk)\n",
    "    Print()"
   ]
  },
  {
   "cell_type": "code",
   "execution_count": 5,
   "metadata": {},
   "outputs": [],
   "source": [
    "import numpy as np\n",
    "import scipy as sc\n",
    "import scipy.sparse\n",
    "import scipy.sparse.linalg"
   ]
  },
  {
   "cell_type": "code",
   "execution_count": 6,
   "metadata": {},
   "outputs": [],
   "source": [
    "# convert to numpy array\n",
    "Anp = A[:,:]"
   ]
  },
  {
   "cell_type": "code",
   "execution_count": 7,
   "metadata": {},
   "outputs": [
    {
     "name": "stdout",
     "output_type": "stream",
     "text": [
      "CPU times: user 51.9 s, sys: 20 s, total: 1min 11s\n",
      "Wall time: 20 s\n"
     ]
    }
   ],
   "source": [
    "%time r0 = np.linalg.eigvals(Anp)"
   ]
  },
  {
   "cell_type": "code",
   "execution_count": 8,
   "metadata": {},
   "outputs": [
    {
     "data": {
      "text/plain": [
       "[<matplotlib.lines.Line2D at 0x7f6d3e8bfac8>]"
      ]
     },
     "execution_count": 8,
     "metadata": {},
     "output_type": "execute_result"
    },
    {
     "data": {
      "image/png": "[encoded data removed]",
      "text/plain": [
       "<matplotlib.figure.Figure at 0x7f6d96d32828>"
      ]
     },
     "metadata": {},
     "output_type": "display_data"
    }
   ],
   "source": [
    "import matplotlib.pyplot as plt\n",
    "%matplotlib inline\n",
    "plt.plot(r0)"
   ]
  },
  {
   "cell_type": "code",
   "execution_count": 9,
   "metadata": {},
   "outputs": [],
   "source": [
    "A_csc = sc.sparse.csc_matrix(Anp)\n",
    "\n",
    "A_csr = sc.sparse.csr_matrix(Anp)"
   ]
  },
  {
   "cell_type": "code",
   "execution_count": 10,
   "metadata": {},
   "outputs": [
    {
     "name": "stdout",
     "output_type": "stream",
     "text": [
      "CPU times: user 26.4 s, sys: 29.5 s, total: 56 s\n",
      "Wall time: 16.2 s\n",
      "CPU times: user 22.7 s, sys: 22.7 s, total: 45.4 s\n",
      "Wall time: 12.3 s\n",
      "(array([1.09589189e-06+0.j, 4.38356638e-06+0.j, 9.86301985e-06+0.j,\n",
      "       1.75342463e-05+0.j, 2.73972373e-05+0.j, 3.94519821e-05+0.j]), array([[ 2.70250059e-05+0.j,  5.40499823e-05+0.j, -8.10748994e-05+0.j,\n",
      "        -1.08099728e-04+0.j, -1.35124437e-04+0.j,  1.62148999e-04+0.j],\n",
      "       [ 5.40499823e-05+0.j,  1.08099728e-04+0.j, -1.62148999e-04+0.j,\n",
      "        -2.16197560e-04+0.j, -2.70245173e-04+0.j,  3.24291601e-04+0.j],\n",
      "       [ 8.10748994e-05+0.j,  1.62148999e-04+0.j, -2.43221499e-04+0.j,\n",
      "        -3.24291601e-04+0.j, -4.05358504e-04+0.j,  4.86421409e-04+0.j],\n",
      "       ...,\n",
      "       [ 8.10748994e-05+0.j, -1.62148999e-04+0.j, -2.43221499e-04+0.j,\n",
      "         3.24291601e-04+0.j, -4.05358504e-04+0.j, -4.86421409e-04+0.j],\n",
      "       [ 5.40499823e-05+0.j, -1.08099728e-04+0.j, -1.62148999e-04+0.j,\n",
      "         2.16197560e-04+0.j, -2.70245173e-04+0.j, -3.24291601e-04+0.j],\n",
      "       [ 2.70250059e-05+0.j, -5.40499823e-05+0.j, -8.10748994e-05+0.j,\n",
      "         1.08099728e-04+0.j, -1.35124437e-04+0.j, -1.62148999e-04+0.j]]))\n",
      "(array([1.09589189e-06+0.j, 4.38356638e-06+0.j, 9.86301985e-06+0.j,\n",
      "       1.75342463e-05+0.j, 2.73972373e-05+0.j, 3.94519821e-05+0.j]), array([[-2.70250059e-05+0.j, -5.40499823e-05+0.j, -8.10748994e-05+0.j,\n",
      "        -1.08099728e-04+0.j, -1.35124437e-04+0.j,  1.62148999e-04+0.j],\n",
      "       [-5.40499823e-05+0.j, -1.08099728e-04+0.j, -1.62148999e-04+0.j,\n",
      "        -2.16197560e-04+0.j, -2.70245173e-04+0.j,  3.24291601e-04+0.j],\n",
      "       [-8.10748993e-05+0.j, -1.62148999e-04+0.j, -2.43221499e-04+0.j,\n",
      "        -3.24291601e-04+0.j, -4.05358504e-04+0.j,  4.86421409e-04+0.j],\n",
      "       ...,\n",
      "       [-8.10748994e-05+0.j,  1.62148999e-04+0.j, -2.43221499e-04+0.j,\n",
      "         3.24291601e-04+0.j, -4.05358504e-04+0.j, -4.86421409e-04+0.j],\n",
      "       [-5.40499823e-05+0.j,  1.08099728e-04+0.j, -1.62148999e-04+0.j,\n",
      "         2.16197560e-04+0.j, -2.70245173e-04+0.j, -3.24291601e-04+0.j],\n",
      "       [-2.70250059e-05+0.j,  5.40499823e-05+0.j, -8.10748994e-05+0.j,\n",
      "         1.08099728e-04+0.j, -1.35124437e-04+0.j, -1.62148999e-04+0.j]]))\n"
     ]
    }
   ],
   "source": [
    "# https://docs.scipy.org/doc/scipy/reference/generated/scipy.sparse.linalg.eigs.html\n",
    "# which=\"SM\" -> smalles magnitude\n",
    "\n",
    "# only the 6 smallest Eigenvalues are calculated\n",
    "\n",
    "%time r1 = sc.sparse.linalg.eigs(A_csc, which=\"SM\")\n",
    "%time r2 = sc.sparse.linalg.eigs(A_csr, which=\"SM\")\n",
    "\n",
    "print(r1)\n",
    "print(r2)"
   ]
  },
  {
   "cell_type": "code",
   "execution_count": 16,
   "metadata": {},
   "outputs": [
    {
     "name": "stdout",
     "output_type": "stream",
     "text": [
      "[-1.3004e-16+0.j -4.7375e-17+0.j -6.8432e-17+0.j -2.0634e-17+0.j -4.9589e-17+0.j  2.4645e-17+0.j]\n",
      "[-2.2420e-16+0.j -9.2711e-17+0.j -9.9823e-17+0.j -5.7771e-17+0.j -8.0817e-17+0.j -1.1676e-17+0.j]\n"
     ]
    }
   ],
   "source": [
    "# verify that the results are equivalent\n",
    "\n",
    "print(kk[:6] - r1[0])\n",
    "print(kk[:6] - r2[0])"
   ]
  },
  {
   "cell_type": "markdown",
   "metadata": {},
   "source": [
    "**Conclusion:** `selpc` is faster approx. by factor 30 than `sc.sparse.linalg` and even more compared to `np.linalg`."
   ]
  }
 ],
 "metadata": {
  "kernelspec": {
   "display_name": "Python 3",
   "language": "python",
   "name": "python3"
  },
  "language_info": {
   "codemirror_mode": {
    "name": "ipython",
    "version": 3
   },
   "file_extension": ".py",
   "mimetype": "text/x-python",
   "name": "python",
   "nbconvert_exporter": "python",
   "pygments_lexer": "ipython3",
   "version": "3.6.3"
  }
 },
 "nbformat": 4,
 "nbformat_minor": 2
}
