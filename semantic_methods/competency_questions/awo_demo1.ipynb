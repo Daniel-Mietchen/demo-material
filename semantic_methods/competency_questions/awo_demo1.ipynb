{
 "cells": [
  {
   "cell_type": "markdown",
   "metadata": {},
   "source": [
    "This notebook visualizes some of the content of the dataset\n",
    "\n",
    "[Potoniec, Jedrzej; Wiśniewski, Dawid ; Ławrynowicz, Agnieszka; Keet, Maria (2019), “Ontology Competency Questions to SPARQL-OWL Queries Translations”, Mendeley Data, V1, doi: 10.17632/pp6hmfxgfg.1](https://data.mendeley.com/datasets/pp6hmfxgfg/1)\n",
    "\n",
    "\n",
    "The dataset is licenced under **CC BY NC 3.0** and consists of 10 ontologies and 131 SPARQL-queries which are formalizations of competency questions. \n",
    "\n",
    "There is also a interesting [blog post](https://keet.wordpress.com/2020/01/09/a-set-of-competency-questions-and-sparql-owl-queries-with-analysis/) by M. Keet and a written publication:\n",
    "\n",
    "[*Potoniec, J., Wisniewski, D., Lawrynowicz, A., Keet, C.M.: **Dataset of Ontology Competency Questions to SPARQL-OWL Queries Translations.** Data in Brief, 2020*](https://doi.org/10.1016/j.dib.2019.105098).\n",
    "\n",
    "\n",
    "\n",
    "This notebook uses [Owlready2]() to interact with the ontologies, see also:\n",
    "\n",
    "[*Lamy, JB: Owlready: **Ontology-oriented programming in Python with automatic classification and high level constructs for biomedical ontologies**. Artificial Intelligence In Medicine 2017;80:11-28*](http://www.lesfleursdunormal.fr/_downloads/article_owlready_aim_2017.pdf)\n",
    "\n",
    "[*Lamy, JB: **Ontologies with Python**, Apress, 2020*](https://www.apress.com/fr/book/9781484265512)\n"
   ]
  },
  {
   "cell_type": "code",
   "execution_count": 1,
   "metadata": {},
   "outputs": [],
   "source": [
    "# enable magic comments for more understandible output (this can be savely removed)\n",
    "%load_ext ipydex.displaytools\n",
    "\n",
    "\n",
    "x = 3 ##:"
   ]
  },
  {
   "cell_type": "code",
   "execution_count": 2,
   "metadata": {},
   "outputs": [],
   "source": [
    "import owlready2 as owl2"
   ]
  },
  {
   "cell_type": "markdown",
   "metadata": {},
   "source": [
    "## Ontology 1: African Wildlife Ontology"
   ]
  },
  {
   "cell_type": "code",
   "execution_count": 3,
   "metadata": {},
   "outputs": [],
   "source": [
    "fpath = \"Ontologies/AfricanWildlifeOntology1.owl\"\n",
    "onto = owl2.get_ontology(fpath).load()\n",
    "g = owl2.default_world.as_rdflib_graph()"
   ]
  },
  {
   "cell_type": "code",
   "execution_count": 4,
   "metadata": {},
   "outputs": [
    {
     "data": {
      "text/plain": [
       "[[AfricanWildlifeOntology1.Impala, AfricanWildlifeOntology1.lion]]"
      ]
     },
     "execution_count": 4,
     "metadata": {},
     "output_type": "execute_result"
    }
   ],
   "source": [
    "rq = \"\"\"\n",
    "# awo_1.rq\n",
    "# Which animal eats which other animal?\n",
    "\n",
    "prefix rdfs: <http://www.w3.org/2000/01/rdf-schema#>\n",
    "prefix owl: <http://www.w3.org/2002/07/owl#>\n",
    "prefix : <http://www.meteck.org/teaching/ontologies/AfricanWildlifeOntology1.owl#>\n",
    "\n",
    "select distinct *\n",
    "where\n",
    "{\n",
    "    ?eats rdfs:subClassOf :animal, [\n",
    "        a owl:Restriction ;\n",
    "        owl:onProperty :eats;\n",
    "        owl:someValuesFrom ?eaten\n",
    "    ] .\n",
    "    ?eaten rdfs:subClassOf :animal .\n",
    "    filter(?eats != owl:Nothing)\n",
    "}\n",
    "\"\"\"\n",
    "list(g.query_owlready(rq))"
   ]
  },
  {
   "cell_type": "markdown",
   "metadata": {},
   "source": [
    "Note: Question 2 uses a variable `$PPx1$` in the source. This is not directly suported by pythons rdflib. Therefore we generate a list of all animals before and then run question 2 for each of these."
   ]
  },
  {
   "cell_type": "code",
   "execution_count": 5,
   "metadata": {},
   "outputs": [
    {
     "data": {
      "text/plain": [
       "nested_list := [[AfricanWildlifeOntology1.herbivore],\n",
       " [AfricanWildlifeOntology1.Impala],\n",
       " [AfricanWildlifeOntology1.Omnivore],\n",
       " [AfricanWildlifeOntology1.carnivore],\n",
       " [AfricanWildlifeOntology1.RockDassie],\n",
       " [AfricanWildlifeOntology1.Warthog],\n",
       " [AfricanWildlifeOntology1.giraffe],\n",
       " [AfricanWildlifeOntology1.lion]]"
      ]
     },
     "metadata": {},
     "output_type": "display_data"
    },
    {
     "data": {
      "text/plain": [
       "---"
      ]
     },
     "metadata": {},
     "output_type": "display_data"
    },
    {
     "data": {
      "text/plain": [
       "animal_list := ['herbivore',\n",
       " 'Impala',\n",
       " 'Omnivore',\n",
       " 'carnivore',\n",
       " 'RockDassie',\n",
       " 'Warthog',\n",
       " 'giraffe',\n",
       " 'lion']"
      ]
     },
     "metadata": {},
     "output_type": "display_data"
    },
    {
     "data": {
      "text/plain": [
       "---"
      ]
     },
     "metadata": {},
     "output_type": "display_data"
    }
   ],
   "source": [
    "rq = \"\"\"\n",
    "# preparation for awo_2.rq\n",
    "# Is [this animal] a herbivore?\n",
    "\n",
    "\n",
    "prefix rdfs: <http://www.w3.org/2000/01/rdf-schema#>\n",
    "prefix owl: <http://www.w3.org/2002/07/owl#>\n",
    "prefix : <http://www.meteck.org/teaching/ontologies/AfricanWildlifeOntology1.owl#>\n",
    "\n",
    "select distinct ?X\n",
    "where\n",
    "{\n",
    "    ?X rdfs:subClassOf :animal .\n",
    "}\n",
    "\"\"\"\n",
    "\n",
    "nested_list = list(g.query_owlready(rq)) ##:\n",
    "animal_list = [e[0].name for  e in nested_list] ##:"
   ]
  },
  {
   "cell_type": "code",
   "execution_count": 8,
   "metadata": {},
   "outputs": [
    {
     "name": "stdout",
     "output_type": "stream",
     "text": [
      "herbivore: [False]\n",
      "Impala: [False]\n",
      "Omnivore: [False]\n",
      "carnivore: [False]\n",
      "RockDassie: [False]\n",
      "Warthog: [False]\n",
      "giraffe: [False]\n",
      "lion: [False]\n"
     ]
    }
   ],
   "source": [
    "rq = \"\"\"\n",
    "# awo_2.rq\n",
    "# Is [this animal] a herbivore?\n",
    "\n",
    "\n",
    "prefix rdfs: <http://www.w3.org/2000/01/rdf-schema#>\n",
    "prefix owl: <http://www.w3.org/2002/07/owl#>\n",
    "prefix : <http://www.meteck.org/teaching/ontologies/AfricanWildlifeOntology1.owl#>\n",
    "\n",
    "ask where\n",
    "{\n",
    "$PPx1$ rdfs:subClassOf :animal, :herbivore .\n",
    "}\n",
    "\n",
    "\"\"\"\n",
    "\n",
    "for animal in animal_list:\n",
    "    res = list(g.query_owlready(rq.replace(\"$PPx1$\", f\":{animal}\")))\n",
    "    print(f\"{animal}: {res}\")\n",
    "\n"
   ]
  },
  {
   "cell_type": "markdown",
   "metadata": {},
   "source": [
    "The results looks strange: `giraffe` should be recognized as subclass of `herbivore`. (Note that the ontology does not contain any information on the eating disposition of `Impala`).\n",
    "\n",
    "Solution: running the reasoner:"
   ]
  },
  {
   "cell_type": "code",
   "execution_count": 9,
   "metadata": {},
   "outputs": [
    {
     "name": "stdout",
     "output_type": "stream",
     "text": [
      "CPU times: user 8.84 ms, sys: 3.82 ms, total: 12.7 ms\n",
      "Wall time: 1.98 s\n"
     ]
    }
   ],
   "source": [
    "%time owl2.sync_reasoner(debug=0)"
   ]
  },
  {
   "cell_type": "code",
   "execution_count": 10,
   "metadata": {},
   "outputs": [
    {
     "name": "stdout",
     "output_type": "stream",
     "text": [
      "herbivore: [False]\n",
      "Impala: [False]\n",
      "Omnivore: [False]\n",
      "carnivore: [False]\n",
      "RockDassie: [False]\n",
      "Warthog: [False]\n",
      "giraffe: [True]\n",
      "lion: [False]\n"
     ]
    }
   ],
   "source": [
    "for animal in animal_list:\n",
    "    res = list(g.query_owlready(rq.replace(\"$PPx1$\", f\":{animal}\")))\n",
    "    print(f\"{animal}: {res}\")"
   ]
  },
  {
   "cell_type": "markdown",
   "metadata": {},
   "source": [
    "Note: The numbering of the files in the dataset is not consecutive. In particular, the following files are present:\n",
    "\n",
    "```\n",
    "awo_1.rq\n",
    "awo_2.rq\n",
    "awo_4.rq\n",
    "awo_6.rq\n",
    "awo_7.rq\n",
    "awo_8.rq\n",
    "awo_14.rq\n",
    "```"
   ]
  },
  {
   "cell_type": "code",
   "execution_count": 11,
   "metadata": {},
   "outputs": [
    {
     "data": {
      "text/plain": [
       "[False]"
      ]
     },
     "execution_count": 11,
     "metadata": {},
     "output_type": "execute_result"
    }
   ],
   "source": [
    "rq = \"\"\"\n",
    "# awo_4.rq\n",
    "# Does a lion eat plants or plant parts?\n",
    "\n",
    "\n",
    "prefix rdfs: <http://www.w3.org/2000/01/rdf-schema#>\n",
    "prefix owl: <http://www.w3.org/2002/07/owl#>\n",
    "prefix : <http://www.meteck.org/teaching/ontologies/AfricanWildlifeOntology1.owl#>\n",
    "\n",
    "ask\n",
    "where\n",
    "{\n",
    "    :lion rdfs:subClassOf [\n",
    "        a owl:Restriction ;\n",
    "        owl:onProperty :eats ;\n",
    "        owl:someValuesFrom [\n",
    "            owl:unionOf (:plant :PlantParts)\n",
    "        ]\n",
    "    ] .\n",
    "}\n",
    "\"\"\"\n",
    "\n",
    "list(g.query_owlready(rq))"
   ]
  },
  {
   "cell_type": "code",
   "execution_count": 12,
   "metadata": {},
   "outputs": [
    {
     "data": {
      "text/plain": [
       "[[AfricanWildlifeOntology1.CarnivorousPlant]]"
      ]
     },
     "execution_count": 12,
     "metadata": {},
     "output_type": "execute_result"
    }
   ],
   "source": [
    "rq = \"\"\"\n",
    "# awo_6.rq\n",
    "# Which plants eat animals?\n",
    "\n",
    "prefix rdfs: <http://www.w3.org/2000/01/rdf-schema#>\n",
    "prefix owl: <http://www.w3.org/2002/07/owl#>\n",
    "prefix : <http://www.meteck.org/teaching/ontologies/AfricanWildlifeOntology1.owl#>\n",
    "\n",
    "select distinct ?eats\n",
    "where\n",
    "{\n",
    "    ?eats rdfs:subClassOf :plant, [\n",
    "            a owl:Restriction ;\n",
    "            owl:onProperty :eats;\n",
    "            owl:someValuesFrom :animal\n",
    "        ] .\n",
    "    filter(?eats != owl:Nothing)\n",
    "}\n",
    "\"\"\"\n",
    "list(g.query_owlready(rq))"
   ]
  },
  {
   "cell_type": "markdown",
   "metadata": {},
   "source": [
    "Note: awo_t.rq again contains a variable (`$PPx1$`). We use the same approach as for awo_2.rq"
   ]
  },
  {
   "cell_type": "code",
   "execution_count": 13,
   "metadata": {},
   "outputs": [
    {
     "name": "stdout",
     "output_type": "stream",
     "text": [
      "herbivore: []\n",
      "Impala: [[AfricanWildlifeOntology1.lion]]\n",
      "Omnivore: []\n",
      "carnivore: []\n",
      "RockDassie: []\n",
      "Warthog: []\n",
      "giraffe: []\n",
      "lion: []\n"
     ]
    }
   ],
   "source": [
    "rq = \"\"\"\n",
    "# awo_7.rq\n",
    "# Which animals eat [these animals]?\n",
    "\n",
    "\n",
    "prefix rdfs: <http://www.w3.org/2000/01/rdf-schema#>\n",
    "prefix owl: <http://www.w3.org/2002/07/owl#>\n",
    "prefix : <http://www.meteck.org/teaching/ontologies/AfricanWildlifeOntology1.owl#>\n",
    "\n",
    "select distinct *\n",
    "where\n",
    "{\n",
    "    ?eats rdfs:subClassOf :animal, [\n",
    "        a owl:Restriction ;\n",
    "        owl:onProperty :eats;\n",
    "        owl:someValuesFrom $PPx1$\n",
    "    ] .\n",
    "    $PPx1$ rdfs:subClassOf :animal .\n",
    "    filter(?eats != owl:Nothing)\n",
    "}\n",
    "\"\"\"\n",
    "\n",
    "for animal in animal_list:\n",
    "    res = list(g.query_owlready(rq.replace(\"$PPx1$\", f\":{animal}\")))\n",
    "    print(f\"{animal}: {res}\")"
   ]
  },
  {
   "cell_type": "code",
   "execution_count": 14,
   "metadata": {},
   "outputs": [
    {
     "name": "stdout",
     "output_type": "stream",
     "text": [
      "herbivore: []\n",
      "Impala: [[AfricanWildlifeOntology1.lion]]\n",
      "Omnivore: []\n",
      "carnivore: []\n",
      "RockDassie: []\n",
      "Warthog: []\n",
      "giraffe: []\n",
      "lion: []\n"
     ]
    }
   ],
   "source": [
    "rq = \"\"\"\n",
    "# awo_8.rq\n",
    "# Which animals are the predators of [these animals]?\n",
    "\n",
    "\n",
    "prefix rdfs: <http://www.w3.org/2000/01/rdf-schema#>\n",
    "prefix owl: <http://www.w3.org/2002/07/owl#>\n",
    "prefix : <http://www.meteck.org/teaching/ontologies/AfricanWildlifeOntology1.owl#>\n",
    "select distinct *\n",
    "where\n",
    "{\n",
    "    ?eats rdfs:subClassOf :animal, [\n",
    "        a owl:Restriction ;\n",
    "        owl:onProperty :eats;\n",
    "        owl:someValuesFrom $PPx1$\n",
    "        ] .\n",
    "    $PPx1$ rdfs:subClassOf :animal .\n",
    "    filter(?eats != owl:Nothing)\n",
    "}\n",
    "\"\"\"\n",
    "\n",
    "for animal in animal_list:\n",
    "    res = list(g.query_owlready(rq.replace(\"$PPx1$\", f\":{animal}\")))\n",
    "    print(f\"{animal}: {res}\")\n",
    "    "
   ]
  },
  {
   "cell_type": "code",
   "execution_count": 15,
   "metadata": {},
   "outputs": [
    {
     "data": {
      "text/plain": [
       "[True]"
      ]
     },
     "execution_count": 15,
     "metadata": {},
     "output_type": "execute_result"
    }
   ],
   "source": [
    "rq = \"\"\"\n",
    "# Are there animals that are carnivore but still eat some plants or parts of plants?\n",
    "\n",
    "\n",
    "prefix rdfs: <http://www.w3.org/2000/01/rdf-schema#>\n",
    "prefix owl: <http://www.w3.org/2002/07/owl#>\n",
    "prefix : <http://www.meteck.org/teaching/ontologies/AfricanWildlifeOntology1.owl#>\n",
    "\n",
    "ask\n",
    "where\n",
    "{\n",
    "    filter not exists {\n",
    "    :carnivore owl:disjointWith [\n",
    "            a owl:Restriction ;\n",
    "            owl:onProperty :eats ;\n",
    "                owl:someValuesFrom [\n",
    "                owl:unionOf (:plant :PlantParts)\n",
    "            ]\n",
    "        ] .\n",
    "    }\n",
    "}\n",
    "\n",
    "\"\"\"\n",
    "list(g.query_owlready(rq))"
   ]
  }
 ],
 "metadata": {
  "kernelspec": {
   "display_name": "Python 3",
   "language": "python",
   "name": "python3"
  },
  "language_info": {
   "codemirror_mode": {
    "name": "ipython",
    "version": 3
   },
   "file_extension": ".py",
   "mimetype": "text/x-python",
   "name": "python",
   "nbconvert_exporter": "python",
   "pygments_lexer": "ipython3",
   "version": "3.8.6"
  }
 },
 "nbformat": 4,
 "nbformat_minor": 4
}
