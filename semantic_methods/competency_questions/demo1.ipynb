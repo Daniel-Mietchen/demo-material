{
 "cells": [
  {
   "cell_type": "markdown",
   "metadata": {},
   "source": [
    "This notebook visualizes some of the content of the dataset\n",
    "\n",
    "[Potoniec, Jedrzej; Wiśniewski, Dawid ; Ławrynowicz, Agnieszka; Keet, Maria (2019), “Ontology Competency Questions to SPARQL-OWL Queries Translations”, Mendeley Data, V1, doi: 10.17632/pp6hmfxgfg.1](https://data.mendeley.com/datasets/pp6hmfxgfg/1)\n",
    "\n",
    "\n",
    "The dataset is licenced under **CC BY NC 3.0** and consists of 10 ontologies and 131 SPARQL-queries which are formalizations of competency questions. \n",
    "\n",
    "There is also a interesting [blog post](https://keet.wordpress.com/2020/01/09/a-set-of-competency-questions-and-sparql-owl-queries-with-analysis/) by M. Keet and a written publication:\n",
    "\n",
    "[*Potoniec, J., Wisniewski, D., Lawrynowicz, A., Keet, C.M.: **Dataset of Ontology Competency Questions to SPARQL-OWL Queries Translations.** Data in Brief, 2020*](https://doi.org/10.1016/j.dib.2019.105098).\n",
    "\n",
    "\n",
    "\n",
    "This notebook uses [Owlready2]() to interact with the ontologies, see also:\n",
    "\n",
    "[*Lamy, JB: Owlready: **Ontology-oriented programming in Python with automatic classification and high level constructs for biomedical ontologies**. Artificial Intelligence In Medicine 2017;80:11-28*](http://www.lesfleursdunormal.fr/_downloads/article_owlready_aim_2017.pdf)\n",
    "\n",
    "[*Lamy, JB: **Ontologies with Python**, Apress, 2020*](https://www.apress.com/fr/book/9781484265512)\n"
   ]
  },
  {
   "cell_type": "code",
   "execution_count": 1,
   "metadata": {},
   "outputs": [],
   "source": [
    "# enable magic comments for more understandible output (this can be savely removed)\n",
    "%load_ext ipydex.displaytools\n",
    "\n",
    "\n",
    "x = 3 ##:"
   ]
  },
  {
   "cell_type": "code",
   "execution_count": 2,
   "metadata": {},
   "outputs": [],
   "source": [
    "import owlready2 as owl2"
   ]
  },
  {
   "cell_type": "markdown",
   "metadata": {},
   "source": [
    "## Ontology 1: African Wildlife Ontology"
   ]
  },
  {
   "cell_type": "code",
   "execution_count": 3,
   "metadata": {},
   "outputs": [],
   "source": [
    "fpath = \"Ontologies/AfricanWildlifeOntology1.owl\"\n",
    "onto = owl2.get_ontology(fpath).load()\n",
    "g = owl2.default_world.as_rdflib_graph()"
   ]
  },
  {
   "cell_type": "code",
   "execution_count": 4,
   "metadata": {},
   "outputs": [
    {
     "data": {
      "text/plain": [
       "[[AfricanWildlifeOntology1.lion, AfricanWildlifeOntology1.Impala]]"
      ]
     },
     "execution_count": 4,
     "metadata": {},
     "output_type": "execute_result"
    }
   ],
   "source": [
    "rq = \"\"\"\n",
    "# awo_1.rq\n",
    "# Which animal eats which other animal?\n",
    "\n",
    "prefix rdfs: <http://www.w3.org/2000/01/rdf-schema#>\n",
    "prefix owl: <http://www.w3.org/2002/07/owl#>\n",
    "prefix : <http://www.meteck.org/teaching/ontologies/AfricanWildlifeOntology1.owl#>\n",
    "\n",
    "select distinct *\n",
    "where\n",
    "{\n",
    "    ?eats rdfs:subClassOf :animal, [\n",
    "        a owl:Restriction ;\n",
    "        owl:onProperty :eats;\n",
    "        owl:someValuesFrom ?eaten\n",
    "    ] .\n",
    "    ?eaten rdfs:subClassOf :animal .\n",
    "    filter(?eats != owl:Nothing)\n",
    "}\n",
    "\"\"\"\n",
    "list(g.query_owlready(rq))"
   ]
  },
  {
   "cell_type": "markdown",
   "metadata": {},
   "source": [
    "Note: Question 2 uses a variable `$PPx1$` in the source. This is not directly suported by pythons rdflib. Therefore we generate a list of all animals before and then run question 2 for each of these."
   ]
  },
  {
   "cell_type": "code",
   "execution_count": 5,
   "metadata": {},
   "outputs": [
    {
     "data": {
      "text/plain": [
       "nested_list := [[AfricanWildlifeOntology1.herbivore],\n",
       " [AfricanWildlifeOntology1.Impala],\n",
       " [AfricanWildlifeOntology1.Omnivore],\n",
       " [AfricanWildlifeOntology1.carnivore],\n",
       " [AfricanWildlifeOntology1.RockDassie],\n",
       " [AfricanWildlifeOntology1.Warthog],\n",
       " [AfricanWildlifeOntology1.giraffe],\n",
       " [AfricanWildlifeOntology1.lion]]"
      ]
     },
     "metadata": {},
     "output_type": "display_data"
    },
    {
     "data": {
      "text/plain": [
       "---"
      ]
     },
     "metadata": {},
     "output_type": "display_data"
    },
    {
     "data": {
      "text/plain": [
       "animal_list := ['herbivore',\n",
       " 'Impala',\n",
       " 'Omnivore',\n",
       " 'carnivore',\n",
       " 'RockDassie',\n",
       " 'Warthog',\n",
       " 'giraffe',\n",
       " 'lion']"
      ]
     },
     "metadata": {},
     "output_type": "display_data"
    },
    {
     "data": {
      "text/plain": [
       "---"
      ]
     },
     "metadata": {},
     "output_type": "display_data"
    }
   ],
   "source": [
    "rq = \"\"\"\n",
    "# preparation for awo_2.rq\n",
    "# Is [this animal] a herbivore?\n",
    "\n",
    "\n",
    "prefix rdfs: <http://www.w3.org/2000/01/rdf-schema#>\n",
    "prefix owl: <http://www.w3.org/2002/07/owl#>\n",
    "prefix : <http://www.meteck.org/teaching/ontologies/AfricanWildlifeOntology1.owl#>\n",
    "\n",
    "select distinct ?X\n",
    "where\n",
    "{\n",
    "    ?X rdfs:subClassOf :animal .\n",
    "}\n",
    "\"\"\"\n",
    "\n",
    "nested_list = list(g.query_owlready(rq)) ##:\n",
    "animal_list = [e[0].name for  e in nested_list] ##:"
   ]
  },
  {
   "cell_type": "code",
   "execution_count": 6,
   "metadata": {},
   "outputs": [
    {
     "name": "stdout",
     "output_type": "stream",
     "text": [
      "herbivore: [False]\n",
      "Impala: [False]\n",
      "Omnivore: [False]\n",
      "carnivore: [False]\n",
      "RockDassie: [False]\n",
      "Warthog: [False]\n",
      "giraffe: [False]\n",
      "lion: [False]\n"
     ]
    }
   ],
   "source": [
    "rq = \"\"\"\n",
    "# awo_2.rq\n",
    "# Is [this animal] a herbivore?\n",
    "\n",
    "\n",
    "prefix rdfs: <http://www.w3.org/2000/01/rdf-schema#>\n",
    "prefix owl: <http://www.w3.org/2002/07/owl#>\n",
    "prefix : <http://www.meteck.org/teaching/ontologies/AfricanWildlifeOntology1.owl#>\n",
    "\n",
    "ask where\n",
    "{\n",
    "$PPx1$ rdfs:subClassOf :animal, :herbivore .\n",
    "}\n",
    "\n",
    "\"\"\"\n",
    "\n",
    "for animal in animal_list:\n",
    "    res = list(g.query_owlready(rq.replace(\"$PPx1$\", f\":{animal}\")))\n",
    "    print(f\"{animal}: {res}\")\n",
    "\n"
   ]
  },
  {
   "cell_type": "markdown",
   "metadata": {},
   "source": [
    "The results looks strange: `giraffe` should be recognized as subclass of `herbivore`. (Note that the ontology does not contain any information on the eating disposition of `Impala`).\n",
    "\n",
    "Solution: running the reasoner:"
   ]
  },
  {
   "cell_type": "code",
   "execution_count": 7,
   "metadata": {},
   "outputs": [
    {
     "name": "stdout",
     "output_type": "stream",
     "text": [
      "CPU times: user 13.2 ms, sys: 330 µs, total: 13.5 ms\n",
      "Wall time: 3.17 s\n"
     ]
    }
   ],
   "source": [
    "%time owl2.sync_reasoner(debug=0)"
   ]
  },
  {
   "cell_type": "code",
   "execution_count": 8,
   "metadata": {},
   "outputs": [
    {
     "name": "stdout",
     "output_type": "stream",
     "text": [
      "herbivore: [False]\n",
      "Impala: [False]\n",
      "Omnivore: [False]\n",
      "carnivore: [False]\n",
      "RockDassie: [False]\n",
      "Warthog: [False]\n",
      "giraffe: [True]\n",
      "lion: [False]\n"
     ]
    }
   ],
   "source": [
    "for animal in animal_list:\n",
    "    res = list(g.query_owlready(rq.replace(\"$PPx1$\", f\":{animal}\")))\n",
    "    print(f\"{animal}: {res}\")"
   ]
  },
  {
   "cell_type": "markdown",
   "metadata": {},
   "source": [
    "Note: The numbering of the files in the dataset is not consecutive. In particular, the following files are present:\n",
    "\n",
    "```\n",
    "awo_1.rq\n",
    "awo_2.rq\n",
    "awo_4.rq\n",
    "awo_6.rq\n",
    "awo_7.rq\n",
    "awo_8.rq\n",
    "awo_14.rq\n",
    "```"
   ]
  },
  {
   "cell_type": "code",
   "execution_count": 9,
   "metadata": {},
   "outputs": [
    {
     "data": {
      "text/plain": [
       "[False]"
      ]
     },
     "execution_count": 9,
     "metadata": {},
     "output_type": "execute_result"
    }
   ],
   "source": [
    "rq = \"\"\"\n",
    "# awo_4.rq\n",
    "# Does a lion eat plants or plant parts?\n",
    "\n",
    "\n",
    "prefix rdfs: <http://www.w3.org/2000/01/rdf-schema#>\n",
    "prefix owl: <http://www.w3.org/2002/07/owl#>\n",
    "prefix : <http://www.meteck.org/teaching/ontologies/AfricanWildlifeOntology1.owl#>\n",
    "\n",
    "ask\n",
    "where\n",
    "{\n",
    "    :lion rdfs:subClassOf [\n",
    "        a owl:Restriction ;\n",
    "        owl:onProperty :eats ;\n",
    "        owl:someValuesFrom [\n",
    "            owl:unionOf (:plant :PlantParts)\n",
    "        ]\n",
    "    ] .\n",
    "}\n",
    "\"\"\"\n",
    "\n",
    "list(g.query_owlready(rq))"
   ]
  },
  {
   "cell_type": "code",
   "execution_count": 10,
   "metadata": {},
   "outputs": [
    {
     "data": {
      "text/plain": [
       "[[AfricanWildlifeOntology1.CarnivorousPlant]]"
      ]
     },
     "execution_count": 10,
     "metadata": {},
     "output_type": "execute_result"
    }
   ],
   "source": [
    "rq = \"\"\"\n",
    "# awo_6.rq\n",
    "# Which plants eat animals?\n",
    "\n",
    "prefix rdfs: <http://www.w3.org/2000/01/rdf-schema#>\n",
    "prefix owl: <http://www.w3.org/2002/07/owl#>\n",
    "prefix : <http://www.meteck.org/teaching/ontologies/AfricanWildlifeOntology1.owl#>\n",
    "\n",
    "select distinct ?eats\n",
    "where\n",
    "{\n",
    "    ?eats rdfs:subClassOf :plant, [\n",
    "            a owl:Restriction ;\n",
    "            owl:onProperty :eats;\n",
    "            owl:someValuesFrom :animal\n",
    "        ] .\n",
    "    filter(?eats != owl:Nothing)\n",
    "}\n",
    "\"\"\"\n",
    "list(g.query_owlready(rq))"
   ]
  },
  {
   "cell_type": "markdown",
   "metadata": {},
   "source": [
    "Note: awo_t.rq again contains a variable (`$PPx1$`). We use the same approach as for awo_2.rq"
   ]
  },
  {
   "cell_type": "code",
   "execution_count": 11,
   "metadata": {},
   "outputs": [
    {
     "name": "stdout",
     "output_type": "stream",
     "text": [
      "herbivore: []\n",
      "Impala: [[AfricanWildlifeOntology1.lion]]\n",
      "Omnivore: []\n",
      "carnivore: []\n",
      "RockDassie: []\n",
      "Warthog: []\n",
      "giraffe: []\n",
      "lion: []\n"
     ]
    }
   ],
   "source": [
    "rq = \"\"\"\n",
    "# awo_7.rq\n",
    "# Which animals eat [these animals]?\n",
    "\n",
    "\n",
    "prefix rdfs: <http://www.w3.org/2000/01/rdf-schema#>\n",
    "prefix owl: <http://www.w3.org/2002/07/owl#>\n",
    "prefix : <http://www.meteck.org/teaching/ontologies/AfricanWildlifeOntology1.owl#>\n",
    "\n",
    "select distinct *\n",
    "where\n",
    "{\n",
    "    ?eats rdfs:subClassOf :animal, [\n",
    "        a owl:Restriction ;\n",
    "        owl:onProperty :eats;\n",
    "        owl:someValuesFrom $PPx1$\n",
    "    ] .\n",
    "    $PPx1$ rdfs:subClassOf :animal .\n",
    "    filter(?eats != owl:Nothing)\n",
    "}\n",
    "\"\"\"\n",
    "\n",
    "for animal in animal_list:\n",
    "    res = list(g.query_owlready(rq.replace(\"$PPx1$\", f\":{animal}\")))\n",
    "    print(f\"{animal}: {res}\")"
   ]
  },
  {
   "cell_type": "code",
   "execution_count": 12,
   "metadata": {},
   "outputs": [
    {
     "name": "stdout",
     "output_type": "stream",
     "text": [
      "herbivore: []\n",
      "Impala: [[AfricanWildlifeOntology1.lion]]\n",
      "Omnivore: []\n",
      "carnivore: []\n",
      "RockDassie: []\n",
      "Warthog: []\n",
      "giraffe: []\n",
      "lion: []\n"
     ]
    }
   ],
   "source": [
    "rq = \"\"\"\n",
    "# awo_8.rq\n",
    "# Which animals are the predators of [these animals]?\n",
    "\n",
    "\n",
    "prefix rdfs: <http://www.w3.org/2000/01/rdf-schema#>\n",
    "prefix owl: <http://www.w3.org/2002/07/owl#>\n",
    "prefix : <http://www.meteck.org/teaching/ontologies/AfricanWildlifeOntology1.owl#>\n",
    "select distinct *\n",
    "where\n",
    "{\n",
    "    ?eats rdfs:subClassOf :animal, [\n",
    "        a owl:Restriction ;\n",
    "        owl:onProperty :eats;\n",
    "        owl:someValuesFrom $PPx1$\n",
    "        ] .\n",
    "    $PPx1$ rdfs:subClassOf :animal .\n",
    "    filter(?eats != owl:Nothing)\n",
    "}\n",
    "\"\"\"\n",
    "\n",
    "for animal in animal_list:\n",
    "    res = list(g.query_owlready(rq.replace(\"$PPx1$\", f\":{animal}\")))\n",
    "    print(f\"{animal}: {res}\")\n",
    "    "
   ]
  },
  {
   "cell_type": "code",
   "execution_count": 13,
   "metadata": {},
   "outputs": [
    {
     "data": {
      "text/plain": [
       "[True]"
      ]
     },
     "execution_count": 13,
     "metadata": {},
     "output_type": "execute_result"
    }
   ],
   "source": [
    "rq = \"\"\"\n",
    "# Are there animals that are carnivore but still eat some plants or parts of plants?\n",
    "\n",
    "\n",
    "prefix rdfs: <http://www.w3.org/2000/01/rdf-schema#>\n",
    "prefix owl: <http://www.w3.org/2002/07/owl#>\n",
    "prefix : <http://www.meteck.org/teaching/ontologies/AfricanWildlifeOntology1.owl#>\n",
    "\n",
    "ask\n",
    "where\n",
    "{\n",
    "    filter not exists {\n",
    "    :carnivore owl:disjointWith [\n",
    "            a owl:Restriction ;\n",
    "            owl:onProperty :eats ;\n",
    "                owl:someValuesFrom [\n",
    "                owl:unionOf (:plant :PlantParts)\n",
    "            ]\n",
    "        ] .\n",
    "    }\n",
    "}\n",
    "\n",
    "\"\"\"\n",
    "list(g.query_owlready(rq))"
   ]
  },
  {
   "cell_type": "markdown",
   "metadata": {},
   "source": [
    "## Ontology 2: DemCare"
   ]
  },
  {
   "cell_type": "code",
   "execution_count": 15,
   "metadata": {},
   "outputs": [
    {
     "data": {
      "text/plain": [
       "<owlready2.namespace.World at 0x7fbf24f11be0>"
      ]
     },
     "execution_count": 15,
     "metadata": {},
     "output_type": "execute_result"
    }
   ],
   "source": [
    "onto.world"
   ]
  },
  {
   "cell_type": "code",
   "execution_count": null,
   "metadata": {},
   "outputs": [],
   "source": []
  },
  {
   "cell_type": "code",
   "execution_count": 16,
   "metadata": {},
   "outputs": [
    {
     "ename": "OwlReadyOntologyParsingError",
     "evalue": "NTriples parsing error (or unrecognized file format) in http://www.w3.org/2006/time.",
     "output_type": "error",
     "traceback": [
      "\u001b[0;31m---------------------------------------------------------------------------\u001b[0m",
      "\u001b[0;31mValueError\u001b[0m                                Traceback (most recent call last)",
      "\u001b[0;32m/media/workcard/workstickdir/RST/expertise_system/ontologie_experimente/owlready2_cvk_fork/owlready2/driver.py\u001b[0m in \u001b[0;36mparse\u001b[0;34m(self, f, format, delete_existing_triples, default_base)\u001b[0m\n\u001b[1;32m    142\u001b[0m         \u001b[0;32mif\u001b[0m \u001b[0mowlready2_optimized\u001b[0m\u001b[0;34m:\u001b[0m\u001b[0;34m\u001b[0m\u001b[0;34m\u001b[0m\u001b[0m\n\u001b[0;32m--> 143\u001b[0;31m           \u001b[0mowlready2_optimized\u001b[0m\u001b[0;34m.\u001b[0m\u001b[0mparse_ntriples\u001b[0m\u001b[0;34m(\u001b[0m\u001b[0mf\u001b[0m\u001b[0;34m,\u001b[0m \u001b[0mobjs\u001b[0m\u001b[0;34m,\u001b[0m \u001b[0mdatas\u001b[0m\u001b[0;34m,\u001b[0m \u001b[0minsert_objs\u001b[0m\u001b[0;34m,\u001b[0m \u001b[0minsert_datas\u001b[0m\u001b[0;34m,\u001b[0m \u001b[0m_abbreviate\u001b[0m\u001b[0;34m,\u001b[0m \u001b[0mnew_blank\u001b[0m\u001b[0;34m,\u001b[0m \u001b[0mdefault_base\u001b[0m\u001b[0;34m)\u001b[0m\u001b[0;34m\u001b[0m\u001b[0;34m\u001b[0m\u001b[0m\n\u001b[0m\u001b[1;32m    144\u001b[0m \u001b[0;34m\u001b[0m\u001b[0m\n",
      "\u001b[0;32mowlready2_optimized.pyx\u001b[0m in \u001b[0;36mowlready2_optimized.parse_ntriples\u001b[0;34m()\u001b[0m\n",
      "\u001b[0;31mValueError\u001b[0m: need more than 1 value to unpack",
      "\nThe above exception was the direct cause of the following exception:\n",
      "\u001b[0;31mOwlReadyOntologyParsingError\u001b[0m              Traceback (most recent call last)",
      "\u001b[0;32m<ipython-input-16-a405deec3a29>\u001b[0m in \u001b[0;36m<module>\u001b[0;34m\u001b[0m\n\u001b[1;32m      1\u001b[0m \u001b[0mfpath\u001b[0m \u001b[0;34m=\u001b[0m \u001b[0;34m\"Ontologies/event.owl\"\u001b[0m\u001b[0;34m\u001b[0m\u001b[0;34m\u001b[0m\u001b[0m\n\u001b[0;32m----> 2\u001b[0;31m \u001b[0monto2\u001b[0m \u001b[0;34m=\u001b[0m \u001b[0mowl2\u001b[0m\u001b[0;34m.\u001b[0m\u001b[0mget_ontology\u001b[0m\u001b[0;34m(\u001b[0m\u001b[0mfpath\u001b[0m\u001b[0;34m)\u001b[0m\u001b[0;34m.\u001b[0m\u001b[0mload\u001b[0m\u001b[0;34m(\u001b[0m\u001b[0;34m)\u001b[0m\u001b[0;34m\u001b[0m\u001b[0;34m\u001b[0m\u001b[0m\n\u001b[0m\u001b[1;32m      3\u001b[0m \u001b[0mg\u001b[0m \u001b[0;34m=\u001b[0m \u001b[0mowl2\u001b[0m\u001b[0;34m.\u001b[0m\u001b[0mdefault_world\u001b[0m\u001b[0;34m.\u001b[0m\u001b[0mas_rdflib_graph\u001b[0m\u001b[0;34m(\u001b[0m\u001b[0;34m)\u001b[0m\u001b[0;34m\u001b[0m\u001b[0;34m\u001b[0m\u001b[0m\n",
      "\u001b[0;32m/media/workcard/workstickdir/RST/expertise_system/ontologie_experimente/owlready2_cvk_fork/owlready2/namespace.py\u001b[0m in \u001b[0;36mload\u001b[0;34m(self, only_local, fileobj, reload, reload_if_newer, **args)\u001b[0m\n\u001b[1;32m    814\u001b[0m \u001b[0;34m\u001b[0m\u001b[0m\n\u001b[1;32m    815\u001b[0m     \u001b[0;31m# Load imported ontologies\u001b[0m\u001b[0;34m\u001b[0m\u001b[0;34m\u001b[0m\u001b[0;34m\u001b[0m\u001b[0m\n\u001b[0;32m--> 816\u001b[0;31m     \u001b[0mimported_ontologies\u001b[0m \u001b[0;34m=\u001b[0m \u001b[0;34m[\u001b[0m\u001b[0mself\u001b[0m\u001b[0;34m.\u001b[0m\u001b[0mworld\u001b[0m\u001b[0;34m.\u001b[0m\u001b[0mget_ontology\u001b[0m\u001b[0;34m(\u001b[0m\u001b[0mself\u001b[0m\u001b[0;34m.\u001b[0m\u001b[0m_unabbreviate\u001b[0m\u001b[0;34m(\u001b[0m\u001b[0mabbrev_iri\u001b[0m\u001b[0;34m)\u001b[0m\u001b[0;34m)\u001b[0m\u001b[0;34m.\u001b[0m\u001b[0mload\u001b[0m\u001b[0;34m(\u001b[0m\u001b[0;34m)\u001b[0m \u001b[0;32mfor\u001b[0m \u001b[0mabbrev_iri\u001b[0m \u001b[0;32min\u001b[0m \u001b[0mself\u001b[0m\u001b[0;34m.\u001b[0m\u001b[0mworld\u001b[0m\u001b[0;34m.\u001b[0m\u001b[0m_get_obj_triples_sp_o\u001b[0m\u001b[0;34m(\u001b[0m\u001b[0mself\u001b[0m\u001b[0;34m.\u001b[0m\u001b[0mstorid\u001b[0m\u001b[0;34m,\u001b[0m \u001b[0mowl_imports\u001b[0m\u001b[0;34m)\u001b[0m\u001b[0;34m]\u001b[0m\u001b[0;34m\u001b[0m\u001b[0;34m\u001b[0m\u001b[0m\n\u001b[0m\u001b[1;32m    817\u001b[0m     \u001b[0mself\u001b[0m\u001b[0;34m.\u001b[0m\u001b[0m_imported_ontologies\u001b[0m\u001b[0;34m.\u001b[0m\u001b[0m_set\u001b[0m\u001b[0;34m(\u001b[0m\u001b[0mimported_ontologies\u001b[0m\u001b[0;34m)\u001b[0m\u001b[0;34m\u001b[0m\u001b[0;34m\u001b[0m\u001b[0m\n\u001b[1;32m    818\u001b[0m \u001b[0;34m\u001b[0m\u001b[0m\n",
      "\u001b[0;32m/media/workcard/workstickdir/RST/expertise_system/ontologie_experimente/owlready2_cvk_fork/owlready2/namespace.py\u001b[0m in \u001b[0;36m<listcomp>\u001b[0;34m(.0)\u001b[0m\n\u001b[1;32m    814\u001b[0m \u001b[0;34m\u001b[0m\u001b[0m\n\u001b[1;32m    815\u001b[0m     \u001b[0;31m# Load imported ontologies\u001b[0m\u001b[0;34m\u001b[0m\u001b[0;34m\u001b[0m\u001b[0;34m\u001b[0m\u001b[0m\n\u001b[0;32m--> 816\u001b[0;31m     \u001b[0mimported_ontologies\u001b[0m \u001b[0;34m=\u001b[0m \u001b[0;34m[\u001b[0m\u001b[0mself\u001b[0m\u001b[0;34m.\u001b[0m\u001b[0mworld\u001b[0m\u001b[0;34m.\u001b[0m\u001b[0mget_ontology\u001b[0m\u001b[0;34m(\u001b[0m\u001b[0mself\u001b[0m\u001b[0;34m.\u001b[0m\u001b[0m_unabbreviate\u001b[0m\u001b[0;34m(\u001b[0m\u001b[0mabbrev_iri\u001b[0m\u001b[0;34m)\u001b[0m\u001b[0;34m)\u001b[0m\u001b[0;34m.\u001b[0m\u001b[0mload\u001b[0m\u001b[0;34m(\u001b[0m\u001b[0;34m)\u001b[0m \u001b[0;32mfor\u001b[0m \u001b[0mabbrev_iri\u001b[0m \u001b[0;32min\u001b[0m \u001b[0mself\u001b[0m\u001b[0;34m.\u001b[0m\u001b[0mworld\u001b[0m\u001b[0;34m.\u001b[0m\u001b[0m_get_obj_triples_sp_o\u001b[0m\u001b[0;34m(\u001b[0m\u001b[0mself\u001b[0m\u001b[0;34m.\u001b[0m\u001b[0mstorid\u001b[0m\u001b[0;34m,\u001b[0m \u001b[0mowl_imports\u001b[0m\u001b[0;34m)\u001b[0m\u001b[0;34m]\u001b[0m\u001b[0;34m\u001b[0m\u001b[0;34m\u001b[0m\u001b[0m\n\u001b[0m\u001b[1;32m    817\u001b[0m     \u001b[0mself\u001b[0m\u001b[0;34m.\u001b[0m\u001b[0m_imported_ontologies\u001b[0m\u001b[0;34m.\u001b[0m\u001b[0m_set\u001b[0m\u001b[0;34m(\u001b[0m\u001b[0mimported_ontologies\u001b[0m\u001b[0;34m)\u001b[0m\u001b[0;34m\u001b[0m\u001b[0;34m\u001b[0m\u001b[0m\n\u001b[1;32m    818\u001b[0m \u001b[0;34m\u001b[0m\u001b[0m\n",
      "\u001b[0;32m/media/workcard/workstickdir/RST/expertise_system/ontologie_experimente/owlready2_cvk_fork/owlready2/namespace.py\u001b[0m in \u001b[0;36mload\u001b[0;34m(self, only_local, fileobj, reload, reload_if_newer, **args)\u001b[0m\n\u001b[1;32m    775\u001b[0m         \u001b[0;32mtry\u001b[0m\u001b[0;34m:\u001b[0m     \u001b[0mfileobj\u001b[0m \u001b[0;34m=\u001b[0m \u001b[0murllib\u001b[0m\u001b[0;34m.\u001b[0m\u001b[0mrequest\u001b[0m\u001b[0;34m.\u001b[0m\u001b[0murlopen\u001b[0m\u001b[0;34m(\u001b[0m\u001b[0mf\u001b[0m\u001b[0;34m)\u001b[0m\u001b[0;34m\u001b[0m\u001b[0;34m\u001b[0m\u001b[0m\n\u001b[1;32m    776\u001b[0m         \u001b[0;32mexcept\u001b[0m\u001b[0;34m:\u001b[0m  \u001b[0;32mraise\u001b[0m \u001b[0mOwlReadyOntologyParsingError\u001b[0m\u001b[0;34m(\u001b[0m\u001b[0;34m\"Cannot download '%s'!\"\u001b[0m \u001b[0;34m%\u001b[0m \u001b[0mf\u001b[0m\u001b[0;34m)\u001b[0m\u001b[0;34m\u001b[0m\u001b[0;34m\u001b[0m\u001b[0m\n\u001b[0;32m--> 777\u001b[0;31m         \u001b[0;32mtry\u001b[0m\u001b[0;34m:\u001b[0m     \u001b[0mnew_base_iri\u001b[0m \u001b[0;34m=\u001b[0m \u001b[0mself\u001b[0m\u001b[0;34m.\u001b[0m\u001b[0mgraph\u001b[0m\u001b[0;34m.\u001b[0m\u001b[0mparse\u001b[0m\u001b[0;34m(\u001b[0m\u001b[0mfileobj\u001b[0m\u001b[0;34m,\u001b[0m \u001b[0mdefault_base\u001b[0m \u001b[0;34m=\u001b[0m \u001b[0mself\u001b[0m\u001b[0;34m.\u001b[0m\u001b[0mbase_iri\u001b[0m\u001b[0;34m,\u001b[0m \u001b[0;34m**\u001b[0m\u001b[0margs\u001b[0m\u001b[0;34m)\u001b[0m\u001b[0;34m\u001b[0m\u001b[0;34m\u001b[0m\u001b[0m\n\u001b[0m\u001b[1;32m    778\u001b[0m         \u001b[0;32mfinally\u001b[0m\u001b[0;34m:\u001b[0m \u001b[0mfileobj\u001b[0m\u001b[0;34m.\u001b[0m\u001b[0mclose\u001b[0m\u001b[0;34m(\u001b[0m\u001b[0;34m)\u001b[0m\u001b[0;34m\u001b[0m\u001b[0;34m\u001b[0m\u001b[0m\n\u001b[1;32m    779\u001b[0m     \u001b[0;32melif\u001b[0m \u001b[0mfileobj\u001b[0m\u001b[0;34m:\u001b[0m\u001b[0;34m\u001b[0m\u001b[0;34m\u001b[0m\u001b[0m\n",
      "\u001b[0;32m/media/workcard/workstickdir/RST/expertise_system/ontologie_experimente/owlready2_cvk_fork/owlready2/driver.py\u001b[0m in \u001b[0;36mparse\u001b[0;34m(self, f, format, delete_existing_triples, default_base)\u001b[0m\n\u001b[1;32m    188\u001b[0m           \u001b[0;32mraise\u001b[0m \u001b[0mOwlReadyOntologyParsingError\u001b[0m\u001b[0;34m(\u001b[0m\u001b[0;34m\"NTriples parsing error (or unrecognized file format) in %s, line %s.\"\u001b[0m \u001b[0;34m%\u001b[0m \u001b[0;34m(\u001b[0m\u001b[0mgetattr\u001b[0m\u001b[0;34m(\u001b[0m\u001b[0mf\u001b[0m\u001b[0;34m,\u001b[0m \u001b[0;34m\"name\"\u001b[0m\u001b[0;34m,\u001b[0m \u001b[0mgetattr\u001b[0m\u001b[0;34m(\u001b[0m\u001b[0mf\u001b[0m\u001b[0;34m,\u001b[0m \u001b[0;34m\"url\"\u001b[0m\u001b[0;34m,\u001b[0m \u001b[0;34m\"???\"\u001b[0m\u001b[0;34m)\u001b[0m\u001b[0;34m)\u001b[0m\u001b[0;34m,\u001b[0m \u001b[0mcurrent_line\u001b[0m\u001b[0;34m)\u001b[0m\u001b[0;34m)\u001b[0m \u001b[0;32mfrom\u001b[0m \u001b[0me\u001b[0m\u001b[0;34m\u001b[0m\u001b[0;34m\u001b[0m\u001b[0m\n\u001b[1;32m    189\u001b[0m         \u001b[0;32melse\u001b[0m\u001b[0;34m:\u001b[0m\u001b[0;34m\u001b[0m\u001b[0;34m\u001b[0m\u001b[0m\n\u001b[0;32m--> 190\u001b[0;31m           \u001b[0;32mraise\u001b[0m \u001b[0mOwlReadyOntologyParsingError\u001b[0m\u001b[0;34m(\u001b[0m\u001b[0;34m\"NTriples parsing error (or unrecognized file format) in %s.\"\u001b[0m \u001b[0;34m%\u001b[0m \u001b[0mgetattr\u001b[0m\u001b[0;34m(\u001b[0m\u001b[0mf\u001b[0m\u001b[0;34m,\u001b[0m \u001b[0;34m\"name\"\u001b[0m\u001b[0;34m,\u001b[0m \u001b[0mgetattr\u001b[0m\u001b[0;34m(\u001b[0m\u001b[0mf\u001b[0m\u001b[0;34m,\u001b[0m \u001b[0;34m\"url\"\u001b[0m\u001b[0;34m,\u001b[0m \u001b[0;34m\"???\"\u001b[0m\u001b[0;34m)\u001b[0m\u001b[0;34m)\u001b[0m\u001b[0;34m)\u001b[0m \u001b[0;32mfrom\u001b[0m \u001b[0me\u001b[0m\u001b[0;34m\u001b[0m\u001b[0;34m\u001b[0m\u001b[0m\n\u001b[0m\u001b[1;32m    191\u001b[0m \u001b[0;34m\u001b[0m\u001b[0m\n\u001b[1;32m    192\u001b[0m     \u001b[0;32melif\u001b[0m \u001b[0mformat\u001b[0m \u001b[0;34m==\u001b[0m \u001b[0;34m\"rdfxml\"\u001b[0m\u001b[0;34m:\u001b[0m\u001b[0;34m\u001b[0m\u001b[0;34m\u001b[0m\u001b[0m\n",
      "\u001b[0;31mOwlReadyOntologyParsingError\u001b[0m: NTriples parsing error (or unrecognized file format) in http://www.w3.org/2006/time."
     ]
    }
   ],
   "source": [
    "fpath = \"Ontologies/event.owl\"\n",
    "onto2 = owl2.get_ontology(fpath).load()\n",
    "g = owl2.default_world.as_rdflib_graph()"
   ]
  },
  {
   "cell_type": "code",
   "execution_count": null,
   "metadata": {},
   "outputs": [],
   "source": [
    "rq = \"\"\"\n",
    "# DemCare_CQ_3.rq\n",
    "# What types of demographic data are collected?\n",
    "\n",
    "\n",
    "PREFIX rdf: <http://www.w3.org/1999/02/22-rdf-syntax-ns#>\n",
    "PREFIX owl: <http://www.w3.org/2002/07/owl#>\n",
    "PREFIX rdfs: <http://www.w3.org/2000/01/rdf-schema#>\n",
    "PREFIX xsd: <http://www.w3.org/2001/XMLSchema#>\n",
    "PREFIX lab: <http://www.demcare.eu/ontologies/lab.owl#>\n",
    "\n",
    "SELECT ?p\n",
    "WHERE {  lab:DemographicCharacteristicsRecord rdfs:subClassOf [\n",
    "a owl:Restriction ;\n",
    "    owl:onProperty ?p;\n",
    "    owl:someValuesFrom []\n",
    "    ].\n",
    "}\n",
    "\n",
    "\"\"\""
   ]
  }
 ],
 "metadata": {
  "kernelspec": {
   "display_name": "Python 3",
   "language": "python",
   "name": "python3"
  },
  "language_info": {
   "codemirror_mode": {
    "name": "ipython",
    "version": 3
   },
   "file_extension": ".py",
   "mimetype": "text/x-python",
   "name": "python",
   "nbconvert_exporter": "python",
   "pygments_lexer": "ipython3",
   "version": "3.8.6"
  }
 },
 "nbformat": 4,
 "nbformat_minor": 4
}
